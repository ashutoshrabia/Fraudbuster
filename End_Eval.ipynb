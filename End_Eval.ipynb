{
  "cells": [
    {
      "cell_type": "markdown",
      "metadata": {
        "id": "view-in-github",
        "colab_type": "text"
      },
      "source": [
        "<a href=\"https://colab.research.google.com/github/ashutoshrabia/Fraudbuster/blob/main/End_Eval.ipynb\" target=\"_parent\"><img src=\"https://colab.research.google.com/assets/colab-badge.svg\" alt=\"Open In Colab\"/></a>"
      ]
    },
    {
      "cell_type": "code",
      "source": [
        ".from google.colab import drive\n",
        "drive.mount('/content/drive')"
      ],
      "metadata": {
        "colab": {
          "base_uri": "https://localhost:8080/"
        },
        "id": "ciNmbXxHorrl",
        "outputId": "c6536758-2aa6-493c-a4fc-c60a3272f994"
      },
      "execution_count": null,
      "outputs": [
        {
          "output_type": "stream",
          "name": "stdout",
          "text": [
            "Drive already mounted at /content/drive; to attempt to forcibly remount, call drive.mount(\"/content/drive\", force_remount=True).\n"
          ]
        }
      ]
    },
    {
      "cell_type": "code",
      "source": [],
      "metadata": {
        "id": "gu3o2Njypc3B"
      },
      "execution_count": null,
      "outputs": []
    },
    {
      "cell_type": "markdown",
      "metadata": {
        "id": "CPQ-bXr0wf-K"
      },
      "source": [
        "#Mentees:\n",
        "Sanya\n",
        "\n",
        "Ashutosh Rabia\n",
        "\n",
        "Priyanka Choudhary\n",
        "\n",
        "Anunay Minj\n",
        "\n",
        "Push Singh\n",
        "\n",
        "Vaibhav Agarwal\n",
        "\n",
        "Gaurav Kumar"
      ]
    },
    {
      "cell_type": "markdown",
      "metadata": {
        "id": "HaesUy9kn0VW"
      },
      "source": [
        "# You will work on Credit card fraud detection. Below are the points to be covered\n",
        "\n",
        "Exploratory data analysis, Visual representations, outliers, imputations, correlation, imabalanced dataset, sampling, random, SMOTE, feature engineering, PCA, Classifiers, SVM, decision trees, XGBoost, logistic regression, accuracy and scores. Clustering\n"
      ]
    },
    {
      "cell_type": "code",
      "execution_count": null,
      "metadata": {
        "id": "DQ8J08__n7Qv"
      },
      "outputs": [],
      "source": [
        "import pandas as pd\n",
        "import numpy as np\n",
        "%matplotlib inline\n",
        "import matplotlib.pyplot as plt\n",
        "import scipy.stats as stats\n",
        "from sklearn import tree\n",
        "import seaborn as sns\n",
        "from sklearn.preprocessing import LabelEncoder\n",
        "from sklearn.model_selection import train_test_split, learning_curve\n",
        "from sklearn.metrics import average_precision_score\n",
        "from xgboost.sklearn import XGBClassifier\n",
        "from sklearn.preprocessing import OrdinalEncoder\n",
        "from sklearn.impute import SimpleImputer\n",
        "from sklearn.metrics import f1_score\n",
        "from sklearn.metrics import accuracy_score\n",
        "from sklearn.metrics import precision_score\n",
        "from sklearn.metrics import recall_score\n",
        "from sklearn.linear_model import LinearRegression\n",
        "from sklearn.linear_model import LogisticRegression\n",
        "from sklearn.metrics import classification_report\n",
        "from sklearn.model_selection import RandomizedSearchCV\n",
        "from sklearn.ensemble import RandomForestRegressor, RandomForestClassifier\n",
        "from sklearn.ensemble import GradientBoostingClassifier\n",
        "from mpl_toolkits.mplot3d import Axes3D\n",
        "from sklearn.preprocessing import StandardScaler\n",
        "import os\n",
        "from sklearn.decomposition import PCA\n",
        "from imblearn.over_sampling import SMOTE\n",
        "import xgboost as xgb\n",
        "from scipy.stats import pearsonr\n",
        "from scipy import stats\n",
        "from sklearn.svm import LinearSVC\n",
        "from sklearn.preprocessing import normalize, StandardScaler\n",
        "from sklearn.utils.class_weight import compute_sample_weight\n",
        "from sklearn.metrics import roc_auc_score\n",
        "import time\n",
        "from sklearn.metrics import roc_auc_score\n",
        "import gc, sys\n",
        "from sklearn.tree import DecisionTreeClassifier\n",
        "from sklearn.neighbors import KNeighborsClassifier\n",
        "from sklearn.neural_network import MLPClassifier\n",
        "from sklearn import svm, datasets\n",
        "from sklearn.metrics import confusion_matrix"
      ]
    },
    {
      "cell_type": "code",
      "execution_count": null,
      "metadata": {
        "id": "MT4GxAffvsVl"
      },
      "outputs": [],
      "source": [
        "df= pd.read_csv('creditcard.csv')"
      ]
    },
    {
      "cell_type": "markdown",
      "metadata": {
        "id": "c7hspqql2MU-"
      },
      "source": [
        "### Exploratory Data Analysis"
      ]
    },
    {
      "cell_type": "code",
      "execution_count": null,
      "metadata": {
        "colab": {
          "base_uri": "https://localhost:8080/"
        },
        "id": "NkzRDiH-xFTK",
        "outputId": "48f8b594-2e7b-4558-b8e4-b192da2fb8df"
      },
      "outputs": [
        {
          "output_type": "execute_result",
          "data": {
            "text/plain": [
              "(140703, 31)"
            ]
          },
          "metadata": {},
          "execution_count": 525
        }
      ],
      "source": [
        "df.shape"
      ]
    },
    {
      "cell_type": "code",
      "execution_count": null,
      "metadata": {
        "colab": {
          "base_uri": "https://localhost:8080/"
        },
        "id": "9At5xc341oOm",
        "outputId": "0ad35006-7922-4067-aa2d-9d20be3d1278"
      },
      "outputs": [
        {
          "output_type": "stream",
          "name": "stdout",
          "text": [
            "There are 140703  Rows and 31  columns in the given dataset\n"
          ]
        }
      ],
      "source": [
        "print(\"There are \"+str(len(df))+ \"  Rows and \"+str(len(df.columns)) + \"  columns in the given dataset\" )\n"
      ]
    },
    {
      "cell_type": "markdown",
      "metadata": {
        "id": "1JxHqOU67msw"
      },
      "source": [
        "### Visual Representation"
      ]
    },
    {
      "cell_type": "code",
      "execution_count": null,
      "metadata": {
        "colab": {
          "base_uri": "https://localhost:8080/",
          "height": 430
        },
        "id": "7ySnXC2i6VFy",
        "outputId": "b34dcab5-d9d7-45f4-87c2-f2c34dd1d54e"
      },
      "outputs": [
        {
          "output_type": "display_data",
          "data": {
            "text/plain": [
              "<Figure size 640x480 with 1 Axes>"
            ],
            "image/png": "[encoded data removed]"
          },
          "metadata": {}
        }
      ],
      "source": [
        "plt.hist(df, 6, histtype='bar', facecolor='g')\n",
        "plt.show()"
      ]
    },
    {
      "cell_type": "code",
      "execution_count": null,
      "metadata": {
        "colab": {
          "base_uri": "https://localhost:8080/",
          "height": 456
        },
        "id": "osuH_GDoB3fS",
        "outputId": "3dc53c9b-a1d1-4290-d803-dcef6b1060a6"
      },
      "outputs": [
        {
          "output_type": "execute_result",
          "data": {
            "text/plain": [
              "   Time        V1        V2        V3        V4        V5        V6        V7  \\\n",
              "0     0 -1.359807 -0.072781  2.536347  1.378155 -0.338321  0.462388  0.239599   \n",
              "1     0  1.191857  0.266151  0.166480  0.448154  0.060018 -0.082361 -0.078803   \n",
              "2     1 -1.358354 -1.340163  1.773209  0.379780 -0.503198  1.800499  0.791461   \n",
              "3     1 -0.966272 -0.185226  1.792993 -0.863291 -0.010309  1.247203  0.237609   \n",
              "4     2 -1.158233  0.877737  1.548718  0.403034 -0.407193  0.095921  0.592941   \n",
              "5     2 -0.425966  0.960523  1.141109 -0.168252  0.420987 -0.029728  0.476201   \n",
              "6     4  1.229658  0.141004  0.045371  1.202613  0.191881  0.272708 -0.005159   \n",
              "7     7 -0.644269  1.417964  1.074380 -0.492199  0.948934  0.428118  1.120631   \n",
              "8     7 -0.894286  0.286157 -0.113192 -0.271526  2.669599  3.721818  0.370145   \n",
              "9     9 -0.338262  1.119593  1.044367 -0.222187  0.499361 -0.246761  0.651583   \n",
              "\n",
              "         V8        V9  ...       V21       V22       V23       V24       V25  \\\n",
              "0  0.098698  0.363787  ... -0.018307  0.277838 -0.110474  0.066928  0.128539   \n",
              "1  0.085102 -0.255425  ... -0.225775 -0.638672  0.101288 -0.339846  0.167170   \n",
              "2  0.247676 -1.514654  ...  0.247998  0.771679  0.909412 -0.689281 -0.327642   \n",
              "3  0.377436 -1.387024  ... -0.108300  0.005274 -0.190321 -1.175575  0.647376   \n",
              "4 -0.270533  0.817739  ... -0.009431  0.798278 -0.137458  0.141267 -0.206010   \n",
              "5  0.260314 -0.568671  ... -0.208254 -0.559825 -0.026398 -0.371427 -0.232794   \n",
              "6  0.081213  0.464960  ... -0.167716 -0.270710 -0.154104 -0.780055  0.750137   \n",
              "7 -3.807864  0.615375  ...  1.943465 -1.015455  0.057504 -0.649709 -0.415267   \n",
              "8  0.851084 -0.392048  ... -0.073425 -0.268092 -0.204233  1.011592  0.373205   \n",
              "9  0.069539 -0.736727  ... -0.246914 -0.633753 -0.120794 -0.385050 -0.069733   \n",
              "\n",
              "        V26       V27       V28  Amount  Class  \n",
              "0 -0.189115  0.133558 -0.021053  149.62    0.0  \n",
              "1  0.125895 -0.008983  0.014724    2.69    0.0  \n",
              "2 -0.139097 -0.055353 -0.059752  378.66    0.0  \n",
              "3 -0.221929  0.062723  0.061458  123.50    0.0  \n",
              "4  0.502292  0.219422  0.215153   69.99    0.0  \n",
              "5  0.105915  0.253844  0.081080    3.67    0.0  \n",
              "6 -0.257237  0.034507  0.005168    4.99    0.0  \n",
              "7 -0.051634 -1.206921 -1.085339   40.80    0.0  \n",
              "8 -0.384157  0.011747  0.142404   93.20    0.0  \n",
              "9  0.094199  0.246219  0.083076    3.68    0.0  \n",
              "\n",
              "[10 rows x 31 columns]"
            ],
            "text/html": [
              "\n",
              "\n",
              "  <div id=\"df-1222a3b8-2ca4-4d4b-aef2-4860cde8fdd3\">\n",
              "    <div class=\"colab-df-container\">\n",
              "      <div>\n",
              "<style scoped>\n",
              "    .dataframe tbody tr th:only-of-type {\n",
              "        vertical-align: middle;\n",
              "    }\n",
              "\n",
              "    .dataframe tbody tr th {\n",
              "        vertical-align: top;\n",
              "    }\n",
              "\n",
              "    .dataframe thead th {\n",
              "        text-align: right;\n",
              "    }\n",
              "</style>\n",
              "<table border=\"1\" class=\"dataframe\">\n",
              "  <thead>\n",
              "    <tr style=\"text-align: right;\">\n",
              "      <th></th>\n",
              "      <th>Time</th>\n",
              "      <th>V1</th>\n",
              "      <th>V2</th>\n",
              "      <th>V3</th>\n",
              "      <th>V4</th>\n",
              "      <th>V5</th>\n",
              "      <th>V6</th>\n",
              "      <th>V7</th>\n",
              "      <th>V8</th>\n",
              "      <th>V9</th>\n",
              "      <th>...</th>\n",
              "      <th>V21</th>\n",
              "      <th>V22</th>\n",
              "      <th>V23</th>\n",
              "      <th>V24</th>\n",
              "      <th>V25</th>\n",
              "      <th>V26</th>\n",
              "      <th>V27</th>\n",
              "      <th>V28</th>\n",
              "      <th>Amount</th>\n",
              "      <th>Class</th>\n",
              "    </tr>\n",
              "  </thead>\n",
              "  <tbody>\n",
              "    <tr>\n",
              "      <th>0</th>\n",
              "      <td>0</td>\n",
              "      <td>-1.359807</td>\n",
              "      <td>-0.072781</td>\n",
              "      <td>2.536347</td>\n",
              "      <td>1.378155</td>\n",
              "      <td>-0.338321</td>\n",
              "      <td>0.462388</td>\n",
              "      <td>0.239599</td>\n",
              "      <td>0.098698</td>\n",
              "      <td>0.363787</td>\n",
              "      <td>...</td>\n",
              "      <td>-0.018307</td>\n",
              "      <td>0.277838</td>\n",
              "      <td>-0.110474</td>\n",
              "      <td>0.066928</td>\n",
              "      <td>0.128539</td>\n",
              "      <td>-0.189115</td>\n",
              "      <td>0.133558</td>\n",
              "      <td>-0.021053</td>\n",
              "      <td>149.62</td>\n",
              "      <td>0.0</td>\n",
              "    </tr>\n",
              "    <tr>\n",
              "      <th>1</th>\n",
              "      <td>0</td>\n",
              "      <td>1.191857</td>\n",
              "      <td>0.266151</td>\n",
              "      <td>0.166480</td>\n",
              "      <td>0.448154</td>\n",
              "      <td>0.060018</td>\n",
              "      <td>-0.082361</td>\n",
              "      <td>-0.078803</td>\n",
              "      <td>0.085102</td>\n",
              "      <td>-0.255425</td>\n",
              "      <td>...</td>\n",
              "      <td>-0.225775</td>\n",
              "      <td>-0.638672</td>\n",
              "      <td>0.101288</td>\n",
              "      <td>-0.339846</td>\n",
              "      <td>0.167170</td>\n",
              "      <td>0.125895</td>\n",
              "      <td>-0.008983</td>\n",
              "      <td>0.014724</td>\n",
              "      <td>2.69</td>\n",
              "      <td>0.0</td>\n",
              "    </tr>\n",
              "    <tr>\n",
              "      <th>2</th>\n",
              "      <td>1</td>\n",
              "      <td>-1.358354</td>\n",
              "      <td>-1.340163</td>\n",
              "      <td>1.773209</td>\n",
              "      <td>0.379780</td>\n",
              "      <td>-0.503198</td>\n",
              "      <td>1.800499</td>\n",
              "      <td>0.791461</td>\n",
              "      <td>0.247676</td>\n",
              "      <td>-1.514654</td>\n",
              "      <td>...</td>\n",
              "      <td>0.247998</td>\n",
              "      <td>0.771679</td>\n",
              "      <td>0.909412</td>\n",
              "      <td>-0.689281</td>\n",
              "      <td>-0.327642</td>\n",
              "      <td>-0.139097</td>\n",
              "      <td>-0.055353</td>\n",
              "      <td>-0.059752</td>\n",
              "      <td>378.66</td>\n",
              "      <td>0.0</td>\n",
              "    </tr>\n",
              "    <tr>\n",
              "      <th>3</th>\n",
              "      <td>1</td>\n",
              "      <td>-0.966272</td>\n",
              "      <td>-0.185226</td>\n",
              "      <td>1.792993</td>\n",
              "      <td>-0.863291</td>\n",
              "      <td>-0.010309</td>\n",
              "      <td>1.247203</td>\n",
              "      <td>0.237609</td>\n",
              "      <td>0.377436</td>\n",
              "      <td>-1.387024</td>\n",
              "      <td>...</td>\n",
              "      <td>-0.108300</td>\n",
              "      <td>0.005274</td>\n",
              "      <td>-0.190321</td>\n",
              "      <td>-1.175575</td>\n",
              "      <td>0.647376</td>\n",
              "      <td>-0.221929</td>\n",
              "      <td>0.062723</td>\n",
              "      <td>0.061458</td>\n",
              "      <td>123.50</td>\n",
              "      <td>0.0</td>\n",
              "    </tr>\n",
              "    <tr>\n",
              "      <th>4</th>\n",
              "      <td>2</td>\n",
              "      <td>-1.158233</td>\n",
              "      <td>0.877737</td>\n",
              "      <td>1.548718</td>\n",
              "      <td>0.403034</td>\n",
              "      <td>-0.407193</td>\n",
              "      <td>0.095921</td>\n",
              "      <td>0.592941</td>\n",
              "      <td>-0.270533</td>\n",
              "      <td>0.817739</td>\n",
              "      <td>...</td>\n",
              "      <td>-0.009431</td>\n",
              "      <td>0.798278</td>\n",
              "      <td>-0.137458</td>\n",
              "      <td>0.141267</td>\n",
              "      <td>-0.206010</td>\n",
              "      <td>0.502292</td>\n",
              "      <td>0.219422</td>\n",
              "      <td>0.215153</td>\n",
              "      <td>69.99</td>\n",
              "      <td>0.0</td>\n",
              "    </tr>\n",
              "    <tr>\n",
              "      <th>5</th>\n",
              "      <td>2</td>\n",
              "      <td>-0.425966</td>\n",
              "      <td>0.960523</td>\n",
              "      <td>1.141109</td>\n",
              "      <td>-0.168252</td>\n",
              "      <td>0.420987</td>\n",
              "      <td>-0.029728</td>\n",
              "      <td>0.476201</td>\n",
              "      <td>0.260314</td>\n",
              "      <td>-0.568671</td>\n",
              "      <td>...</td>\n",
              "      <td>-0.208254</td>\n",
              "      <td>-0.559825</td>\n",
              "      <td>-0.026398</td>\n",
              "      <td>-0.371427</td>\n",
              "      <td>-0.232794</td>\n",
              "      <td>0.105915</td>\n",
              "      <td>0.253844</td>\n",
              "      <td>0.081080</td>\n",
              "      <td>3.67</td>\n",
              "      <td>0.0</td>\n",
              "    </tr>\n",
              "    <tr>\n",
              "      <th>6</th>\n",
              "      <td>4</td>\n",
              "      <td>1.229658</td>\n",
              "      <td>0.141004</td>\n",
              "      <td>0.045371</td>\n",
              "      <td>1.202613</td>\n",
              "      <td>0.191881</td>\n",
              "      <td>0.272708</td>\n",
              "      <td>-0.005159</td>\n",
              "      <td>0.081213</td>\n",
              "      <td>0.464960</td>\n",
              "      <td>...</td>\n",
              "      <td>-0.167716</td>\n",
              "      <td>-0.270710</td>\n",
              "      <td>-0.154104</td>\n",
              "      <td>-0.780055</td>\n",
              "      <td>0.750137</td>\n",
              "      <td>-0.257237</td>\n",
              "      <td>0.034507</td>\n",
              "      <td>0.005168</td>\n",
              "      <td>4.99</td>\n",
              "      <td>0.0</td>\n",
              "    </tr>\n",
              "    <tr>\n",
              "      <th>7</th>\n",
              "      <td>7</td>\n",
              "      <td>-0.644269</td>\n",
              "      <td>1.417964</td>\n",
              "      <td>1.074380</td>\n",
              "      <td>-0.492199</td>\n",
              "      <td>0.948934</td>\n",
              "      <td>0.428118</td>\n",
              "      <td>1.120631</td>\n",
              "      <td>-3.807864</td>\n",
              "      <td>0.615375</td>\n",
              "      <td>...</td>\n",
              "      <td>1.943465</td>\n",
              "      <td>-1.015455</td>\n",
              "      <td>0.057504</td>\n",
              "      <td>-0.649709</td>\n",
              "      <td>-0.415267</td>\n",
              "      <td>-0.051634</td>\n",
              "      <td>-1.206921</td>\n",
              "      <td>-1.085339</td>\n",
              "      <td>40.80</td>\n",
              "      <td>0.0</td>\n",
              "    </tr>\n",
              "    <tr>\n",
              "      <th>8</th>\n",
              "      <td>7</td>\n",
              "      <td>-0.894286</td>\n",
              "      <td>0.286157</td>\n",
              "      <td>-0.113192</td>\n",
              "      <td>-0.271526</td>\n",
              "      <td>2.669599</td>\n",
              "      <td>3.721818</td>\n",
              "      <td>0.370145</td>\n",
              "      <td>0.851084</td>\n",
              "      <td>-0.392048</td>\n",
              "      <td>...</td>\n",
              "      <td>-0.073425</td>\n",
              "      <td>-0.268092</td>\n",
              "      <td>-0.204233</td>\n",
              "      <td>1.011592</td>\n",
              "      <td>0.373205</td>\n",
              "      <td>-0.384157</td>\n",
              "      <td>0.011747</td>\n",
              "      <td>0.142404</td>\n",
              "      <td>93.20</td>\n",
              "      <td>0.0</td>\n",
              "    </tr>\n",
              "    <tr>\n",
              "      <th>9</th>\n",
              "      <td>9</td>\n",
              "      <td>-0.338262</td>\n",
              "      <td>1.119593</td>\n",
              "      <td>1.044367</td>\n",
              "      <td>-0.222187</td>\n",
              "      <td>0.499361</td>\n",
              "      <td>-0.246761</td>\n",
              "      <td>0.651583</td>\n",
              "      <td>0.069539</td>\n",
              "      <td>-0.736727</td>\n",
              "      <td>...</td>\n",
              "      <td>-0.246914</td>\n",
              "      <td>-0.633753</td>\n",
              "      <td>-0.120794</td>\n",
              "      <td>-0.385050</td>\n",
              "      <td>-0.069733</td>\n",
              "      <td>0.094199</td>\n",
              "      <td>0.246219</td>\n",
              "      <td>0.083076</td>\n",
              "      <td>3.68</td>\n",
              "      <td>0.0</td>\n",
              "    </tr>\n",
              "  </tbody>\n",
              "</table>\n",
              "<p>10 rows × 31 columns</p>\n",
              "</div>\n",
              "      <button class=\"colab-df-convert\" onclick=\"convertToInteractive('df-1222a3b8-2ca4-4d4b-aef2-4860cde8fdd3')\"\n",
              "              title=\"Convert this dataframe to an interactive table.\"\n",
              "              style=\"display:none;\">\n",
              "\n",
              "  <svg xmlns=\"http://www.w3.org/2000/svg\" height=\"24px\"viewBox=\"0 0 24 24\"\n",
              "       width=\"24px\">\n",
              "    <path d=\"M0 0h24v24H0V0z\" fill=\"none\"/>\n",
              "    <path d=\"M18.56 5.44l.94 2.06.94-2.06 2.06-.94-2.06-.94-.94-2.06-.94 2.06-2.06.94zm-11 1L8.5 8.5l.94-2.06 2.06-.94-2.06-.94L8.5 2.5l-.94 2.06-2.06.94zm10 10l.94 2.06.94-2.06 2.06-.94-2.06-.94-.94-2.06-.94 2.06-2.06.94z\"/><path d=\"M17.41 7.96l-1.37-1.37c-.4-.4-.92-.59-1.43-.59-.52 0-1.04.2-1.43.59L10.3 9.45l-7.72 7.72c-.78.78-.78 2.05 0 2.83L4 21.41c.39.39.9.59 1.41.59.51 0 1.02-.2 1.41-.59l7.78-7.78 2.81-2.81c.8-.78.8-2.07 0-2.86zM5.41 20L4 18.59l7.72-7.72 1.47 1.35L5.41 20z\"/>\n",
              "  </svg>\n",
              "      </button>\n",
              "\n",
              "\n",
              "\n",
              "    <div id=\"df-9a0b75da-049d-4b00-8b9b-341d5ecff5bc\">\n",
              "      <button class=\"colab-df-quickchart\" onclick=\"quickchart('df-9a0b75da-049d-4b00-8b9b-341d5ecff5bc')\"\n",
              "              title=\"Suggest charts.\"\n",
              "              style=\"display:none;\">\n",
              "\n",
              "<svg xmlns=\"http://www.w3.org/2000/svg\" height=\"24px\"viewBox=\"0 0 24 24\"\n",
              "     width=\"24px\">\n",
              "    <g>\n",
              "        <path d=\"M19 3H5c-1.1 0-2 .9-2 2v14c0 1.1.9 2 2 2h14c1.1 0 2-.9 2-2V5c0-1.1-.9-2-2-2zM9 17H7v-7h2v7zm4 0h-2V7h2v10zm4 0h-2v-4h2v4z\"/>\n",
              "    </g>\n",
              "</svg>\n",
              "      </button>\n",
              "    </div>\n",
              "\n",
              "<style>\n",
              "  .colab-df-quickchart {\n",
              "    background-color: #E8F0FE;\n",
              "    border: none;\n",
              "    border-radius: 50%;\n",
              "    cursor: pointer;\n",
              "    display: none;\n",
              "    fill: #1967D2;\n",
              "    height: 32px;\n",
              "    padding: 0 0 0 0;\n",
              "    width: 32px;\n",
              "  }\n",
              "\n",
              "  .colab-df-quickchart:hover {\n",
              "    background-color: #E2EBFA;\n",
              "    box-shadow: 0px 1px 2px rgba(60, 64, 67, 0.3), 0px 1px 3px 1px rgba(60, 64, 67, 0.15);\n",
              "    fill: #174EA6;\n",
              "  }\n",
              "\n",
              "  [theme=dark] .colab-df-quickchart {\n",
              "    background-color: #3B4455;\n",
              "    fill: #D2E3FC;\n",
              "  }\n",
              "\n",
              "  [theme=dark] .colab-df-quickchart:hover {\n",
              "    background-color: #434B5C;\n",
              "    box-shadow: 0px 1px 3px 1px rgba(0, 0, 0, 0.15);\n",
              "    filter: drop-shadow(0px 1px 2px rgba(0, 0, 0, 0.3));\n",
              "    fill: #FFFFFF;\n",
              "  }\n",
              "</style>\n",
              "\n",
              "    <script>\n",
              "      async function quickchart(key) {\n",
              "        const containerElement = document.querySelector('#' + key);\n",
              "        const charts = await google.colab.kernel.invokeFunction(\n",
              "            'suggestCharts', [key], {});\n",
              "      }\n",
              "    </script>\n",
              "\n",
              "      <script>\n",
              "\n",
              "function displayQuickchartButton(domScope) {\n",
              "  let quickchartButtonEl =\n",
              "    domScope.querySelector('#df-9a0b75da-049d-4b00-8b9b-341d5ecff5bc button.colab-df-quickchart');\n",
              "  quickchartButtonEl.style.display =\n",
              "    google.colab.kernel.accessAllowed ? 'block' : 'none';\n",
              "}\n",
              "\n",
              "        displayQuickchartButton(document);\n",
              "      </script>\n",
              "      <style>\n",
              "    .colab-df-container {\n",
              "      display:flex;\n",
              "      flex-wrap:wrap;\n",
              "      gap: 12px;\n",
              "    }\n",
              "\n",
              "    .colab-df-convert {\n",
              "      background-color: #E8F0FE;\n",
              "      border: none;\n",
              "      border-radius: 50%;\n",
              "      cursor: pointer;\n",
              "      display: none;\n",
              "      fill: #1967D2;\n",
              "      height: 32px;\n",
              "      padding: 0 0 0 0;\n",
              "      width: 32px;\n",
              "    }\n",
              "\n",
              "    .colab-df-convert:hover {\n",
              "      background-color: #E2EBFA;\n",
              "      box-shadow: 0px 1px 2px rgba(60, 64, 67, 0.3), 0px 1px 3px 1px rgba(60, 64, 67, 0.15);\n",
              "      fill: #174EA6;\n",
              "    }\n",
              "\n",
              "    [theme=dark] .colab-df-convert {\n",
              "      background-color: #3B4455;\n",
              "      fill: #D2E3FC;\n",
              "    }\n",
              "\n",
              "    [theme=dark] .colab-df-convert:hover {\n",
              "      background-color: #434B5C;\n",
              "      box-shadow: 0px 1px 3px 1px rgba(0, 0, 0, 0.15);\n",
              "      filter: drop-shadow(0px 1px 2px rgba(0, 0, 0, 0.3));\n",
              "      fill: #FFFFFF;\n",
              "    }\n",
              "  </style>\n",
              "\n",
              "      <script>\n",
              "        const buttonEl =\n",
              "          document.querySelector('#df-1222a3b8-2ca4-4d4b-aef2-4860cde8fdd3 button.colab-df-convert');\n",
              "        buttonEl.style.display =\n",
              "          google.colab.kernel.accessAllowed ? 'block' : 'none';\n",
              "\n",
              "        async function convertToInteractive(key) {\n",
              "          const element = document.querySelector('#df-1222a3b8-2ca4-4d4b-aef2-4860cde8fdd3');\n",
              "          const dataTable =\n",
              "            await google.colab.kernel.invokeFunction('convertToInteractive',\n",
              "                                                     [key], {});\n",
              "          if (!dataTable) return;\n",
              "\n",
              "          const docLinkHtml = 'Like what you see? Visit the ' +\n",
              "            '<a target=\"_blank\" href=https://colab.research.google.com/notebooks/data_table.ipynb>data table notebook</a>'\n",
              "            + ' to learn more about interactive tables.';\n",
              "          element.innerHTML = '';\n",
              "          dataTable['output_type'] = 'display_data';\n",
              "          await google.colab.output.renderOutput(dataTable, element);\n",
              "          const docLink = document.createElement('div');\n",
              "          docLink.innerHTML = docLinkHtml;\n",
              "          element.appendChild(docLink);\n",
              "        }\n",
              "      </script>\n",
              "    </div>\n",
              "  </div>\n"
            ]
          },
          "metadata": {},
          "execution_count": 528
        }
      ],
      "source": [
        "df.head(10)"
      ]
    },
    {
      "cell_type": "code",
      "execution_count": null,
      "metadata": {
        "colab": {
          "base_uri": "https://localhost:8080/"
        },
        "id": "5UY_oDiT6Yod",
        "outputId": "690df0a3-bdf4-4f4e-9b96-a5107df78ab9"
      },
      "outputs": [
        {
          "output_type": "execute_result",
          "data": {
            "text/plain": [
              "Time      0\n",
              "V1        0\n",
              "V2        0\n",
              "V3        0\n",
              "V4        0\n",
              "V5        1\n",
              "V6        1\n",
              "V7        1\n",
              "V8        1\n",
              "V9        1\n",
              "V10       1\n",
              "V11       1\n",
              "V12       1\n",
              "V13       1\n",
              "V14       1\n",
              "V15       1\n",
              "V16       1\n",
              "V17       1\n",
              "V18       1\n",
              "V19       1\n",
              "V20       1\n",
              "V21       1\n",
              "V22       1\n",
              "V23       1\n",
              "V24       1\n",
              "V25       1\n",
              "V26       1\n",
              "V27       1\n",
              "V28       1\n",
              "Amount    1\n",
              "Class     1\n",
              "dtype: int64"
            ]
          },
          "metadata": {},
          "execution_count": 529
        }
      ],
      "source": [
        "df.isnull().sum()"
      ]
    },
    {
      "cell_type": "code",
      "execution_count": null,
      "metadata": {
        "colab": {
          "base_uri": "https://localhost:8080/",
          "height": 393
        },
        "id": "995dTq8a6mwM",
        "outputId": "f35ea14a-4928-4964-abcf-6b03a62e8834"
      },
      "outputs": [
        {
          "output_type": "execute_result",
          "data": {
            "text/plain": [
              "                Time             V1             V2             V3  \\\n",
              "count  140703.000000  140703.000000  140703.000000  140703.000000   \n",
              "mean    52017.063240      -0.249590       0.018631       0.672709   \n",
              "std     20935.874366       1.815360       1.612924       1.267514   \n",
              "min         0.000000     -56.407510     -72.715728     -33.680984   \n",
              "25%     38001.000000      -1.020857      -0.563417       0.169911   \n",
              "50%     53833.000000      -0.270868       0.105003       0.750128   \n",
              "75%     69573.000000       1.157957       0.777163       1.362846   \n",
              "max     83879.000000       1.960497      18.902453       9.382558   \n",
              "\n",
              "                  V4             V5             V6             V7  \\\n",
              "count  140703.000000  140702.000000  140702.000000  140702.000000   \n",
              "mean        0.139629      -0.282394       0.079221      -0.117074   \n",
              "std         1.321903       1.306687       1.283716       1.166104   \n",
              "min        -5.519697     -42.147898     -26.160506     -31.764946   \n",
              "25%        -0.713458      -0.903456      -0.661857      -0.603665   \n",
              "50%         0.167426      -0.314577      -0.176481      -0.064121   \n",
              "75%         0.992618       0.237702       0.465523       0.409937   \n",
              "max        16.715537      34.801666      22.529298      36.677268   \n",
              "\n",
              "                  V8             V9  ...            V21            V22  \\\n",
              "count  140702.000000  140702.000000  ...  140702.000000  140702.000000   \n",
              "mean        0.065108      -0.092798  ...      -0.039490      -0.118699   \n",
              "std         1.230387       1.088043  ...       0.721606       0.635249   \n",
              "min       -73.216718      -9.283925  ...     -34.830382     -10.933144   \n",
              "25%        -0.130976      -0.714885  ...      -0.226122      -0.548084   \n",
              "50%         0.080542      -0.155239  ...      -0.059815      -0.095822   \n",
              "75%         0.375410       0.481411  ...       0.113589       0.300817   \n",
              "max        20.007208      15.594995  ...      27.202839      10.503090   \n",
              "\n",
              "                 V23            V24            V25            V26  \\\n",
              "count  140702.000000  140702.000000  140702.000000  140702.000000   \n",
              "mean       -0.033307       0.011971       0.130149       0.023568   \n",
              "std         0.591371       0.595799       0.437282       0.491940   \n",
              "min       -44.807735      -2.836627     -10.295397      -2.534330   \n",
              "25%        -0.171745      -0.325037      -0.136357      -0.326105   \n",
              "50%        -0.044999       0.068728       0.166478      -0.064879   \n",
              "75%         0.083280       0.408711       0.418682       0.286656   \n",
              "max        19.002942       4.022866       5.541598       3.517346   \n",
              "\n",
              "                 V27            V28         Amount          Class  \n",
              "count  140702.000000  140702.000000  140702.000000  140702.000000  \n",
              "mean        0.000598       0.002314      91.113847       0.001876  \n",
              "std         0.388942       0.306960     247.063579       0.043276  \n",
              "min       -22.565679     -11.710896       0.000000       0.000000  \n",
              "25%        -0.060363      -0.004166       6.000000       0.000000  \n",
              "50%         0.011792       0.023610      23.900000       0.000000  \n",
              "75%         0.087069       0.077145      80.910000       0.000000  \n",
              "max        12.152401      33.847808   19656.530000       1.000000  \n",
              "\n",
              "[8 rows x 31 columns]"
            ],
            "text/html": [
              "\n",
              "\n",
              "  <div id=\"df-efbb0959-e74a-4b7d-8860-953676120f8c\">\n",
              "    <div class=\"colab-df-container\">\n",
              "      <div>\n",
              "<style scoped>\n",
              "    .dataframe tbody tr th:only-of-type {\n",
              "        vertical-align: middle;\n",
              "    }\n",
              "\n",
              "    .dataframe tbody tr th {\n",
              "        vertical-align: top;\n",
              "    }\n",
              "\n",
              "    .dataframe thead th {\n",
              "        text-align: right;\n",
              "    }\n",
              "</style>\n",
              "<table border=\"1\" class=\"dataframe\">\n",
              "  <thead>\n",
              "    <tr style=\"text-align: right;\">\n",
              "      <th></th>\n",
              "      <th>Time</th>\n",
              "      <th>V1</th>\n",
              "      <th>V2</th>\n",
              "      <th>V3</th>\n",
              "      <th>V4</th>\n",
              "      <th>V5</th>\n",
              "      <th>V6</th>\n",
              "      <th>V7</th>\n",
              "      <th>V8</th>\n",
              "      <th>V9</th>\n",
              "      <th>...</th>\n",
              "      <th>V21</th>\n",
              "      <th>V22</th>\n",
              "      <th>V23</th>\n",
              "      <th>V24</th>\n",
              "      <th>V25</th>\n",
              "      <th>V26</th>\n",
              "      <th>V27</th>\n",
              "      <th>V28</th>\n",
              "      <th>Amount</th>\n",
              "      <th>Class</th>\n",
              "    </tr>\n",
              "  </thead>\n",
              "  <tbody>\n",
              "    <tr>\n",
              "      <th>count</th>\n",
              "      <td>140703.000000</td>\n",
              "      <td>140703.000000</td>\n",
              "      <td>140703.000000</td>\n",
              "      <td>140703.000000</td>\n",
              "      <td>140703.000000</td>\n",
              "      <td>140702.000000</td>\n",
              "      <td>140702.000000</td>\n",
              "      <td>140702.000000</td>\n",
              "      <td>140702.000000</td>\n",
              "      <td>140702.000000</td>\n",
              "      <td>...</td>\n",
              "      <td>140702.000000</td>\n",
              "      <td>140702.000000</td>\n",
              "      <td>140702.000000</td>\n",
              "      <td>140702.000000</td>\n",
              "      <td>140702.000000</td>\n",
              "      <td>140702.000000</td>\n",
              "      <td>140702.000000</td>\n",
              "      <td>140702.000000</td>\n",
              "      <td>140702.000000</td>\n",
              "      <td>140702.000000</td>\n",
              "    </tr>\n",
              "    <tr>\n",
              "      <th>mean</th>\n",
              "      <td>52017.063240</td>\n",
              "      <td>-0.249590</td>\n",
              "      <td>0.018631</td>\n",
              "      <td>0.672709</td>\n",
              "      <td>0.139629</td>\n",
              "      <td>-0.282394</td>\n",
              "      <td>0.079221</td>\n",
              "      <td>-0.117074</td>\n",
              "      <td>0.065108</td>\n",
              "      <td>-0.092798</td>\n",
              "      <td>...</td>\n",
              "      <td>-0.039490</td>\n",
              "      <td>-0.118699</td>\n",
              "      <td>-0.033307</td>\n",
              "      <td>0.011971</td>\n",
              "      <td>0.130149</td>\n",
              "      <td>0.023568</td>\n",
              "      <td>0.000598</td>\n",
              "      <td>0.002314</td>\n",
              "      <td>91.113847</td>\n",
              "      <td>0.001876</td>\n",
              "    </tr>\n",
              "    <tr>\n",
              "      <th>std</th>\n",
              "      <td>20935.874366</td>\n",
              "      <td>1.815360</td>\n",
              "      <td>1.612924</td>\n",
              "      <td>1.267514</td>\n",
              "      <td>1.321903</td>\n",
              "      <td>1.306687</td>\n",
              "      <td>1.283716</td>\n",
              "      <td>1.166104</td>\n",
              "      <td>1.230387</td>\n",
              "      <td>1.088043</td>\n",
              "      <td>...</td>\n",
              "      <td>0.721606</td>\n",
              "      <td>0.635249</td>\n",
              "      <td>0.591371</td>\n",
              "      <td>0.595799</td>\n",
              "      <td>0.437282</td>\n",
              "      <td>0.491940</td>\n",
              "      <td>0.388942</td>\n",
              "      <td>0.306960</td>\n",
              "      <td>247.063579</td>\n",
              "      <td>0.043276</td>\n",
              "    </tr>\n",
              "    <tr>\n",
              "      <th>min</th>\n",
              "      <td>0.000000</td>\n",
              "      <td>-56.407510</td>\n",
              "      <td>-72.715728</td>\n",
              "      <td>-33.680984</td>\n",
              "      <td>-5.519697</td>\n",
              "      <td>-42.147898</td>\n",
              "      <td>-26.160506</td>\n",
              "      <td>-31.764946</td>\n",
              "      <td>-73.216718</td>\n",
              "      <td>-9.283925</td>\n",
              "      <td>...</td>\n",
              "      <td>-34.830382</td>\n",
              "      <td>-10.933144</td>\n",
              "      <td>-44.807735</td>\n",
              "      <td>-2.836627</td>\n",
              "      <td>-10.295397</td>\n",
              "      <td>-2.534330</td>\n",
              "      <td>-22.565679</td>\n",
              "      <td>-11.710896</td>\n",
              "      <td>0.000000</td>\n",
              "      <td>0.000000</td>\n",
              "    </tr>\n",
              "    <tr>\n",
              "      <th>25%</th>\n",
              "      <td>38001.000000</td>\n",
              "      <td>-1.020857</td>\n",
              "      <td>-0.563417</td>\n",
              "      <td>0.169911</td>\n",
              "      <td>-0.713458</td>\n",
              "      <td>-0.903456</td>\n",
              "      <td>-0.661857</td>\n",
              "      <td>-0.603665</td>\n",
              "      <td>-0.130976</td>\n",
              "      <td>-0.714885</td>\n",
              "      <td>...</td>\n",
              "      <td>-0.226122</td>\n",
              "      <td>-0.548084</td>\n",
              "      <td>-0.171745</td>\n",
              "      <td>-0.325037</td>\n",
              "      <td>-0.136357</td>\n",
              "      <td>-0.326105</td>\n",
              "      <td>-0.060363</td>\n",
              "      <td>-0.004166</td>\n",
              "      <td>6.000000</td>\n",
              "      <td>0.000000</td>\n",
              "    </tr>\n",
              "    <tr>\n",
              "      <th>50%</th>\n",
              "      <td>53833.000000</td>\n",
              "      <td>-0.270868</td>\n",
              "      <td>0.105003</td>\n",
              "      <td>0.750128</td>\n",
              "      <td>0.167426</td>\n",
              "      <td>-0.314577</td>\n",
              "      <td>-0.176481</td>\n",
              "      <td>-0.064121</td>\n",
              "      <td>0.080542</td>\n",
              "      <td>-0.155239</td>\n",
              "      <td>...</td>\n",
              "      <td>-0.059815</td>\n",
              "      <td>-0.095822</td>\n",
              "      <td>-0.044999</td>\n",
              "      <td>0.068728</td>\n",
              "      <td>0.166478</td>\n",
              "      <td>-0.064879</td>\n",
              "      <td>0.011792</td>\n",
              "      <td>0.023610</td>\n",
              "      <td>23.900000</td>\n",
              "      <td>0.000000</td>\n",
              "    </tr>\n",
              "    <tr>\n",
              "      <th>75%</th>\n",
              "      <td>69573.000000</td>\n",
              "      <td>1.157957</td>\n",
              "      <td>0.777163</td>\n",
              "      <td>1.362846</td>\n",
              "      <td>0.992618</td>\n",
              "      <td>0.237702</td>\n",
              "      <td>0.465523</td>\n",
              "      <td>0.409937</td>\n",
              "      <td>0.375410</td>\n",
              "      <td>0.481411</td>\n",
              "      <td>...</td>\n",
              "      <td>0.113589</td>\n",
              "      <td>0.300817</td>\n",
              "      <td>0.083280</td>\n",
              "      <td>0.408711</td>\n",
              "      <td>0.418682</td>\n",
              "      <td>0.286656</td>\n",
              "      <td>0.087069</td>\n",
              "      <td>0.077145</td>\n",
              "      <td>80.910000</td>\n",
              "      <td>0.000000</td>\n",
              "    </tr>\n",
              "    <tr>\n",
              "      <th>max</th>\n",
              "      <td>83879.000000</td>\n",
              "      <td>1.960497</td>\n",
              "      <td>18.902453</td>\n",
              "      <td>9.382558</td>\n",
              "      <td>16.715537</td>\n",
              "      <td>34.801666</td>\n",
              "      <td>22.529298</td>\n",
              "      <td>36.677268</td>\n",
              "      <td>20.007208</td>\n",
              "      <td>15.594995</td>\n",
              "      <td>...</td>\n",
              "      <td>27.202839</td>\n",
              "      <td>10.503090</td>\n",
              "      <td>19.002942</td>\n",
              "      <td>4.022866</td>\n",
              "      <td>5.541598</td>\n",
              "      <td>3.517346</td>\n",
              "      <td>12.152401</td>\n",
              "      <td>33.847808</td>\n",
              "      <td>19656.530000</td>\n",
              "      <td>1.000000</td>\n",
              "    </tr>\n",
              "  </tbody>\n",
              "</table>\n",
              "<p>8 rows × 31 columns</p>\n",
              "</div>\n",
              "      <button class=\"colab-df-convert\" onclick=\"convertToInteractive('df-efbb0959-e74a-4b7d-8860-953676120f8c')\"\n",
              "              title=\"Convert this dataframe to an interactive table.\"\n",
              "              style=\"display:none;\">\n",
              "\n",
              "  <svg xmlns=\"http://www.w3.org/2000/svg\" height=\"24px\"viewBox=\"0 0 24 24\"\n",
              "       width=\"24px\">\n",
              "    <path d=\"M0 0h24v24H0V0z\" fill=\"none\"/>\n",
              "    <path d=\"M18.56 5.44l.94 2.06.94-2.06 2.06-.94-2.06-.94-.94-2.06-.94 2.06-2.06.94zm-11 1L8.5 8.5l.94-2.06 2.06-.94-2.06-.94L8.5 2.5l-.94 2.06-2.06.94zm10 10l.94 2.06.94-2.06 2.06-.94-2.06-.94-.94-2.06-.94 2.06-2.06.94z\"/><path d=\"M17.41 7.96l-1.37-1.37c-.4-.4-.92-.59-1.43-.59-.52 0-1.04.2-1.43.59L10.3 9.45l-7.72 7.72c-.78.78-.78 2.05 0 2.83L4 21.41c.39.39.9.59 1.41.59.51 0 1.02-.2 1.41-.59l7.78-7.78 2.81-2.81c.8-.78.8-2.07 0-2.86zM5.41 20L4 18.59l7.72-7.72 1.47 1.35L5.41 20z\"/>\n",
              "  </svg>\n",
              "      </button>\n",
              "\n",
              "\n",
              "\n",
              "    <div id=\"df-f366052c-7908-4ed7-8345-4970121119da\">\n",
              "      <button class=\"colab-df-quickchart\" onclick=\"quickchart('df-f366052c-7908-4ed7-8345-4970121119da')\"\n",
              "              title=\"Suggest charts.\"\n",
              "              style=\"display:none;\">\n",
              "\n",
              "<svg xmlns=\"http://www.w3.org/2000/svg\" height=\"24px\"viewBox=\"0 0 24 24\"\n",
              "     width=\"24px\">\n",
              "    <g>\n",
              "        <path d=\"M19 3H5c-1.1 0-2 .9-2 2v14c0 1.1.9 2 2 2h14c1.1 0 2-.9 2-2V5c0-1.1-.9-2-2-2zM9 17H7v-7h2v7zm4 0h-2V7h2v10zm4 0h-2v-4h2v4z\"/>\n",
              "    </g>\n",
              "</svg>\n",
              "      </button>\n",
              "    </div>\n",
              "\n",
              "<style>\n",
              "  .colab-df-quickchart {\n",
              "    background-color: #E8F0FE;\n",
              "    border: none;\n",
              "    border-radius: 50%;\n",
              "    cursor: pointer;\n",
              "    display: none;\n",
              "    fill: #1967D2;\n",
              "    height: 32px;\n",
              "    padding: 0 0 0 0;\n",
              "    width: 32px;\n",
              "  }\n",
              "\n",
              "  .colab-df-quickchart:hover {\n",
              "    background-color: #E2EBFA;\n",
              "    box-shadow: 0px 1px 2px rgba(60, 64, 67, 0.3), 0px 1px 3px 1px rgba(60, 64, 67, 0.15);\n",
              "    fill: #174EA6;\n",
              "  }\n",
              "\n",
              "  [theme=dark] .colab-df-quickchart {\n",
              "    background-color: #3B4455;\n",
              "    fill: #D2E3FC;\n",
              "  }\n",
              "\n",
              "  [theme=dark] .colab-df-quickchart:hover {\n",
              "    background-color: #434B5C;\n",
              "    box-shadow: 0px 1px 3px 1px rgba(0, 0, 0, 0.15);\n",
              "    filter: drop-shadow(0px 1px 2px rgba(0, 0, 0, 0.3));\n",
              "    fill: #FFFFFF;\n",
              "  }\n",
              "</style>\n",
              "\n",
              "    <script>\n",
              "      async function quickchart(key) {\n",
              "        const containerElement = document.querySelector('#' + key);\n",
              "        const charts = await google.colab.kernel.invokeFunction(\n",
              "            'suggestCharts', [key], {});\n",
              "      }\n",
              "    </script>\n",
              "\n",
              "      <script>\n",
              "\n",
              "function displayQuickchartButton(domScope) {\n",
              "  let quickchartButtonEl =\n",
              "    domScope.querySelector('#df-f366052c-7908-4ed7-8345-4970121119da button.colab-df-quickchart');\n",
              "  quickchartButtonEl.style.display =\n",
              "    google.colab.kernel.accessAllowed ? 'block' : 'none';\n",
              "}\n",
              "\n",
              "        displayQuickchartButton(document);\n",
              "      </script>\n",
              "      <style>\n",
              "    .colab-df-container {\n",
              "      display:flex;\n",
              "      flex-wrap:wrap;\n",
              "      gap: 12px;\n",
              "    }\n",
              "\n",
              "    .colab-df-convert {\n",
              "      background-color: #E8F0FE;\n",
              "      border: none;\n",
              "      border-radius: 50%;\n",
              "      cursor: pointer;\n",
              "      display: none;\n",
              "      fill: #1967D2;\n",
              "      height: 32px;\n",
              "      padding: 0 0 0 0;\n",
              "      width: 32px;\n",
              "    }\n",
              "\n",
              "    .colab-df-convert:hover {\n",
              "      background-color: #E2EBFA;\n",
              "      box-shadow: 0px 1px 2px rgba(60, 64, 67, 0.3), 0px 1px 3px 1px rgba(60, 64, 67, 0.15);\n",
              "      fill: #174EA6;\n",
              "    }\n",
              "\n",
              "    [theme=dark] .colab-df-convert {\n",
              "      background-color: #3B4455;\n",
              "      fill: #D2E3FC;\n",
              "    }\n",
              "\n",
              "    [theme=dark] .colab-df-convert:hover {\n",
              "      background-color: #434B5C;\n",
              "      box-shadow: 0px 1px 3px 1px rgba(0, 0, 0, 0.15);\n",
              "      filter: drop-shadow(0px 1px 2px rgba(0, 0, 0, 0.3));\n",
              "      fill: #FFFFFF;\n",
              "    }\n",
              "  </style>\n",
              "\n",
              "      <script>\n",
              "        const buttonEl =\n",
              "          document.querySelector('#df-efbb0959-e74a-4b7d-8860-953676120f8c button.colab-df-convert');\n",
              "        buttonEl.style.display =\n",
              "          google.colab.kernel.accessAllowed ? 'block' : 'none';\n",
              "\n",
              "        async function convertToInteractive(key) {\n",
              "          const element = document.querySelector('#df-efbb0959-e74a-4b7d-8860-953676120f8c');\n",
              "          const dataTable =\n",
              "            await google.colab.kernel.invokeFunction('convertToInteractive',\n",
              "                                                     [key], {});\n",
              "          if (!dataTable) return;\n",
              "\n",
              "          const docLinkHtml = 'Like what you see? Visit the ' +\n",
              "            '<a target=\"_blank\" href=https://colab.research.google.com/notebooks/data_table.ipynb>data table notebook</a>'\n",
              "            + ' to learn more about interactive tables.';\n",
              "          element.innerHTML = '';\n",
              "          dataTable['output_type'] = 'display_data';\n",
              "          await google.colab.output.renderOutput(dataTable, element);\n",
              "          const docLink = document.createElement('div');\n",
              "          docLink.innerHTML = docLinkHtml;\n",
              "          element.appendChild(docLink);\n",
              "        }\n",
              "      </script>\n",
              "    </div>\n",
              "  </div>\n"
            ]
          },
          "metadata": {},
          "execution_count": 530
        }
      ],
      "source": [
        "df.describe()"
      ]
    },
    {
      "cell_type": "code",
      "execution_count": null,
      "metadata": {
        "colab": {
          "base_uri": "https://localhost:8080/",
          "height": 749
        },
        "id": "_hSsxtDS7OVs",
        "outputId": "1fbe638a-b7c9-4c63-8ed6-f9b211c2537b"
      },
      "outputs": [
        {
          "output_type": "stream",
          "name": "stderr",
          "text": [
            "<ipython-input-531-14412076448d>:6: UserWarning: \n",
            "\n",
            "`distplot` is a deprecated function and will be removed in seaborn v0.14.0.\n",
            "\n",
            "Please adapt your code to use either `displot` (a figure-level function with\n",
            "similar flexibility) or `histplot` (an axes-level function for histograms).\n",
            "\n",
            "For a guide to updating your code to use the new functions, please see\n",
            "https://gist.github.com/mwaskom/de44147ed2974457ad6372750bbe5751\n",
            "\n",
            "  sns.distplot(amount_val, ax=ax[0],kde=True)\n",
            "<ipython-input-531-14412076448d>:12: UserWarning: \n",
            "\n",
            "`distplot` is a deprecated function and will be removed in seaborn v0.14.0.\n",
            "\n",
            "Please adapt your code to use either `displot` (a figure-level function with\n",
            "similar flexibility) or `histplot` (an axes-level function for histograms).\n",
            "\n",
            "For a guide to updating your code to use the new functions, please see\n",
            "https://gist.github.com/mwaskom/de44147ed2974457ad6372750bbe5751\n",
            "\n",
            "  sns.distplot(time_val, ax=ax[1],kde=True)\n"
          ]
        },
        {
          "output_type": "display_data",
          "data": {
            "text/plain": [
              "<Figure size 1800x400 with 2 Axes>"
            ],
            "image/png": "[encoded data removed]"
          },
          "metadata": {}
        }
      ],
      "source": [
        "fig, ax = plt.subplots(1, 2, figsize=(18, 4))\n",
        "\n",
        "amount_val = df['Amount'].values\n",
        "time_val = df['Time'].values\n",
        "\n",
        "sns.distplot(amount_val, ax=ax[0],kde=True)\n",
        "ax[0].set_title('Distribution of Transaction Amount (Fraud Dataset)', fontsize=14)\n",
        "ax[0].set_xlabel('Amount')\n",
        "ax[0].set_ylabel('Count')\n",
        "ax[0].set_xlim([min(amount_val), max(amount_val)])\n",
        "\n",
        "sns.distplot(time_val, ax=ax[1],kde=True)\n",
        "ax[1].set_title('Distribution of Transaction Time (Fraud Dataset)', fontsize=14)\n",
        "ax[1].set_xlabel('Time')\n",
        "ax[1].set_ylabel('Count')\n",
        "ax[1].set_xlim([min(time_val), max(time_val)])\n",
        "plt.show()"
      ]
    },
    {
      "cell_type": "markdown",
      "metadata": {
        "id": "GF3YI4gsyDMO"
      },
      "source": [
        "### Expunging Duplicated Values\n",
        "\n",
        "\n",
        "\n"
      ]
    },
    {
      "cell_type": "code",
      "execution_count": null,
      "metadata": {
        "colab": {
          "base_uri": "https://localhost:8080/"
        },
        "id": "N1EXmv40-yIu",
        "outputId": "9fcc716d-4e2d-41e1-d1d5-a2421abeefc5"
      },
      "outputs": [
        {
          "output_type": "execute_result",
          "data": {
            "text/plain": [
              "524"
            ]
          },
          "metadata": {},
          "execution_count": 532
        }
      ],
      "source": [
        "df[df['Class']==0].duplicated().sum()\n"
      ]
    },
    {
      "cell_type": "code",
      "execution_count": null,
      "metadata": {
        "colab": {
          "base_uri": "https://localhost:8080/"
        },
        "id": "1382P_stBKYq",
        "outputId": "67642bbc-908f-4a39-95b1-c81c50ff8a4c"
      },
      "outputs": [
        {
          "output_type": "execute_result",
          "data": {
            "text/plain": [
              "5"
            ]
          },
          "metadata": {},
          "execution_count": 533
        }
      ],
      "source": [
        "df[df['Class']==1].duplicated().sum()"
      ]
    },
    {
      "cell_type": "code",
      "execution_count": null,
      "metadata": {
        "colab": {
          "base_uri": "https://localhost:8080/"
        },
        "id": "X9uEQPceBTCU",
        "outputId": "3cea2200-29c2-4d03-c823-e9db4c1853f3"
      },
      "outputs": [
        {
          "output_type": "execute_result",
          "data": {
            "text/plain": [
              "(264, 31)"
            ]
          },
          "metadata": {},
          "execution_count": 534
        }
      ],
      "source": [
        "df[df['Class']==1].shape\n"
      ]
    },
    {
      "cell_type": "code",
      "execution_count": null,
      "metadata": {
        "colab": {
          "base_uri": "https://localhost:8080/"
        },
        "id": "AZMdoSjQBqbV",
        "outputId": "8e95665c-d01a-48b6-a664-23334b53e3f3"
      },
      "outputs": [
        {
          "output_type": "execute_result",
          "data": {
            "text/plain": [
              "(140438, 31)"
            ]
          },
          "metadata": {},
          "execution_count": 535
        }
      ],
      "source": [
        "df[df['Class']==0].shape"
      ]
    },
    {
      "cell_type": "code",
      "execution_count": null,
      "metadata": {
        "id": "ukgA5lgx-869"
      },
      "outputs": [],
      "source": [
        "df=df.drop('Time',axis=1)"
      ]
    },
    {
      "cell_type": "code",
      "execution_count": null,
      "metadata": {
        "colab": {
          "base_uri": "https://localhost:8080/"
        },
        "id": "OWpDIIvKBzxn",
        "outputId": "571b88b4-1a3e-43f2-d93a-7ec1f0658ebc"
      },
      "outputs": [
        {
          "output_type": "stream",
          "name": "stdout",
          "text": [
            "              V1        V2        V3        V4        V5        V6        V7  \\\n",
            "33     -0.529912  0.873892  1.347247  0.145457  0.414209  0.100223  0.711206   \n",
            "35     -0.535388  0.865268  1.351076  0.147575  0.433680  0.086983  0.693039   \n",
            "113     1.038370  0.127486  0.184456  1.109950  0.441699  0.945283 -0.036715   \n",
            "114     1.038370  0.127486  0.184456  1.109950  0.441699  0.945283 -0.036715   \n",
            "115     1.038370  0.127486  0.184456  1.109950  0.441699  0.945283 -0.036715   \n",
            "...          ...       ...       ...       ...       ...       ...       ...   \n",
            "140498  1.027614 -0.423542  1.181828  0.732695 -0.944257  0.488845 -0.809057   \n",
            "140549  1.143327 -0.405490 -0.348017  0.191804  1.510709  4.070529 -1.097001   \n",
            "140560  1.194223  0.162089  0.136983  0.461421 -0.073478 -0.119071 -0.184026   \n",
            "140633  1.170943  0.628200 -0.253306  1.385773  0.041673 -0.979345  0.187290   \n",
            "140640  1.230983 -0.224520 -0.345196  0.212802  1.586953  3.997378 -1.145351   \n",
            "\n",
            "              V8        V9       V10  ...       V21       V22       V23  \\\n",
            "33      0.176066 -0.286717 -0.484688  ...  0.046949  0.208105 -0.185548   \n",
            "35      0.179742 -0.285642 -0.482474  ...  0.049526  0.206537 -0.187108   \n",
            "113     0.350995  0.118950 -0.243289  ...  0.102520  0.605089  0.023092   \n",
            "114     0.350995  0.118950 -0.243289  ...  0.102520  0.605089  0.023092   \n",
            "115     0.350995  0.118950 -0.243289  ...  0.102520  0.605089  0.023092   \n",
            "...          ...       ...       ...  ...       ...       ...       ...   \n",
            "140498  0.391745  0.774281 -0.110191  ...  0.000096  0.077683  0.026361   \n",
            "140549  1.082286  0.757440 -0.156694  ... -0.095420 -0.296757 -0.069598   \n",
            "140560  0.171680 -0.025709 -0.121618  ... -0.244293 -0.761857  0.121068   \n",
            "140633 -0.082545  0.003479 -0.702804  ... -0.027843 -0.012806 -0.044263   \n",
            "140640  1.068038  0.584379 -0.017314  ...  0.067612  0.229977 -0.119921   \n",
            "\n",
            "             V24       V25       V26       V27       V28  Amount  Class  \n",
            "33      0.001031  0.098816 -0.552904 -0.073288  0.023307    6.14    0.0  \n",
            "35      0.000753  0.098117 -0.553471 -0.078306  0.025427    1.77    0.0  \n",
            "113    -0.626463  0.479120 -0.166937  0.081247  0.001192    1.18    0.0  \n",
            "114    -0.626463  0.479120 -0.166937  0.081247  0.001192    1.18    0.0  \n",
            "115    -0.626463  0.479120 -0.166937  0.081247  0.001192    1.18    0.0  \n",
            "...          ...       ...       ...       ...       ...     ...    ...  \n",
            "140498  0.048218  0.114338  0.327540  0.018161  0.018226   43.85    0.0  \n",
            "140549  1.002756  0.561573 -0.397131  0.068411  0.037314   43.00    0.0  \n",
            "140560 -0.381438  0.116546  0.131166 -0.018552  0.011155    0.89    0.0  \n",
            "140633  0.245038  0.547925 -0.315218  0.046957  0.055683    1.00    0.0  \n",
            "140640  1.019614  0.667317 -0.226637  0.071064  0.028365    1.00    0.0  \n",
            "\n",
            "[4349 rows x 30 columns]\n"
          ]
        }
      ],
      "source": [
        "duplicate_rows = df.duplicated()\n",
        "duplicate_df = df[duplicate_rows]\n",
        "print(duplicate_df)"
      ]
    },
    {
      "cell_type": "code",
      "execution_count": null,
      "metadata": {
        "id": "n5PUWq9MCNeo"
      },
      "outputs": [],
      "source": [
        "df=df.drop_duplicates()"
      ]
    },
    {
      "cell_type": "markdown",
      "metadata": {
        "id": "nuVaJBvENpNp"
      },
      "source": [
        "The StandardScaler class is used for standardizing features by removing the mean and scaling them to unit variance."
      ]
    },
    {
      "cell_type": "code",
      "execution_count": null,
      "metadata": {
        "id": "FBfzym0rChS1"
      },
      "outputs": [],
      "source": [
        "sc=StandardScaler()"
      ]
    },
    {
      "cell_type": "code",
      "execution_count": null,
      "metadata": {
        "id": "yTT-U9zcCrSf",
        "colab": {
          "base_uri": "https://localhost:8080/"
        },
        "outputId": "77d747a7-1d41-44e4-9b19-fe5e66c21151"
      },
      "outputs": [
        {
          "output_type": "stream",
          "name": "stderr",
          "text": [
            "<ipython-input-540-0e78177c1afa>:1: SettingWithCopyWarning: \n",
            "A value is trying to be set on a copy of a slice from a DataFrame.\n",
            "Try using .loc[row_indexer,col_indexer] = value instead\n",
            "\n",
            "See the caveats in the documentation: https://pandas.pydata.org/pandas-docs/stable/user_guide/indexing.html#returning-a-view-versus-a-copy\n",
            "  df['Amount']=sc.fit_transform(df[['Amount']])\n"
          ]
        }
      ],
      "source": [
        "df['Amount']=sc.fit_transform(df[['Amount']])"
      ]
    },
    {
      "cell_type": "code",
      "execution_count": null,
      "metadata": {
        "colab": {
          "base_uri": "https://localhost:8080/",
          "height": 466
        },
        "id": "USP4cTLXCvNt",
        "outputId": "11659ce1-d1f2-41d4-c8ce-b083881a23c1"
      },
      "outputs": [
        {
          "output_type": "execute_result",
          "data": {
            "text/plain": [
              "<Axes: xlabel='Class', ylabel='count'>"
            ]
          },
          "metadata": {},
          "execution_count": 541
        },
        {
          "output_type": "display_data",
          "data": {
            "text/plain": [
              "<Figure size 640x480 with 1 Axes>"
            ],
            "image/png": "[encoded data removed]"
          },
          "metadata": {}
        }
      ],
      "source": [
        "# '0' = Non-fraud , '1' = fraud\n",
        "sns.countplot(x='Class',data=df)"
      ]
    },
    {
      "cell_type": "code",
      "execution_count": null,
      "metadata": {
        "id": "nA4Hd9luC6Y0"
      },
      "outputs": [],
      "source": [
        "## taking independent and dependent variable\n",
        "y=df['Class']\n",
        "x=df.drop('Class',axis=1)\n"
      ]
    },
    {
      "cell_type": "markdown",
      "metadata": {
        "id": "Uml1qth1qxpk"
      },
      "source": [
        "### Managing NAN values!!"
      ]
    },
    {
      "cell_type": "code",
      "execution_count": null,
      "metadata": {
        "id": "1t_5YetXEbGl"
      },
      "outputs": [],
      "source": [
        "# dropping NAN values(1 NAN value found)\n",
        "y.fillna(y.median().round(1), inplace=True)"
      ]
    },
    {
      "cell_type": "code",
      "execution_count": null,
      "metadata": {
        "id": "GN3zIFJBEyib"
      },
      "outputs": [],
      "source": [
        "x.fillna(x.median().round(1), inplace=True)"
      ]
    },
    {
      "cell_type": "code",
      "execution_count": null,
      "metadata": {
        "colab": {
          "base_uri": "https://localhost:8080/"
        },
        "id": "Z_IkgiiKFZ40",
        "outputId": "0a9adfe7-0241-4bc2-f13f-12a4bc30f729"
      },
      "outputs": [
        {
          "output_type": "execute_result",
          "data": {
            "text/plain": [
              "(136354, 29)"
            ]
          },
          "metadata": {},
          "execution_count": 545
        }
      ],
      "source": [
        "x.shape"
      ]
    },
    {
      "cell_type": "markdown",
      "metadata": {
        "id": "SxgSGif3x4zZ"
      },
      "source": [
        "### Correlations"
      ]
    },
    {
      "cell_type": "code",
      "execution_count": null,
      "metadata": {
        "colab": {
          "base_uri": "https://localhost:8080/",
          "height": 1000
        },
        "id": "8bc9xR2pxBII",
        "outputId": "cf4c1425-12d3-40a9-f96e-1ab71efd0282"
      },
      "outputs": [
        {
          "output_type": "execute_result",
          "data": {
            "text/plain": [
              "          V1    V2    V3    V4    V5    V6    V7    V8    V9   V10  ...   V21  \\\n",
              "V1      1.00  0.01  0.21 -0.05 -0.00  0.05  0.08 -0.02 -0.06  0.00  ... -0.01   \n",
              "V2      0.01  1.00 -0.09  0.04 -0.03  0.02 -0.02  0.01  0.00  0.03  ... -0.04   \n",
              "V3      0.21 -0.09  1.00 -0.07  0.19 -0.06  0.18 -0.11  0.10  0.07  ...  0.05   \n",
              "V4     -0.05  0.04 -0.07  1.00  0.02 -0.03 -0.00  0.03  0.05 -0.09  ...  0.02   \n",
              "V5     -0.00 -0.03  0.19  0.02  1.00  0.03 -0.03 -0.02  0.03  0.05  ... -0.04   \n",
              "V6      0.05  0.02 -0.06 -0.03  0.03  1.00  0.04 -0.05  0.04 -0.02  ...  0.00   \n",
              "V7      0.08 -0.02  0.18 -0.00 -0.03  0.04  1.00  0.02  0.04  0.04  ...  0.04   \n",
              "V8     -0.02  0.01 -0.11  0.03 -0.02 -0.05  0.02  1.00 -0.00 -0.02  ...  0.11   \n",
              "V9     -0.06  0.00  0.10  0.05  0.03  0.04  0.04 -0.00  1.00 -0.03  ...  0.02   \n",
              "V10     0.00  0.03  0.07 -0.09  0.05 -0.02  0.04 -0.02 -0.03  1.00  ... -0.01   \n",
              "V11     0.01  0.02 -0.07 -0.00 -0.01 -0.09  0.01  0.00 -0.02  0.03  ...  0.04   \n",
              "V12    -0.02 -0.01  0.06  0.04  0.02  0.02  0.04 -0.04  0.00  0.00  ... -0.01   \n",
              "V13    -0.00  0.03 -0.06 -0.02  0.05 -0.02  0.03  0.00 -0.04 -0.00  ...  0.01   \n",
              "V14     0.02  0.01  0.04 -0.00  0.03  0.02  0.01 -0.04  0.01 -0.05  ... -0.05   \n",
              "V15     0.04  0.08 -0.18 -0.03  0.11 -0.13  0.09 -0.04 -0.11  0.06  ...  0.01   \n",
              "V16     0.01  0.04 -0.06 -0.07  0.10 -0.03  0.06 -0.05 -0.05  0.06  ... -0.01   \n",
              "V17     0.03 -0.05  0.08  0.01 -0.06  0.01 -0.01 -0.03  0.07  0.09  ... -0.02   \n",
              "V18    -0.01 -0.02 -0.03 -0.04  0.03  0.04  0.03 -0.02 -0.04  0.05  ... -0.06   \n",
              "V19     0.01  0.01 -0.03  0.03  0.02  0.09 -0.03  0.03  0.02 -0.01  ...  0.02   \n",
              "V20    -0.05 -0.08 -0.10  0.02 -0.04  0.04  0.05 -0.05  0.03 -0.00  ... -0.03   \n",
              "V21    -0.01 -0.04  0.05  0.02 -0.04  0.00  0.04  0.11  0.02 -0.01  ...  1.00   \n",
              "V22    -0.06 -0.01  0.24  0.04 -0.09  0.06 -0.07  0.01  0.05 -0.06  ... -0.08   \n",
              "V23    -0.09  0.02  0.04 -0.01  0.01 -0.02  0.06 -0.02 -0.05 -0.01  ... -0.02   \n",
              "V24    -0.03 -0.02  0.04  0.01 -0.03 -0.03  0.01  0.00  0.01  0.00  ...  0.01   \n",
              "V25     0.20 -0.10 -0.19 -0.00 -0.03  0.04 -0.10  0.01  0.13  0.03  ... -0.01   \n",
              "V26     0.01 -0.03  0.03 -0.03 -0.04  0.01 -0.03  0.01  0.11 -0.01  ... -0.03   \n",
              "V27    -0.02  0.00 -0.05  0.03 -0.01 -0.02 -0.08  0.01 -0.00 -0.03  ... -0.02   \n",
              "V28     0.15  0.02  0.03 -0.01 -0.01 -0.01 -0.04  0.01 -0.02 -0.02  ...  0.04   \n",
              "Amount -0.24 -0.55 -0.23  0.09 -0.40  0.21  0.38 -0.09 -0.02 -0.13  ...  0.13   \n",
              "Class  -0.12  0.10 -0.27  0.14 -0.12 -0.06 -0.21  0.08 -0.10 -0.24  ...  0.05   \n",
              "\n",
              "         V22   V23   V24   V25   V26   V27   V28  Amount  Class  \n",
              "V1     -0.06 -0.09 -0.03  0.20  0.01 -0.02  0.15   -0.24  -0.12  \n",
              "V2     -0.01  0.02 -0.02 -0.10 -0.03  0.00  0.02   -0.55   0.10  \n",
              "V3      0.24  0.04  0.04 -0.19  0.03 -0.05  0.03   -0.23  -0.27  \n",
              "V4      0.04 -0.01  0.01 -0.00 -0.03  0.03 -0.01    0.09   0.14  \n",
              "V5     -0.09  0.01 -0.03 -0.03 -0.04 -0.01 -0.01   -0.40  -0.12  \n",
              "V6      0.06 -0.02 -0.03  0.04  0.01 -0.02 -0.01    0.21  -0.06  \n",
              "V7     -0.07  0.06  0.01 -0.10 -0.03 -0.08 -0.04    0.38  -0.21  \n",
              "V8      0.01 -0.02  0.00  0.01  0.01  0.01  0.01   -0.09   0.08  \n",
              "V9      0.05 -0.05  0.01  0.13  0.11 -0.00 -0.02   -0.02  -0.10  \n",
              "V10    -0.06 -0.01  0.00  0.03 -0.01 -0.03 -0.02   -0.13  -0.24  \n",
              "V11     0.06  0.03  0.05 -0.11 -0.01  0.02  0.00   -0.01   0.16  \n",
              "V12     0.06 -0.01  0.01  0.02  0.02 -0.02 -0.00    0.01  -0.28  \n",
              "V13    -0.02 -0.01 -0.03  0.04  0.01 -0.00 -0.01   -0.00  -0.00  \n",
              "V14    -0.07  0.03  0.03 -0.07  0.02 -0.04  0.01    0.02  -0.34  \n",
              "V15    -0.01  0.03 -0.01 -0.10 -0.02  0.01 -0.01   -0.04   0.00  \n",
              "V16     0.03 -0.02 -0.02  0.10  0.02 -0.01 -0.02   -0.02  -0.22  \n",
              "V17     0.08  0.04  0.00 -0.08 -0.07 -0.01 -0.01    0.02  -0.37  \n",
              "V18    -0.11  0.00 -0.02  0.02  0.01 -0.01  0.00    0.05  -0.13  \n",
              "V19     0.02 -0.00 -0.02 -0.01 -0.00 -0.00 -0.01   -0.06   0.04  \n",
              "V20    -0.01 -0.02 -0.00 -0.02  0.01  0.00  0.11    0.42   0.02  \n",
              "V21    -0.08 -0.02  0.01 -0.01 -0.03 -0.02  0.04    0.13   0.05  \n",
              "V22     1.00  0.05  0.01 -0.01 -0.10 -0.02 -0.04   -0.08  -0.00  \n",
              "V23     0.05  1.00  0.01  0.08  0.03 -0.01  0.02   -0.13  -0.01  \n",
              "V24     0.01  0.01  1.00 -0.05 -0.00 -0.01 -0.00    0.02  -0.01  \n",
              "V25    -0.01  0.08 -0.05  1.00 -0.11  0.06  0.06   -0.05   0.01  \n",
              "V26    -0.10  0.03 -0.00 -0.11  1.00 -0.00  0.00    0.01   0.00  \n",
              "V27    -0.02 -0.01 -0.01  0.06 -0.00  1.00  0.03    0.00   0.05  \n",
              "V28    -0.04  0.02 -0.00  0.06  0.00  0.03  1.00    0.01   0.01  \n",
              "Amount -0.08 -0.13  0.02 -0.05  0.01  0.00  0.01    1.00   0.00  \n",
              "Class  -0.00 -0.01 -0.01  0.01  0.00  0.05  0.01    0.00   1.00  \n",
              "\n",
              "[30 rows x 30 columns]"
            ],
            "text/html": [
              "\n",
              "\n",
              "  <div id=\"df-d5ba8acb-ee52-4e67-9505-127569ae41be\">\n",
              "    <div class=\"colab-df-container\">\n",
              "      <div>\n",
              "<style scoped>\n",
              "    .dataframe tbody tr th:only-of-type {\n",
              "        vertical-align: middle;\n",
              "    }\n",
              "\n",
              "    .dataframe tbody tr th {\n",
              "        vertical-align: top;\n",
              "    }\n",
              "\n",
              "    .dataframe thead th {\n",
              "        text-align: right;\n",
              "    }\n",
              "</style>\n",
              "<table border=\"1\" class=\"dataframe\">\n",
              "  <thead>\n",
              "    <tr style=\"text-align: right;\">\n",
              "      <th></th>\n",
              "      <th>V1</th>\n",
              "      <th>V2</th>\n",
              "      <th>V3</th>\n",
              "      <th>V4</th>\n",
              "      <th>V5</th>\n",
              "      <th>V6</th>\n",
              "      <th>V7</th>\n",
              "      <th>V8</th>\n",
              "      <th>V9</th>\n",
              "      <th>V10</th>\n",
              "      <th>...</th>\n",
              "      <th>V21</th>\n",
              "      <th>V22</th>\n",
              "      <th>V23</th>\n",
              "      <th>V24</th>\n",
              "      <th>V25</th>\n",
              "      <th>V26</th>\n",
              "      <th>V27</th>\n",
              "      <th>V28</th>\n",
              "      <th>Amount</th>\n",
              "      <th>Class</th>\n",
              "    </tr>\n",
              "  </thead>\n",
              "  <tbody>\n",
              "    <tr>\n",
              "      <th>V1</th>\n",
              "      <td>1.00</td>\n",
              "      <td>0.01</td>\n",
              "      <td>0.21</td>\n",
              "      <td>-0.05</td>\n",
              "      <td>-0.00</td>\n",
              "      <td>0.05</td>\n",
              "      <td>0.08</td>\n",
              "      <td>-0.02</td>\n",
              "      <td>-0.06</td>\n",
              "      <td>0.00</td>\n",
              "      <td>...</td>\n",
              "      <td>-0.01</td>\n",
              "      <td>-0.06</td>\n",
              "      <td>-0.09</td>\n",
              "      <td>-0.03</td>\n",
              "      <td>0.20</td>\n",
              "      <td>0.01</td>\n",
              "      <td>-0.02</td>\n",
              "      <td>0.15</td>\n",
              "      <td>-0.24</td>\n",
              "      <td>-0.12</td>\n",
              "    </tr>\n",
              "    <tr>\n",
              "      <th>V2</th>\n",
              "      <td>0.01</td>\n",
              "      <td>1.00</td>\n",
              "      <td>-0.09</td>\n",
              "      <td>0.04</td>\n",
              "      <td>-0.03</td>\n",
              "      <td>0.02</td>\n",
              "      <td>-0.02</td>\n",
              "      <td>0.01</td>\n",
              "      <td>0.00</td>\n",
              "      <td>0.03</td>\n",
              "      <td>...</td>\n",
              "      <td>-0.04</td>\n",
              "      <td>-0.01</td>\n",
              "      <td>0.02</td>\n",
              "      <td>-0.02</td>\n",
              "      <td>-0.10</td>\n",
              "      <td>-0.03</td>\n",
              "      <td>0.00</td>\n",
              "      <td>0.02</td>\n",
              "      <td>-0.55</td>\n",
              "      <td>0.10</td>\n",
              "    </tr>\n",
              "    <tr>\n",
              "      <th>V3</th>\n",
              "      <td>0.21</td>\n",
              "      <td>-0.09</td>\n",
              "      <td>1.00</td>\n",
              "      <td>-0.07</td>\n",
              "      <td>0.19</td>\n",
              "      <td>-0.06</td>\n",
              "      <td>0.18</td>\n",
              "      <td>-0.11</td>\n",
              "      <td>0.10</td>\n",
              "      <td>0.07</td>\n",
              "      <td>...</td>\n",
              "      <td>0.05</td>\n",
              "      <td>0.24</td>\n",
              "      <td>0.04</td>\n",
              "      <td>0.04</td>\n",
              "      <td>-0.19</td>\n",
              "      <td>0.03</td>\n",
              "      <td>-0.05</td>\n",
              "      <td>0.03</td>\n",
              "      <td>-0.23</td>\n",
              "      <td>-0.27</td>\n",
              "    </tr>\n",
              "    <tr>\n",
              "      <th>V4</th>\n",
              "      <td>-0.05</td>\n",
              "      <td>0.04</td>\n",
              "      <td>-0.07</td>\n",
              "      <td>1.00</td>\n",
              "      <td>0.02</td>\n",
              "      <td>-0.03</td>\n",
              "      <td>-0.00</td>\n",
              "      <td>0.03</td>\n",
              "      <td>0.05</td>\n",
              "      <td>-0.09</td>\n",
              "      <td>...</td>\n",
              "      <td>0.02</td>\n",
              "      <td>0.04</td>\n",
              "      <td>-0.01</td>\n",
              "      <td>0.01</td>\n",
              "      <td>-0.00</td>\n",
              "      <td>-0.03</td>\n",
              "      <td>0.03</td>\n",
              "      <td>-0.01</td>\n",
              "      <td>0.09</td>\n",
              "      <td>0.14</td>\n",
              "    </tr>\n",
              "    <tr>\n",
              "      <th>V5</th>\n",
              "      <td>-0.00</td>\n",
              "      <td>-0.03</td>\n",
              "      <td>0.19</td>\n",
              "      <td>0.02</td>\n",
              "      <td>1.00</td>\n",
              "      <td>0.03</td>\n",
              "      <td>-0.03</td>\n",
              "      <td>-0.02</td>\n",
              "      <td>0.03</td>\n",
              "      <td>0.05</td>\n",
              "      <td>...</td>\n",
              "      <td>-0.04</td>\n",
              "      <td>-0.09</td>\n",
              "      <td>0.01</td>\n",
              "      <td>-0.03</td>\n",
              "      <td>-0.03</td>\n",
              "      <td>-0.04</td>\n",
              "      <td>-0.01</td>\n",
              "      <td>-0.01</td>\n",
              "      <td>-0.40</td>\n",
              "      <td>-0.12</td>\n",
              "    </tr>\n",
              "    <tr>\n",
              "      <th>V6</th>\n",
              "      <td>0.05</td>\n",
              "      <td>0.02</td>\n",
              "      <td>-0.06</td>\n",
              "      <td>-0.03</td>\n",
              "      <td>0.03</td>\n",
              "      <td>1.00</td>\n",
              "      <td>0.04</td>\n",
              "      <td>-0.05</td>\n",
              "      <td>0.04</td>\n",
              "      <td>-0.02</td>\n",
              "      <td>...</td>\n",
              "      <td>0.00</td>\n",
              "      <td>0.06</td>\n",
              "      <td>-0.02</td>\n",
              "      <td>-0.03</td>\n",
              "      <td>0.04</td>\n",
              "      <td>0.01</td>\n",
              "      <td>-0.02</td>\n",
              "      <td>-0.01</td>\n",
              "      <td>0.21</td>\n",
              "      <td>-0.06</td>\n",
              "    </tr>\n",
              "    <tr>\n",
              "      <th>V7</th>\n",
              "      <td>0.08</td>\n",
              "      <td>-0.02</td>\n",
              "      <td>0.18</td>\n",
              "      <td>-0.00</td>\n",
              "      <td>-0.03</td>\n",
              "      <td>0.04</td>\n",
              "      <td>1.00</td>\n",
              "      <td>0.02</td>\n",
              "      <td>0.04</td>\n",
              "      <td>0.04</td>\n",
              "      <td>...</td>\n",
              "      <td>0.04</td>\n",
              "      <td>-0.07</td>\n",
              "      <td>0.06</td>\n",
              "      <td>0.01</td>\n",
              "      <td>-0.10</td>\n",
              "      <td>-0.03</td>\n",
              "      <td>-0.08</td>\n",
              "      <td>-0.04</td>\n",
              "      <td>0.38</td>\n",
              "      <td>-0.21</td>\n",
              "    </tr>\n",
              "    <tr>\n",
              "      <th>V8</th>\n",
              "      <td>-0.02</td>\n",
              "      <td>0.01</td>\n",
              "      <td>-0.11</td>\n",
              "      <td>0.03</td>\n",
              "      <td>-0.02</td>\n",
              "      <td>-0.05</td>\n",
              "      <td>0.02</td>\n",
              "      <td>1.00</td>\n",
              "      <td>-0.00</td>\n",
              "      <td>-0.02</td>\n",
              "      <td>...</td>\n",
              "      <td>0.11</td>\n",
              "      <td>0.01</td>\n",
              "      <td>-0.02</td>\n",
              "      <td>0.00</td>\n",
              "      <td>0.01</td>\n",
              "      <td>0.01</td>\n",
              "      <td>0.01</td>\n",
              "      <td>0.01</td>\n",
              "      <td>-0.09</td>\n",
              "      <td>0.08</td>\n",
              "    </tr>\n",
              "    <tr>\n",
              "      <th>V9</th>\n",
              "      <td>-0.06</td>\n",
              "      <td>0.00</td>\n",
              "      <td>0.10</td>\n",
              "      <td>0.05</td>\n",
              "      <td>0.03</td>\n",
              "      <td>0.04</td>\n",
              "      <td>0.04</td>\n",
              "      <td>-0.00</td>\n",
              "      <td>1.00</td>\n",
              "      <td>-0.03</td>\n",
              "      <td>...</td>\n",
              "      <td>0.02</td>\n",
              "      <td>0.05</td>\n",
              "      <td>-0.05</td>\n",
              "      <td>0.01</td>\n",
              "      <td>0.13</td>\n",
              "      <td>0.11</td>\n",
              "      <td>-0.00</td>\n",
              "      <td>-0.02</td>\n",
              "      <td>-0.02</td>\n",
              "      <td>-0.10</td>\n",
              "    </tr>\n",
              "    <tr>\n",
              "      <th>V10</th>\n",
              "      <td>0.00</td>\n",
              "      <td>0.03</td>\n",
              "      <td>0.07</td>\n",
              "      <td>-0.09</td>\n",
              "      <td>0.05</td>\n",
              "      <td>-0.02</td>\n",
              "      <td>0.04</td>\n",
              "      <td>-0.02</td>\n",
              "      <td>-0.03</td>\n",
              "      <td>1.00</td>\n",
              "      <td>...</td>\n",
              "      <td>-0.01</td>\n",
              "      <td>-0.06</td>\n",
              "      <td>-0.01</td>\n",
              "      <td>0.00</td>\n",
              "      <td>0.03</td>\n",
              "      <td>-0.01</td>\n",
              "      <td>-0.03</td>\n",
              "      <td>-0.02</td>\n",
              "      <td>-0.13</td>\n",
              "      <td>-0.24</td>\n",
              "    </tr>\n",
              "    <tr>\n",
              "      <th>V11</th>\n",
              "      <td>0.01</td>\n",
              "      <td>0.02</td>\n",
              "      <td>-0.07</td>\n",
              "      <td>-0.00</td>\n",
              "      <td>-0.01</td>\n",
              "      <td>-0.09</td>\n",
              "      <td>0.01</td>\n",
              "      <td>0.00</td>\n",
              "      <td>-0.02</td>\n",
              "      <td>0.03</td>\n",
              "      <td>...</td>\n",
              "      <td>0.04</td>\n",
              "      <td>0.06</td>\n",
              "      <td>0.03</td>\n",
              "      <td>0.05</td>\n",
              "      <td>-0.11</td>\n",
              "      <td>-0.01</td>\n",
              "      <td>0.02</td>\n",
              "      <td>0.00</td>\n",
              "      <td>-0.01</td>\n",
              "      <td>0.16</td>\n",
              "    </tr>\n",
              "    <tr>\n",
              "      <th>V12</th>\n",
              "      <td>-0.02</td>\n",
              "      <td>-0.01</td>\n",
              "      <td>0.06</td>\n",
              "      <td>0.04</td>\n",
              "      <td>0.02</td>\n",
              "      <td>0.02</td>\n",
              "      <td>0.04</td>\n",
              "      <td>-0.04</td>\n",
              "      <td>0.00</td>\n",
              "      <td>0.00</td>\n",
              "      <td>...</td>\n",
              "      <td>-0.01</td>\n",
              "      <td>0.06</td>\n",
              "      <td>-0.01</td>\n",
              "      <td>0.01</td>\n",
              "      <td>0.02</td>\n",
              "      <td>0.02</td>\n",
              "      <td>-0.02</td>\n",
              "      <td>-0.00</td>\n",
              "      <td>0.01</td>\n",
              "      <td>-0.28</td>\n",
              "    </tr>\n",
              "    <tr>\n",
              "      <th>V13</th>\n",
              "      <td>-0.00</td>\n",
              "      <td>0.03</td>\n",
              "      <td>-0.06</td>\n",
              "      <td>-0.02</td>\n",
              "      <td>0.05</td>\n",
              "      <td>-0.02</td>\n",
              "      <td>0.03</td>\n",
              "      <td>0.00</td>\n",
              "      <td>-0.04</td>\n",
              "      <td>-0.00</td>\n",
              "      <td>...</td>\n",
              "      <td>0.01</td>\n",
              "      <td>-0.02</td>\n",
              "      <td>-0.01</td>\n",
              "      <td>-0.03</td>\n",
              "      <td>0.04</td>\n",
              "      <td>0.01</td>\n",
              "      <td>-0.00</td>\n",
              "      <td>-0.01</td>\n",
              "      <td>-0.00</td>\n",
              "      <td>-0.00</td>\n",
              "    </tr>\n",
              "    <tr>\n",
              "      <th>V14</th>\n",
              "      <td>0.02</td>\n",
              "      <td>0.01</td>\n",
              "      <td>0.04</td>\n",
              "      <td>-0.00</td>\n",
              "      <td>0.03</td>\n",
              "      <td>0.02</td>\n",
              "      <td>0.01</td>\n",
              "      <td>-0.04</td>\n",
              "      <td>0.01</td>\n",
              "      <td>-0.05</td>\n",
              "      <td>...</td>\n",
              "      <td>-0.05</td>\n",
              "      <td>-0.07</td>\n",
              "      <td>0.03</td>\n",
              "      <td>0.03</td>\n",
              "      <td>-0.07</td>\n",
              "      <td>0.02</td>\n",
              "      <td>-0.04</td>\n",
              "      <td>0.01</td>\n",
              "      <td>0.02</td>\n",
              "      <td>-0.34</td>\n",
              "    </tr>\n",
              "    <tr>\n",
              "      <th>V15</th>\n",
              "      <td>0.04</td>\n",
              "      <td>0.08</td>\n",
              "      <td>-0.18</td>\n",
              "      <td>-0.03</td>\n",
              "      <td>0.11</td>\n",
              "      <td>-0.13</td>\n",
              "      <td>0.09</td>\n",
              "      <td>-0.04</td>\n",
              "      <td>-0.11</td>\n",
              "      <td>0.06</td>\n",
              "      <td>...</td>\n",
              "      <td>0.01</td>\n",
              "      <td>-0.01</td>\n",
              "      <td>0.03</td>\n",
              "      <td>-0.01</td>\n",
              "      <td>-0.10</td>\n",
              "      <td>-0.02</td>\n",
              "      <td>0.01</td>\n",
              "      <td>-0.01</td>\n",
              "      <td>-0.04</td>\n",
              "      <td>0.00</td>\n",
              "    </tr>\n",
              "    <tr>\n",
              "      <th>V16</th>\n",
              "      <td>0.01</td>\n",
              "      <td>0.04</td>\n",
              "      <td>-0.06</td>\n",
              "      <td>-0.07</td>\n",
              "      <td>0.10</td>\n",
              "      <td>-0.03</td>\n",
              "      <td>0.06</td>\n",
              "      <td>-0.05</td>\n",
              "      <td>-0.05</td>\n",
              "      <td>0.06</td>\n",
              "      <td>...</td>\n",
              "      <td>-0.01</td>\n",
              "      <td>0.03</td>\n",
              "      <td>-0.02</td>\n",
              "      <td>-0.02</td>\n",
              "      <td>0.10</td>\n",
              "      <td>0.02</td>\n",
              "      <td>-0.01</td>\n",
              "      <td>-0.02</td>\n",
              "      <td>-0.02</td>\n",
              "      <td>-0.22</td>\n",
              "    </tr>\n",
              "    <tr>\n",
              "      <th>V17</th>\n",
              "      <td>0.03</td>\n",
              "      <td>-0.05</td>\n",
              "      <td>0.08</td>\n",
              "      <td>0.01</td>\n",
              "      <td>-0.06</td>\n",
              "      <td>0.01</td>\n",
              "      <td>-0.01</td>\n",
              "      <td>-0.03</td>\n",
              "      <td>0.07</td>\n",
              "      <td>0.09</td>\n",
              "      <td>...</td>\n",
              "      <td>-0.02</td>\n",
              "      <td>0.08</td>\n",
              "      <td>0.04</td>\n",
              "      <td>0.00</td>\n",
              "      <td>-0.08</td>\n",
              "      <td>-0.07</td>\n",
              "      <td>-0.01</td>\n",
              "      <td>-0.01</td>\n",
              "      <td>0.02</td>\n",
              "      <td>-0.37</td>\n",
              "    </tr>\n",
              "    <tr>\n",
              "      <th>V18</th>\n",
              "      <td>-0.01</td>\n",
              "      <td>-0.02</td>\n",
              "      <td>-0.03</td>\n",
              "      <td>-0.04</td>\n",
              "      <td>0.03</td>\n",
              "      <td>0.04</td>\n",
              "      <td>0.03</td>\n",
              "      <td>-0.02</td>\n",
              "      <td>-0.04</td>\n",
              "      <td>0.05</td>\n",
              "      <td>...</td>\n",
              "      <td>-0.06</td>\n",
              "      <td>-0.11</td>\n",
              "      <td>0.00</td>\n",
              "      <td>-0.02</td>\n",
              "      <td>0.02</td>\n",
              "      <td>0.01</td>\n",
              "      <td>-0.01</td>\n",
              "      <td>0.00</td>\n",
              "      <td>0.05</td>\n",
              "      <td>-0.13</td>\n",
              "    </tr>\n",
              "    <tr>\n",
              "      <th>V19</th>\n",
              "      <td>0.01</td>\n",
              "      <td>0.01</td>\n",
              "      <td>-0.03</td>\n",
              "      <td>0.03</td>\n",
              "      <td>0.02</td>\n",
              "      <td>0.09</td>\n",
              "      <td>-0.03</td>\n",
              "      <td>0.03</td>\n",
              "      <td>0.02</td>\n",
              "      <td>-0.01</td>\n",
              "      <td>...</td>\n",
              "      <td>0.02</td>\n",
              "      <td>0.02</td>\n",
              "      <td>-0.00</td>\n",
              "      <td>-0.02</td>\n",
              "      <td>-0.01</td>\n",
              "      <td>-0.00</td>\n",
              "      <td>-0.00</td>\n",
              "      <td>-0.01</td>\n",
              "      <td>-0.06</td>\n",
              "      <td>0.04</td>\n",
              "    </tr>\n",
              "    <tr>\n",
              "      <th>V20</th>\n",
              "      <td>-0.05</td>\n",
              "      <td>-0.08</td>\n",
              "      <td>-0.10</td>\n",
              "      <td>0.02</td>\n",
              "      <td>-0.04</td>\n",
              "      <td>0.04</td>\n",
              "      <td>0.05</td>\n",
              "      <td>-0.05</td>\n",
              "      <td>0.03</td>\n",
              "      <td>-0.00</td>\n",
              "      <td>...</td>\n",
              "      <td>-0.03</td>\n",
              "      <td>-0.01</td>\n",
              "      <td>-0.02</td>\n",
              "      <td>-0.00</td>\n",
              "      <td>-0.02</td>\n",
              "      <td>0.01</td>\n",
              "      <td>0.00</td>\n",
              "      <td>0.11</td>\n",
              "      <td>0.42</td>\n",
              "      <td>0.02</td>\n",
              "    </tr>\n",
              "    <tr>\n",
              "      <th>V21</th>\n",
              "      <td>-0.01</td>\n",
              "      <td>-0.04</td>\n",
              "      <td>0.05</td>\n",
              "      <td>0.02</td>\n",
              "      <td>-0.04</td>\n",
              "      <td>0.00</td>\n",
              "      <td>0.04</td>\n",
              "      <td>0.11</td>\n",
              "      <td>0.02</td>\n",
              "      <td>-0.01</td>\n",
              "      <td>...</td>\n",
              "      <td>1.00</td>\n",
              "      <td>-0.08</td>\n",
              "      <td>-0.02</td>\n",
              "      <td>0.01</td>\n",
              "      <td>-0.01</td>\n",
              "      <td>-0.03</td>\n",
              "      <td>-0.02</td>\n",
              "      <td>0.04</td>\n",
              "      <td>0.13</td>\n",
              "      <td>0.05</td>\n",
              "    </tr>\n",
              "    <tr>\n",
              "      <th>V22</th>\n",
              "      <td>-0.06</td>\n",
              "      <td>-0.01</td>\n",
              "      <td>0.24</td>\n",
              "      <td>0.04</td>\n",
              "      <td>-0.09</td>\n",
              "      <td>0.06</td>\n",
              "      <td>-0.07</td>\n",
              "      <td>0.01</td>\n",
              "      <td>0.05</td>\n",
              "      <td>-0.06</td>\n",
              "      <td>...</td>\n",
              "      <td>-0.08</td>\n",
              "      <td>1.00</td>\n",
              "      <td>0.05</td>\n",
              "      <td>0.01</td>\n",
              "      <td>-0.01</td>\n",
              "      <td>-0.10</td>\n",
              "      <td>-0.02</td>\n",
              "      <td>-0.04</td>\n",
              "      <td>-0.08</td>\n",
              "      <td>-0.00</td>\n",
              "    </tr>\n",
              "    <tr>\n",
              "      <th>V23</th>\n",
              "      <td>-0.09</td>\n",
              "      <td>0.02</td>\n",
              "      <td>0.04</td>\n",
              "      <td>-0.01</td>\n",
              "      <td>0.01</td>\n",
              "      <td>-0.02</td>\n",
              "      <td>0.06</td>\n",
              "      <td>-0.02</td>\n",
              "      <td>-0.05</td>\n",
              "      <td>-0.01</td>\n",
              "      <td>...</td>\n",
              "      <td>-0.02</td>\n",
              "      <td>0.05</td>\n",
              "      <td>1.00</td>\n",
              "      <td>0.01</td>\n",
              "      <td>0.08</td>\n",
              "      <td>0.03</td>\n",
              "      <td>-0.01</td>\n",
              "      <td>0.02</td>\n",
              "      <td>-0.13</td>\n",
              "      <td>-0.01</td>\n",
              "    </tr>\n",
              "    <tr>\n",
              "      <th>V24</th>\n",
              "      <td>-0.03</td>\n",
              "      <td>-0.02</td>\n",
              "      <td>0.04</td>\n",
              "      <td>0.01</td>\n",
              "      <td>-0.03</td>\n",
              "      <td>-0.03</td>\n",
              "      <td>0.01</td>\n",
              "      <td>0.00</td>\n",
              "      <td>0.01</td>\n",
              "      <td>0.00</td>\n",
              "      <td>...</td>\n",
              "      <td>0.01</td>\n",
              "      <td>0.01</td>\n",
              "      <td>0.01</td>\n",
              "      <td>1.00</td>\n",
              "      <td>-0.05</td>\n",
              "      <td>-0.00</td>\n",
              "      <td>-0.01</td>\n",
              "      <td>-0.00</td>\n",
              "      <td>0.02</td>\n",
              "      <td>-0.01</td>\n",
              "    </tr>\n",
              "    <tr>\n",
              "      <th>V25</th>\n",
              "      <td>0.20</td>\n",
              "      <td>-0.10</td>\n",
              "      <td>-0.19</td>\n",
              "      <td>-0.00</td>\n",
              "      <td>-0.03</td>\n",
              "      <td>0.04</td>\n",
              "      <td>-0.10</td>\n",
              "      <td>0.01</td>\n",
              "      <td>0.13</td>\n",
              "      <td>0.03</td>\n",
              "      <td>...</td>\n",
              "      <td>-0.01</td>\n",
              "      <td>-0.01</td>\n",
              "      <td>0.08</td>\n",
              "      <td>-0.05</td>\n",
              "      <td>1.00</td>\n",
              "      <td>-0.11</td>\n",
              "      <td>0.06</td>\n",
              "      <td>0.06</td>\n",
              "      <td>-0.05</td>\n",
              "      <td>0.01</td>\n",
              "    </tr>\n",
              "    <tr>\n",
              "      <th>V26</th>\n",
              "      <td>0.01</td>\n",
              "      <td>-0.03</td>\n",
              "      <td>0.03</td>\n",
              "      <td>-0.03</td>\n",
              "      <td>-0.04</td>\n",
              "      <td>0.01</td>\n",
              "      <td>-0.03</td>\n",
              "      <td>0.01</td>\n",
              "      <td>0.11</td>\n",
              "      <td>-0.01</td>\n",
              "      <td>...</td>\n",
              "      <td>-0.03</td>\n",
              "      <td>-0.10</td>\n",
              "      <td>0.03</td>\n",
              "      <td>-0.00</td>\n",
              "      <td>-0.11</td>\n",
              "      <td>1.00</td>\n",
              "      <td>-0.00</td>\n",
              "      <td>0.00</td>\n",
              "      <td>0.01</td>\n",
              "      <td>0.00</td>\n",
              "    </tr>\n",
              "    <tr>\n",
              "      <th>V27</th>\n",
              "      <td>-0.02</td>\n",
              "      <td>0.00</td>\n",
              "      <td>-0.05</td>\n",
              "      <td>0.03</td>\n",
              "      <td>-0.01</td>\n",
              "      <td>-0.02</td>\n",
              "      <td>-0.08</td>\n",
              "      <td>0.01</td>\n",
              "      <td>-0.00</td>\n",
              "      <td>-0.03</td>\n",
              "      <td>...</td>\n",
              "      <td>-0.02</td>\n",
              "      <td>-0.02</td>\n",
              "      <td>-0.01</td>\n",
              "      <td>-0.01</td>\n",
              "      <td>0.06</td>\n",
              "      <td>-0.00</td>\n",
              "      <td>1.00</td>\n",
              "      <td>0.03</td>\n",
              "      <td>0.00</td>\n",
              "      <td>0.05</td>\n",
              "    </tr>\n",
              "    <tr>\n",
              "      <th>V28</th>\n",
              "      <td>0.15</td>\n",
              "      <td>0.02</td>\n",
              "      <td>0.03</td>\n",
              "      <td>-0.01</td>\n",
              "      <td>-0.01</td>\n",
              "      <td>-0.01</td>\n",
              "      <td>-0.04</td>\n",
              "      <td>0.01</td>\n",
              "      <td>-0.02</td>\n",
              "      <td>-0.02</td>\n",
              "      <td>...</td>\n",
              "      <td>0.04</td>\n",
              "      <td>-0.04</td>\n",
              "      <td>0.02</td>\n",
              "      <td>-0.00</td>\n",
              "      <td>0.06</td>\n",
              "      <td>0.00</td>\n",
              "      <td>0.03</td>\n",
              "      <td>1.00</td>\n",
              "      <td>0.01</td>\n",
              "      <td>0.01</td>\n",
              "    </tr>\n",
              "    <tr>\n",
              "      <th>Amount</th>\n",
              "      <td>-0.24</td>\n",
              "      <td>-0.55</td>\n",
              "      <td>-0.23</td>\n",
              "      <td>0.09</td>\n",
              "      <td>-0.40</td>\n",
              "      <td>0.21</td>\n",
              "      <td>0.38</td>\n",
              "      <td>-0.09</td>\n",
              "      <td>-0.02</td>\n",
              "      <td>-0.13</td>\n",
              "      <td>...</td>\n",
              "      <td>0.13</td>\n",
              "      <td>-0.08</td>\n",
              "      <td>-0.13</td>\n",
              "      <td>0.02</td>\n",
              "      <td>-0.05</td>\n",
              "      <td>0.01</td>\n",
              "      <td>0.00</td>\n",
              "      <td>0.01</td>\n",
              "      <td>1.00</td>\n",
              "      <td>0.00</td>\n",
              "    </tr>\n",
              "    <tr>\n",
              "      <th>Class</th>\n",
              "      <td>-0.12</td>\n",
              "      <td>0.10</td>\n",
              "      <td>-0.27</td>\n",
              "      <td>0.14</td>\n",
              "      <td>-0.12</td>\n",
              "      <td>-0.06</td>\n",
              "      <td>-0.21</td>\n",
              "      <td>0.08</td>\n",
              "      <td>-0.10</td>\n",
              "      <td>-0.24</td>\n",
              "      <td>...</td>\n",
              "      <td>0.05</td>\n",
              "      <td>-0.00</td>\n",
              "      <td>-0.01</td>\n",
              "      <td>-0.01</td>\n",
              "      <td>0.01</td>\n",
              "      <td>0.00</td>\n",
              "      <td>0.05</td>\n",
              "      <td>0.01</td>\n",
              "      <td>0.00</td>\n",
              "      <td>1.00</td>\n",
              "    </tr>\n",
              "  </tbody>\n",
              "</table>\n",
              "<p>30 rows × 30 columns</p>\n",
              "</div>\n",
              "      <button class=\"colab-df-convert\" onclick=\"convertToInteractive('df-d5ba8acb-ee52-4e67-9505-127569ae41be')\"\n",
              "              title=\"Convert this dataframe to an interactive table.\"\n",
              "              style=\"display:none;\">\n",
              "\n",
              "  <svg xmlns=\"http://www.w3.org/2000/svg\" height=\"24px\"viewBox=\"0 0 24 24\"\n",
              "       width=\"24px\">\n",
              "    <path d=\"M0 0h24v24H0V0z\" fill=\"none\"/>\n",
              "    <path d=\"M18.56 5.44l.94 2.06.94-2.06 2.06-.94-2.06-.94-.94-2.06-.94 2.06-2.06.94zm-11 1L8.5 8.5l.94-2.06 2.06-.94-2.06-.94L8.5 2.5l-.94 2.06-2.06.94zm10 10l.94 2.06.94-2.06 2.06-.94-2.06-.94-.94-2.06-.94 2.06-2.06.94z\"/><path d=\"M17.41 7.96l-1.37-1.37c-.4-.4-.92-.59-1.43-.59-.52 0-1.04.2-1.43.59L10.3 9.45l-7.72 7.72c-.78.78-.78 2.05 0 2.83L4 21.41c.39.39.9.59 1.41.59.51 0 1.02-.2 1.41-.59l7.78-7.78 2.81-2.81c.8-.78.8-2.07 0-2.86zM5.41 20L4 18.59l7.72-7.72 1.47 1.35L5.41 20z\"/>\n",
              "  </svg>\n",
              "      </button>\n",
              "\n",
              "\n",
              "\n",
              "    <div id=\"df-399cd878-6d2e-4691-907d-8dd5ee28e96f\">\n",
              "      <button class=\"colab-df-quickchart\" onclick=\"quickchart('df-399cd878-6d2e-4691-907d-8dd5ee28e96f')\"\n",
              "              title=\"Suggest charts.\"\n",
              "              style=\"display:none;\">\n",
              "\n",
              "<svg xmlns=\"http://www.w3.org/2000/svg\" height=\"24px\"viewBox=\"0 0 24 24\"\n",
              "     width=\"24px\">\n",
              "    <g>\n",
              "        <path d=\"M19 3H5c-1.1 0-2 .9-2 2v14c0 1.1.9 2 2 2h14c1.1 0 2-.9 2-2V5c0-1.1-.9-2-2-2zM9 17H7v-7h2v7zm4 0h-2V7h2v10zm4 0h-2v-4h2v4z\"/>\n",
              "    </g>\n",
              "</svg>\n",
              "      </button>\n",
              "    </div>\n",
              "\n",
              "<style>\n",
              "  .colab-df-quickchart {\n",
              "    background-color: #E8F0FE;\n",
              "    border: none;\n",
              "    border-radius: 50%;\n",
              "    cursor: pointer;\n",
              "    display: none;\n",
              "    fill: #1967D2;\n",
              "    height: 32px;\n",
              "    padding: 0 0 0 0;\n",
              "    width: 32px;\n",
              "  }\n",
              "\n",
              "  .colab-df-quickchart:hover {\n",
              "    background-color: #E2EBFA;\n",
              "    box-shadow: 0px 1px 2px rgba(60, 64, 67, 0.3), 0px 1px 3px 1px rgba(60, 64, 67, 0.15);\n",
              "    fill: #174EA6;\n",
              "  }\n",
              "\n",
              "  [theme=dark] .colab-df-quickchart {\n",
              "    background-color: #3B4455;\n",
              "    fill: #D2E3FC;\n",
              "  }\n",
              "\n",
              "  [theme=dark] .colab-df-quickchart:hover {\n",
              "    background-color: #434B5C;\n",
              "    box-shadow: 0px 1px 3px 1px rgba(0, 0, 0, 0.15);\n",
              "    filter: drop-shadow(0px 1px 2px rgba(0, 0, 0, 0.3));\n",
              "    fill: #FFFFFF;\n",
              "  }\n",
              "</style>\n",
              "\n",
              "    <script>\n",
              "      async function quickchart(key) {\n",
              "        const containerElement = document.querySelector('#' + key);\n",
              "        const charts = await google.colab.kernel.invokeFunction(\n",
              "            'suggestCharts', [key], {});\n",
              "      }\n",
              "    </script>\n",
              "\n",
              "      <script>\n",
              "\n",
              "function displayQuickchartButton(domScope) {\n",
              "  let quickchartButtonEl =\n",
              "    domScope.querySelector('#df-399cd878-6d2e-4691-907d-8dd5ee28e96f button.colab-df-quickchart');\n",
              "  quickchartButtonEl.style.display =\n",
              "    google.colab.kernel.accessAllowed ? 'block' : 'none';\n",
              "}\n",
              "\n",
              "        displayQuickchartButton(document);\n",
              "      </script>\n",
              "      <style>\n",
              "    .colab-df-container {\n",
              "      display:flex;\n",
              "      flex-wrap:wrap;\n",
              "      gap: 12px;\n",
              "    }\n",
              "\n",
              "    .colab-df-convert {\n",
              "      background-color: #E8F0FE;\n",
              "      border: none;\n",
              "      border-radius: 50%;\n",
              "      cursor: pointer;\n",
              "      display: none;\n",
              "      fill: #1967D2;\n",
              "      height: 32px;\n",
              "      padding: 0 0 0 0;\n",
              "      width: 32px;\n",
              "    }\n",
              "\n",
              "    .colab-df-convert:hover {\n",
              "      background-color: #E2EBFA;\n",
              "      box-shadow: 0px 1px 2px rgba(60, 64, 67, 0.3), 0px 1px 3px 1px rgba(60, 64, 67, 0.15);\n",
              "      fill: #174EA6;\n",
              "    }\n",
              "\n",
              "    [theme=dark] .colab-df-convert {\n",
              "      background-color: #3B4455;\n",
              "      fill: #D2E3FC;\n",
              "    }\n",
              "\n",
              "    [theme=dark] .colab-df-convert:hover {\n",
              "      background-color: #434B5C;\n",
              "      box-shadow: 0px 1px 3px 1px rgba(0, 0, 0, 0.15);\n",
              "      filter: drop-shadow(0px 1px 2px rgba(0, 0, 0, 0.3));\n",
              "      fill: #FFFFFF;\n",
              "    }\n",
              "  </style>\n",
              "\n",
              "      <script>\n",
              "        const buttonEl =\n",
              "          document.querySelector('#df-d5ba8acb-ee52-4e67-9505-127569ae41be button.colab-df-convert');\n",
              "        buttonEl.style.display =\n",
              "          google.colab.kernel.accessAllowed ? 'block' : 'none';\n",
              "\n",
              "        async function convertToInteractive(key) {\n",
              "          const element = document.querySelector('#df-d5ba8acb-ee52-4e67-9505-127569ae41be');\n",
              "          const dataTable =\n",
              "            await google.colab.kernel.invokeFunction('convertToInteractive',\n",
              "                                                     [key], {});\n",
              "          if (!dataTable) return;\n",
              "\n",
              "          const docLinkHtml = 'Like what you see? Visit the ' +\n",
              "            '<a target=\"_blank\" href=https://colab.research.google.com/notebooks/data_table.ipynb>data table notebook</a>'\n",
              "            + ' to learn more about interactive tables.';\n",
              "          element.innerHTML = '';\n",
              "          dataTable['output_type'] = 'display_data';\n",
              "          await google.colab.output.renderOutput(dataTable, element);\n",
              "          const docLink = document.createElement('div');\n",
              "          docLink.innerHTML = docLinkHtml;\n",
              "          element.appendChild(docLink);\n",
              "        }\n",
              "      </script>\n",
              "    </div>\n",
              "  </div>\n"
            ]
          },
          "metadata": {},
          "execution_count": 546
        }
      ],
      "source": [
        "cormat = df.corr()\n",
        "round(cormat,2)"
      ]
    },
    {
      "cell_type": "code",
      "execution_count": null,
      "metadata": {
        "colab": {
          "base_uri": "https://localhost:8080/",
          "height": 1000
        },
        "id": "W8kOjTXo5xwb",
        "outputId": "b044da83-e7cc-4040-ca6f-0de02b0786fb"
      },
      "outputs": [
        {
          "output_type": "execute_result",
          "data": {
            "text/plain": [
              "<pandas.io.formats.style.Styler at 0x7936b9c54550>"
            ],
            "text/html": [
              "<style type=\"text/css\">\n",
              "#T_45f62_row0_col0, #T_45f62_row1_col1, #T_45f62_row2_col2, #T_45f62_row3_col3, #T_45f62_row4_col4, #T_45f62_row5_col5, #T_45f62_row6_col6, #T_45f62_row7_col7, #T_45f62_row8_col8, #T_45f62_row9_col9, #T_45f62_row10_col10, #T_45f62_row11_col11, #T_45f62_row12_col12, #T_45f62_row13_col13, #T_45f62_row14_col14, #T_45f62_row15_col15, #T_45f62_row16_col16, #T_45f62_row17_col17, #T_45f62_row18_col18, #T_45f62_row19_col19, #T_45f62_row20_col20, #T_45f62_row21_col21, #T_45f62_row22_col22, #T_45f62_row23_col23, #T_45f62_row24_col24, #T_45f62_row25_col25, #T_45f62_row26_col26, #T_45f62_row27_col27, #T_45f62_row28_col28, #T_45f62_row29_col29 {\n",
              "  background-color: #b40426;\n",
              "  color: #f1f1f1;\n",
              "}\n",
              "#T_45f62_row0_col1, #T_45f62_row0_col10, #T_45f62_row0_col17, #T_45f62_row0_col25, #T_45f62_row1_col0, #T_45f62_row1_col21, #T_45f62_row4_col10, #T_45f62_row4_col22, #T_45f62_row4_col26, #T_45f62_row4_col27, #T_45f62_row5_col25, #T_45f62_row7_col1, #T_45f62_row7_col24, #T_45f62_row7_col26, #T_45f62_row9_col20, #T_45f62_row10_col0, #T_45f62_row10_col4, #T_45f62_row10_col12, #T_45f62_row10_col25, #T_45f62_row10_col28, #T_45f62_row11_col23, #T_45f62_row12_col18, #T_45f62_row12_col22, #T_45f62_row13_col2, #T_45f62_row13_col12, #T_45f62_row15_col11, #T_45f62_row15_col12, #T_45f62_row16_col3, #T_45f62_row17_col25, #T_45f62_row18_col9, #T_45f62_row18_col12, #T_45f62_row18_col24, #T_45f62_row20_col9, #T_45f62_row20_col11, #T_45f62_row20_col14, #T_45f62_row20_col23, #T_45f62_row21_col1, #T_45f62_row21_col19, #T_45f62_row21_col24, #T_45f62_row22_col2, #T_45f62_row22_col4, #T_45f62_row22_col12, #T_45f62_row22_col15, #T_45f62_row23_col11, #T_45f62_row23_col15, #T_45f62_row23_col20, #T_45f62_row23_col22, #T_45f62_row24_col18, #T_45f62_row24_col21, #T_45f62_row25_col0, #T_45f62_row25_col2, #T_45f62_row25_col5, #T_45f62_row25_col7, #T_45f62_row25_col10, #T_45f62_row25_col19, #T_45f62_row25_col28, #T_45f62_row26_col4, #T_45f62_row26_col7, #T_45f62_row26_col23, #T_45f62_row27_col4, #T_45f62_row27_col13, #T_45f62_row27_col15, #T_45f62_row27_col16, #T_45f62_row27_col28, #T_45f62_row28_col10, #T_45f62_row28_col11, #T_45f62_row28_col25, #T_45f62_row29_col22 {\n",
              "  background-color: #3d50c3;\n",
              "  color: #f1f1f1;\n",
              "}\n",
              "#T_45f62_row0_col2 {\n",
              "  background-color: #779af7;\n",
              "  color: #f1f1f1;\n",
              "}\n",
              "#T_45f62_row0_col3, #T_45f62_row0_col19, #T_45f62_row1_col16, #T_45f62_row2_col26, #T_45f62_row3_col0, #T_45f62_row3_col8, #T_45f62_row4_col9, #T_45f62_row4_col12, #T_45f62_row6_col19, #T_45f62_row8_col21, #T_45f62_row8_col22, #T_45f62_row9_col13, #T_45f62_row9_col15, #T_45f62_row10_col23, #T_45f62_row13_col9, #T_45f62_row15_col7, #T_45f62_row15_col14, #T_45f62_row16_col1, #T_45f62_row16_col2, #T_45f62_row19_col0, #T_45f62_row20_col29, #T_45f62_row21_col8, #T_45f62_row22_col8, #T_45f62_row23_col24, #T_45f62_row24_col23 {\n",
              "  background-color: #4961d2;\n",
              "  color: #f1f1f1;\n",
              "}\n",
              "#T_45f62_row0_col4, #T_45f62_row0_col9, #T_45f62_row0_col12, #T_45f62_row0_col15, #T_45f62_row1_col8, #T_45f62_row1_col26, #T_45f62_row3_col6, #T_45f62_row3_col10, #T_45f62_row3_col13, #T_45f62_row3_col24, #T_45f62_row4_col0, #T_45f62_row5_col20, #T_45f62_row6_col3, #T_45f62_row6_col13, #T_45f62_row6_col16, #T_45f62_row7_col8, #T_45f62_row7_col10, #T_45f62_row7_col12, #T_45f62_row7_col21, #T_45f62_row7_col23, #T_45f62_row8_col1, #T_45f62_row8_col7, #T_45f62_row8_col11, #T_45f62_row8_col13, #T_45f62_row8_col26, #T_45f62_row9_col0, #T_45f62_row9_col11, #T_45f62_row9_col12, #T_45f62_row9_col19, #T_45f62_row9_col23, #T_45f62_row10_col3, #T_45f62_row10_col6, #T_45f62_row10_col7, #T_45f62_row10_col27, #T_45f62_row11_col1, #T_45f62_row11_col8, #T_45f62_row11_col9, #T_45f62_row11_col15, #T_45f62_row11_col27, #T_45f62_row12_col0, #T_45f62_row12_col7, #T_45f62_row12_col9, #T_45f62_row12_col15, #T_45f62_row12_col16, #T_45f62_row12_col26, #T_45f62_row12_col28, #T_45f62_row12_col29, #T_45f62_row13_col3, #T_45f62_row13_col6, #T_45f62_row14_col19, #T_45f62_row14_col29, #T_45f62_row15_col16, #T_45f62_row16_col6, #T_45f62_row16_col15, #T_45f62_row16_col23, #T_45f62_row17_col2, #T_45f62_row17_col19, #T_45f62_row17_col22, #T_45f62_row17_col27, #T_45f62_row18_col2, #T_45f62_row18_col19, #T_45f62_row18_col22, #T_45f62_row18_col25, #T_45f62_row18_col26, #T_45f62_row19_col9, #T_45f62_row19_col14, #T_45f62_row19_col17, #T_45f62_row19_col18, #T_45f62_row19_col23, #T_45f62_row19_col26, #T_45f62_row20_col5, #T_45f62_row20_col15, #T_45f62_row21_col29, #T_45f62_row22_col17, #T_45f62_row22_col18, #T_45f62_row23_col3, #T_45f62_row23_col6, #T_45f62_row23_col9, #T_45f62_row23_col16, #T_45f62_row23_col19, #T_45f62_row23_col21, #T_45f62_row23_col25, #T_45f62_row23_col27, #T_45f62_row24_col3, #T_45f62_row25_col18, #T_45f62_row25_col26, #T_45f62_row25_col27, #T_45f62_row25_col29, #T_45f62_row26_col1, #T_45f62_row26_col8, #T_45f62_row26_col12, #T_45f62_row26_col15, #T_45f62_row26_col16, #T_45f62_row26_col18, #T_45f62_row26_col19, #T_45f62_row26_col25, #T_45f62_row26_col28, #T_45f62_row27_col5, #T_45f62_row27_col10, #T_45f62_row27_col11, #T_45f62_row27_col17, #T_45f62_row27_col18, #T_45f62_row27_col23, #T_45f62_row27_col25, #T_45f62_row28_col12, #T_45f62_row28_col26, #T_45f62_row28_col29, #T_45f62_row29_col12, #T_45f62_row29_col14, #T_45f62_row29_col21, #T_45f62_row29_col25, #T_45f62_row29_col28 {\n",
              "  background-color: #3b4cc0;\n",
              "  color: #f1f1f1;\n",
              "}\n",
              "#T_45f62_row0_col5, #T_45f62_row5_col0, #T_45f62_row7_col19, #T_45f62_row8_col3, #T_45f62_row8_col15, #T_45f62_row9_col4, #T_45f62_row11_col7, #T_45f62_row12_col4, #T_45f62_row13_col20, #T_45f62_row14_col7, #T_45f62_row19_col6, #T_45f62_row19_col7, #T_45f62_row20_col13, #T_45f62_row23_col10, #T_45f62_row24_col12, #T_45f62_row29_col20 {\n",
              "  background-color: #485fd1;\n",
              "  color: #f1f1f1;\n",
              "}\n",
              "#T_45f62_row0_col6, #T_45f62_row1_col19, #T_45f62_row6_col26, #T_45f62_row7_col29, #T_45f62_row16_col21, #T_45f62_row19_col1, #T_45f62_row21_col16, #T_45f62_row21_col28, #T_45f62_row26_col6, #T_45f62_row28_col21 {\n",
              "  background-color: #516ddb;\n",
              "  color: #f1f1f1;\n",
              "}\n",
              "#T_45f62_row0_col7, #T_45f62_row0_col13, #T_45f62_row0_col16, #T_45f62_row1_col10, #T_45f62_row1_col22, #T_45f62_row1_col27, #T_45f62_row3_col20, #T_45f62_row4_col7, #T_45f62_row4_col18, #T_45f62_row5_col9, #T_45f62_row5_col13, #T_45f62_row5_col15, #T_45f62_row6_col7, #T_45f62_row7_col0, #T_45f62_row7_col4, #T_45f62_row7_col17, #T_45f62_row8_col27, #T_45f62_row10_col1, #T_45f62_row10_col8, #T_45f62_row10_col13, #T_45f62_row10_col14, #T_45f62_row11_col12, #T_45f62_row11_col17, #T_45f62_row11_col25, #T_45f62_row12_col6, #T_45f62_row12_col11, #T_45f62_row12_col21, #T_45f62_row13_col0, #T_45f62_row13_col5, #T_45f62_row13_col10, #T_45f62_row13_col19, #T_45f62_row15_col28, #T_45f62_row17_col7, #T_45f62_row17_col11, #T_45f62_row17_col16, #T_45f62_row17_col23, #T_45f62_row18_col4, #T_45f62_row19_col13, #T_45f62_row20_col3, #T_45f62_row20_col26, #T_45f62_row21_col12, #T_45f62_row21_col15, #T_45f62_row22_col1, #T_45f62_row23_col17, #T_45f62_row23_col28, #T_45f62_row24_col17, #T_45f62_row25_col11, #T_45f62_row25_col14, #T_45f62_row26_col20, #T_45f62_row27_col1, #T_45f62_row28_col23 {\n",
              "  background-color: #4055c8;\n",
              "  color: #f1f1f1;\n",
              "}\n",
              "#T_45f62_row0_col8, #T_45f62_row2_col5, #T_45f62_row9_col21, #T_45f62_row10_col18, #T_45f62_row14_col9, #T_45f62_row14_col18, #T_45f62_row18_col10, #T_45f62_row18_col14, #T_45f62_row21_col10, #T_45f62_row22_col6 {\n",
              "  background-color: #4c66d6;\n",
              "  color: #f1f1f1;\n",
              "}\n",
              "#T_45f62_row0_col11, #T_45f62_row1_col17, #T_45f62_row1_col23, #T_45f62_row4_col11, #T_45f62_row5_col12, #T_45f62_row5_col22, #T_45f62_row7_col6, #T_45f62_row7_col9, #T_45f62_row8_col10, #T_45f62_row8_col28, #T_45f62_row9_col5, #T_45f62_row9_col7, #T_45f62_row9_col27, #T_45f62_row10_col11, #T_45f62_row10_col26, #T_45f62_row11_col0, #T_45f62_row11_col4, #T_45f62_row11_col18, #T_45f62_row14_col10, #T_45f62_row14_col12, #T_45f62_row14_col17, #T_45f62_row14_col25, #T_45f62_row15_col17, #T_45f62_row15_col25, #T_45f62_row15_col27, #T_45f62_row16_col20, #T_45f62_row16_col28, #T_45f62_row17_col1, #T_45f62_row17_col14, #T_45f62_row17_col24, #T_45f62_row18_col11, #T_45f62_row18_col21, #T_45f62_row18_col23, #T_45f62_row19_col22, #T_45f62_row19_col24, #T_45f62_row20_col8, #T_45f62_row20_col16, #T_45f62_row20_col22, #T_45f62_row21_col18, #T_45f62_row22_col5, #T_45f62_row22_col19, #T_45f62_row22_col20, #T_45f62_row23_col18, #T_45f62_row24_col11, #T_45f62_row24_col19, #T_45f62_row26_col10, #T_45f62_row27_col9, #T_45f62_row28_col8, #T_45f62_row28_col15, #T_45f62_row28_col16 {\n",
              "  background-color: #3f53c6;\n",
              "  color: #f1f1f1;\n",
              "}\n",
              "#T_45f62_row0_col14, #T_45f62_row2_col23, #T_45f62_row3_col2, #T_45f62_row3_col11, #T_45f62_row3_col21, #T_45f62_row4_col25, #T_45f62_row5_col17, #T_45f62_row6_col8, #T_45f62_row6_col9, #T_45f62_row6_col11, #T_45f62_row6_col20, #T_45f62_row7_col11, #T_45f62_row7_col14, #T_45f62_row7_col15, #T_45f62_row8_col12, #T_45f62_row8_col17, #T_45f62_row9_col2, #T_45f62_row9_col6, #T_45f62_row10_col2, #T_45f62_row11_col6, #T_45f62_row12_col8, #T_45f62_row12_col24, #T_45f62_row14_col0, #T_45f62_row14_col15, #T_45f62_row14_col28, #T_45f62_row15_col18, #T_45f62_row15_col19, #T_45f62_row16_col18, #T_45f62_row17_col5, #T_45f62_row17_col8, #T_45f62_row18_col16, #T_45f62_row18_col29, #T_45f62_row20_col6, #T_45f62_row21_col3, #T_45f62_row25_col4, #T_45f62_row28_col14, #T_45f62_row29_col18 {\n",
              "  background-color: #465ecf;\n",
              "  color: #f1f1f1;\n",
              "}\n",
              "#T_45f62_row0_col18, #T_45f62_row0_col20, #T_45f62_row1_col11, #T_45f62_row1_col13, #T_45f62_row1_col18, #T_45f62_row3_col16, #T_45f62_row3_col22, #T_45f62_row3_col23, #T_45f62_row3_col27, #T_45f62_row5_col16, #T_45f62_row5_col27, #T_45f62_row6_col10, #T_45f62_row6_col23, #T_45f62_row7_col25, #T_45f62_row9_col18, #T_45f62_row9_col22, #T_45f62_row10_col19, #T_45f62_row11_col19, #T_45f62_row11_col20, #T_45f62_row11_col22, #T_45f62_row11_col28, #T_45f62_row12_col10, #T_45f62_row12_col13, #T_45f62_row12_col20, #T_45f62_row12_col25, #T_45f62_row12_col27, #T_45f62_row13_col1, #T_45f62_row13_col8, #T_45f62_row14_col20, #T_45f62_row14_col23, #T_45f62_row14_col26, #T_45f62_row14_col27, #T_45f62_row15_col0, #T_45f62_row15_col20, #T_45f62_row15_col26, #T_45f62_row16_col5, #T_45f62_row16_col12, #T_45f62_row16_col26, #T_45f62_row17_col0, #T_45f62_row18_col0, #T_45f62_row18_col1, #T_45f62_row18_col27, #T_45f62_row19_col10, #T_45f62_row19_col11, #T_45f62_row19_col21, #T_45f62_row19_col25, #T_45f62_row20_col0, #T_45f62_row20_col12, #T_45f62_row20_col24, #T_45f62_row21_col7, #T_45f62_row21_col23, #T_45f62_row22_col3, #T_45f62_row22_col9, #T_45f62_row22_col11, #T_45f62_row23_col7, #T_45f62_row23_col14, #T_45f62_row23_col26, #T_45f62_row23_col29, #T_45f62_row24_col20, #T_45f62_row24_col29, #T_45f62_row25_col12, #T_45f62_row25_col23, #T_45f62_row26_col14, #T_45f62_row27_col2, #T_45f62_row27_col3, #T_45f62_row27_col12, #T_45f62_row27_col14, #T_45f62_row27_col29, #T_45f62_row29_col23, #T_45f62_row29_col24, #T_45f62_row29_col27 {\n",
              "  background-color: #3c4ec2;\n",
              "  color: #f1f1f1;\n",
              "}\n",
              "#T_45f62_row0_col21, #T_45f62_row2_col11, #T_45f62_row2_col12, #T_45f62_row2_col15, #T_45f62_row5_col21, #T_45f62_row5_col29, #T_45f62_row8_col0, #T_45f62_row9_col14, #T_45f62_row10_col21, #T_45f62_row15_col6, #T_45f62_row15_col9, #T_45f62_row16_col4, #T_45f62_row18_col28, #T_45f62_row21_col0, #T_45f62_row21_col5, #T_45f62_row21_col11, #T_45f62_row24_col27, #T_45f62_row28_col18, #T_45f62_row29_col5 {\n",
              "  background-color: #4b64d5;\n",
              "  color: #f1f1f1;\n",
              "}\n",
              "#T_45f62_row0_col22, #T_45f62_row2_col1, #T_45f62_row4_col21, #T_45f62_row5_col10, #T_45f62_row6_col14, #T_45f62_row7_col2, #T_45f62_row7_col28, #T_45f62_row9_col16, #T_45f62_row10_col5, #T_45f62_row21_col4, #T_45f62_row22_col0 {\n",
              "  background-color: #5572df;\n",
              "  color: #f1f1f1;\n",
              "}\n",
              "#T_45f62_row0_col23, #T_45f62_row2_col17, #T_45f62_row2_col18, #T_45f62_row3_col5, #T_45f62_row3_col14, #T_45f62_row3_col18, #T_45f62_row4_col8, #T_45f62_row4_col13, #T_45f62_row4_col24, #T_45f62_row5_col3, #T_45f62_row6_col12, #T_45f62_row6_col17, #T_45f62_row6_col25, #T_45f62_row7_col16, #T_45f62_row8_col4, #T_45f62_row8_col9, #T_45f62_row9_col1, #T_45f62_row9_col10, #T_45f62_row10_col9, #T_45f62_row10_col15, #T_45f62_row11_col13, #T_45f62_row13_col4, #T_45f62_row13_col18, #T_45f62_row13_col22, #T_45f62_row14_col3, #T_45f62_row14_col22, #T_45f62_row15_col5, #T_45f62_row16_col0, #T_45f62_row16_col17, #T_45f62_row17_col6, #T_45f62_row18_col3, #T_45f62_row18_col13, #T_45f62_row19_col20, #T_45f62_row20_col2, #T_45f62_row20_col25, #T_45f62_row22_col13, #T_45f62_row22_col14, #T_45f62_row23_col0, #T_45f62_row23_col13, #T_45f62_row24_col4, #T_45f62_row25_col6, #T_45f62_row25_col20, #T_45f62_row26_col2, #T_45f62_row27_col8 {\n",
              "  background-color: #4257c9;\n",
              "  color: #f1f1f1;\n",
              "}\n",
              "#T_45f62_row0_col24, #T_45f62_row24_col0 {\n",
              "  background-color: #7a9df8;\n",
              "  color: #f1f1f1;\n",
              "}\n",
              "#T_45f62_row0_col26, #T_45f62_row1_col5, #T_45f62_row1_col6, #T_45f62_row1_col7, #T_45f62_row3_col4, #T_45f62_row3_col12, #T_45f62_row3_col19, #T_45f62_row4_col3, #T_45f62_row5_col1, #T_45f62_row5_col11, #T_45f62_row5_col26, #T_45f62_row6_col1, #T_45f62_row7_col22, #T_45f62_row7_col27, #T_45f62_row8_col18, #T_45f62_row8_col20, #T_45f62_row8_col23, #T_45f62_row9_col25, #T_45f62_row11_col5, #T_45f62_row11_col10, #T_45f62_row11_col24, #T_45f62_row11_col26, #T_45f62_row12_col3, #T_45f62_row12_col5, #T_45f62_row12_col14, #T_45f62_row12_col17, #T_45f62_row12_col19, #T_45f62_row13_col25, #T_45f62_row13_col27, #T_45f62_row13_col28, #T_45f62_row14_col21, #T_45f62_row15_col22, #T_45f62_row15_col23, #T_45f62_row16_col19, #T_45f62_row16_col27, #T_45f62_row17_col12, #T_45f62_row17_col15, #T_45f62_row17_col26, #T_45f62_row18_col8, #T_45f62_row18_col20, #T_45f62_row19_col3, #T_45f62_row19_col12, #T_45f62_row19_col16, #T_45f62_row19_col29, #T_45f62_row20_col18, #T_45f62_row21_col14, #T_45f62_row21_col26, #T_45f62_row22_col7, #T_45f62_row22_col23, #T_45f62_row22_col26, #T_45f62_row22_col27, #T_45f62_row22_col29, #T_45f62_row23_col1, #T_45f62_row23_col2, #T_45f62_row23_col8, #T_45f62_row24_col7, #T_45f62_row25_col9, #T_45f62_row25_col13, #T_45f62_row25_col15, #T_45f62_row25_col17, #T_45f62_row26_col0, #T_45f62_row26_col5, #T_45f62_row26_col11, #T_45f62_row26_col17, #T_45f62_row26_col21, #T_45f62_row26_col22, #T_45f62_row27_col7, #T_45f62_row27_col22, #T_45f62_row28_col13, #T_45f62_row28_col27, #T_45f62_row29_col19 {\n",
              "  background-color: #3e51c5;\n",
              "  color: #f1f1f1;\n",
              "}\n",
              "#T_45f62_row0_col27, #T_45f62_row27_col0 {\n",
              "  background-color: #6a8bef;\n",
              "  color: #f1f1f1;\n",
              "}\n",
              "#T_45f62_row0_col28, #T_45f62_row2_col21, #T_45f62_row9_col29, #T_45f62_row28_col0, #T_45f62_row29_col9 {\n",
              "  background-color: #88abfd;\n",
              "  color: #000000;\n",
              "}\n",
              "#T_45f62_row0_col29, #T_45f62_row4_col29, #T_45f62_row29_col0 {\n",
              "  background-color: #6180e9;\n",
              "  color: #f1f1f1;\n",
              "}\n",
              "#T_45f62_row1_col2, #T_45f62_row2_col9, #T_45f62_row2_col10, #T_45f62_row3_col15, #T_45f62_row6_col21, #T_45f62_row6_col22, #T_45f62_row13_col14, #T_45f62_row13_col24, #T_45f62_row14_col13, #T_45f62_row14_col16, #T_45f62_row16_col14, #T_45f62_row21_col6, #T_45f62_row21_col9, #T_45f62_row24_col13 {\n",
              "  background-color: #4e68d8;\n",
              "  color: #f1f1f1;\n",
              "}\n",
              "#T_45f62_row1_col3, #T_45f62_row1_col4, #T_45f62_row1_col12, #T_45f62_row1_col15, #T_45f62_row2_col13, #T_45f62_row2_col22, #T_45f62_row2_col25, #T_45f62_row2_col27, #T_45f62_row3_col1, #T_45f62_row3_col7, #T_45f62_row4_col1, #T_45f62_row4_col20, #T_45f62_row4_col23, #T_45f62_row5_col23, #T_45f62_row5_col24, #T_45f62_row6_col18, #T_45f62_row7_col3, #T_45f62_row11_col2, #T_45f62_row12_col1, #T_45f62_row12_col2, #T_45f62_row13_col26, #T_45f62_row17_col3, #T_45f62_row18_col7, #T_45f62_row18_col15, #T_45f62_row19_col8, #T_45f62_row20_col4, #T_45f62_row21_col27, #T_45f62_row22_col16, #T_45f62_row23_col4, #T_45f62_row24_col5, #T_45f62_row25_col22, #T_45f62_row26_col13, #T_45f62_row26_col27, #T_45f62_row27_col21 {\n",
              "  background-color: #445acc;\n",
              "  color: #f1f1f1;\n",
              "}\n",
              "#T_45f62_row1_col9, #T_45f62_row1_col25, #T_45f62_row3_col25, #T_45f62_row3_col26, #T_45f62_row4_col5, #T_45f62_row4_col6, #T_45f62_row4_col17, #T_45f62_row5_col4, #T_45f62_row6_col4, #T_45f62_row7_col18, #T_45f62_row8_col19, #T_45f62_row9_col8, #T_45f62_row9_col24, #T_45f62_row9_col26, #T_45f62_row10_col17, #T_45f62_row10_col22, #T_45f62_row12_col23, #T_45f62_row13_col11, #T_45f62_row13_col23, #T_45f62_row15_col10, #T_45f62_row15_col21, #T_45f62_row16_col7, #T_45f62_row17_col4, #T_45f62_row17_col10, #T_45f62_row17_col18, #T_45f62_row18_col6, #T_45f62_row18_col17, #T_45f62_row20_col19, #T_45f62_row22_col10, #T_45f62_row22_col25, #T_45f62_row23_col5, #T_45f62_row23_col12, #T_45f62_row24_col9, #T_45f62_row25_col1, #T_45f62_row25_col3, #T_45f62_row26_col3, #T_45f62_row26_col9, #T_45f62_row27_col26 {\n",
              "  background-color: #4358cb;\n",
              "  color: #f1f1f1;\n",
              "}\n",
              "#T_45f62_row1_col14, #T_45f62_row6_col0, #T_45f62_row14_col1, #T_45f62_row16_col24, #T_45f62_row19_col2, #T_45f62_row20_col21, #T_45f62_row21_col20, #T_45f62_row24_col16, #T_45f62_row29_col7 {\n",
              "  background-color: #536edd;\n",
              "  color: #f1f1f1;\n",
              "}\n",
              "#T_45f62_row1_col20, #T_45f62_row3_col17, #T_45f62_row4_col19, #T_45f62_row5_col2, #T_45f62_row5_col6, #T_45f62_row5_col8, #T_45f62_row5_col19, #T_45f62_row6_col5, #T_45f62_row6_col27, #T_45f62_row7_col13, #T_45f62_row8_col5, #T_45f62_row8_col6, #T_45f62_row10_col16, #T_45f62_row10_col20, #T_45f62_row11_col3, #T_45f62_row11_col14, #T_45f62_row13_col7, #T_45f62_row14_col11, #T_45f62_row15_col1, #T_45f62_row15_col2, #T_45f62_row16_col10, #T_45f62_row16_col22, #T_45f62_row19_col4, #T_45f62_row19_col5, #T_45f62_row19_col15, #T_45f62_row20_col1, #T_45f62_row20_col10, #T_45f62_row20_col27, #T_45f62_row27_col6, #T_45f62_row27_col20 {\n",
              "  background-color: #455cce;\n",
              "  color: #f1f1f1;\n",
              "}\n",
              "#T_45f62_row1_col24, #T_45f62_row3_col28, #T_45f62_row5_col18, #T_45f62_row13_col17, #T_45f62_row16_col9, #T_45f62_row17_col13, #T_45f62_row18_col5, #T_45f62_row24_col1, #T_45f62_row24_col15, #T_45f62_row28_col3, #T_45f62_row28_col7 {\n",
              "  background-color: #5673e0;\n",
              "  color: #f1f1f1;\n",
              "}\n",
              "#T_45f62_row1_col28, #T_45f62_row28_col1 {\n",
              "  background-color: #e9d5cb;\n",
              "  color: #000000;\n",
              "}\n",
              "#T_45f62_row1_col29, #T_45f62_row8_col29, #T_45f62_row15_col4, #T_45f62_row29_col1 {\n",
              "  background-color: #5977e3;\n",
              "  color: #f1f1f1;\n",
              "}\n",
              "#T_45f62_row2_col0, #T_45f62_row5_col28, #T_45f62_row28_col5 {\n",
              "  background-color: #7ea1fa;\n",
              "  color: #f1f1f1;\n",
              "}\n",
              "#T_45f62_row2_col3, #T_45f62_row8_col16, #T_45f62_row11_col16, #T_45f62_row13_col21, #T_45f62_row15_col3, #T_45f62_row16_col25, #T_45f62_row21_col13, #T_45f62_row25_col16 {\n",
              "  background-color: #4f69d9;\n",
              "  color: #f1f1f1;\n",
              "}\n",
              "#T_45f62_row2_col4, #T_45f62_row2_col14 {\n",
              "  background-color: #7699f6;\n",
              "  color: #f1f1f1;\n",
              "}\n",
              "#T_45f62_row2_col6 {\n",
              "  background-color: #7396f5;\n",
              "  color: #f1f1f1;\n",
              "}\n",
              "#T_45f62_row2_col7, #T_45f62_row8_col14, #T_45f62_row14_col8, #T_45f62_row17_col21, #T_45f62_row21_col17 {\n",
              "  background-color: #5d7ce6;\n",
              "  color: #f1f1f1;\n",
              "}\n",
              "#T_45f62_row2_col8, #T_45f62_row4_col15, #T_45f62_row6_col24, #T_45f62_row14_col24, #T_45f62_row15_col24, #T_45f62_row21_col25, #T_45f62_row24_col6, #T_45f62_row24_col14, #T_45f62_row25_col21 {\n",
              "  background-color: #5875e1;\n",
              "  color: #f1f1f1;\n",
              "}\n",
              "#T_45f62_row2_col16, #T_45f62_row8_col2, #T_45f62_row16_col8, #T_45f62_row16_col11 {\n",
              "  background-color: #506bda;\n",
              "  color: #f1f1f1;\n",
              "}\n",
              "#T_45f62_row2_col19, #T_45f62_row7_col20, #T_45f62_row8_col25, #T_45f62_row10_col24, #T_45f62_row14_col4, #T_45f62_row24_col10, #T_45f62_row29_col8 {\n",
              "  background-color: #5a78e4;\n",
              "  color: #f1f1f1;\n",
              "}\n",
              "#T_45f62_row2_col20, #T_45f62_row4_col16, #T_45f62_row5_col7, #T_45f62_row6_col15, #T_45f62_row7_col5, #T_45f62_row9_col17, #T_45f62_row11_col21, #T_45f62_row15_col8, #T_45f62_row17_col9, #T_45f62_row17_col20, #T_45f62_row17_col28, #T_45f62_row20_col17, #T_45f62_row21_col22, #T_45f62_row22_col21, #T_45f62_row24_col26, #T_45f62_row24_col28, #T_45f62_row26_col24, #T_45f62_row26_col29, #T_45f62_row27_col24, #T_45f62_row28_col17, #T_45f62_row28_col24, #T_45f62_row29_col26 {\n",
              "  background-color: #4a63d3;\n",
              "  color: #f1f1f1;\n",
              "}\n",
              "#T_45f62_row2_col24 {\n",
              "  background-color: #7597f6;\n",
              "  color: #f1f1f1;\n",
              "}\n",
              "#T_45f62_row2_col28 {\n",
              "  background-color: #86a9fc;\n",
              "  color: #f1f1f1;\n",
              "}\n",
              "#T_45f62_row2_col29 {\n",
              "  background-color: #93b5fe;\n",
              "  color: #000000;\n",
              "}\n",
              "#T_45f62_row3_col9, #T_45f62_row9_col3, #T_45f62_row14_col6, #T_45f62_row22_col24, #T_45f62_row24_col22 {\n",
              "  background-color: #5470de;\n",
              "  color: #f1f1f1;\n",
              "}\n",
              "#T_45f62_row3_col29, #T_45f62_row13_col15, #T_45f62_row13_col16, #T_45f62_row16_col13, #T_45f62_row29_col3 {\n",
              "  background-color: #6788ee;\n",
              "  color: #f1f1f1;\n",
              "}\n",
              "#T_45f62_row4_col2 {\n",
              "  background-color: #6f92f3;\n",
              "  color: #f1f1f1;\n",
              "}\n",
              "#T_45f62_row4_col14, #T_45f62_row19_col27, #T_45f62_row20_col7, #T_45f62_row24_col25, #T_45f62_row25_col8, #T_45f62_row25_col24, #T_45f62_row27_col19 {\n",
              "  background-color: #5b7ae5;\n",
              "  color: #f1f1f1;\n",
              "}\n",
              "#T_45f62_row4_col28, #T_45f62_row28_col4 {\n",
              "  background-color: #bfd3f6;\n",
              "  color: #000000;\n",
              "}\n",
              "#T_45f62_row5_col14, #T_45f62_row9_col28, #T_45f62_row14_col5, #T_45f62_row20_col28, #T_45f62_row28_col9, #T_45f62_row28_col20 {\n",
              "  background-color: #6282ea;\n",
              "  color: #f1f1f1;\n",
              "}\n",
              "#T_45f62_row6_col2, #T_45f62_row29_col10 {\n",
              "  background-color: #6c8ff1;\n",
              "  color: #f1f1f1;\n",
              "}\n",
              "#T_45f62_row6_col28, #T_45f62_row28_col6 {\n",
              "  background-color: #b7cff9;\n",
              "  color: #000000;\n",
              "}\n",
              "#T_45f62_row6_col29, #T_45f62_row29_col6 {\n",
              "  background-color: #7da0f9;\n",
              "  color: #f1f1f1;\n",
              "}\n",
              "#T_45f62_row8_col24, #T_45f62_row22_col28, #T_45f62_row24_col8, #T_45f62_row28_col22 {\n",
              "  background-color: #6384eb;\n",
              "  color: #f1f1f1;\n",
              "}\n",
              "#T_45f62_row10_col29, #T_45f62_row14_col2, #T_45f62_row24_col2 {\n",
              "  background-color: #6e90f2;\n",
              "  color: #f1f1f1;\n",
              "}\n",
              "#T_45f62_row11_col29, #T_45f62_row29_col11 {\n",
              "  background-color: #96b7ff;\n",
              "  color: #000000;\n",
              "}\n",
              "#T_45f62_row13_col29, #T_45f62_row29_col13 {\n",
              "  background-color: #adc9fd;\n",
              "  color: #000000;\n",
              "}\n",
              "#T_45f62_row15_col13 {\n",
              "  background-color: #688aef;\n",
              "  color: #f1f1f1;\n",
              "}\n",
              "#T_45f62_row15_col29, #T_45f62_row21_col2 {\n",
              "  background-color: #81a4fb;\n",
              "  color: #f1f1f1;\n",
              "}\n",
              "#T_45f62_row16_col29 {\n",
              "  background-color: #b6cefa;\n",
              "  color: #000000;\n",
              "}\n",
              "#T_45f62_row17_col29, #T_45f62_row29_col17 {\n",
              "  background-color: #6485ec;\n",
              "  color: #f1f1f1;\n",
              "}\n",
              "#T_45f62_row19_col28, #T_45f62_row28_col19 {\n",
              "  background-color: #c6d6f1;\n",
              "  color: #000000;\n",
              "}\n",
              "#T_45f62_row28_col2, #T_45f62_row29_col15 {\n",
              "  background-color: #80a3fa;\n",
              "  color: #f1f1f1;\n",
              "}\n",
              "#T_45f62_row29_col2 {\n",
              "  background-color: #8caffe;\n",
              "  color: #000000;\n",
              "}\n",
              "#T_45f62_row29_col4 {\n",
              "  background-color: #5f7fe8;\n",
              "  color: #f1f1f1;\n",
              "}\n",
              "#T_45f62_row29_col16 {\n",
              "  background-color: #b5cdfa;\n",
              "  color: #000000;\n",
              "}\n",
              "</style>\n",
              "<table id=\"T_45f62\" class=\"dataframe\">\n",
              "  <thead>\n",
              "    <tr>\n",
              "      <th class=\"blank level0\" >&nbsp;</th>\n",
              "      <th id=\"T_45f62_level0_col0\" class=\"col_heading level0 col0\" >V1</th>\n",
              "      <th id=\"T_45f62_level0_col1\" class=\"col_heading level0 col1\" >V2</th>\n",
              "      <th id=\"T_45f62_level0_col2\" class=\"col_heading level0 col2\" >V3</th>\n",
              "      <th id=\"T_45f62_level0_col3\" class=\"col_heading level0 col3\" >V4</th>\n",
              "      <th id=\"T_45f62_level0_col4\" class=\"col_heading level0 col4\" >V5</th>\n",
              "      <th id=\"T_45f62_level0_col5\" class=\"col_heading level0 col5\" >V6</th>\n",
              "      <th id=\"T_45f62_level0_col6\" class=\"col_heading level0 col6\" >V7</th>\n",
              "      <th id=\"T_45f62_level0_col7\" class=\"col_heading level0 col7\" >V8</th>\n",
              "      <th id=\"T_45f62_level0_col8\" class=\"col_heading level0 col8\" >V9</th>\n",
              "      <th id=\"T_45f62_level0_col9\" class=\"col_heading level0 col9\" >V10</th>\n",
              "      <th id=\"T_45f62_level0_col10\" class=\"col_heading level0 col10\" >V11</th>\n",
              "      <th id=\"T_45f62_level0_col11\" class=\"col_heading level0 col11\" >V12</th>\n",
              "      <th id=\"T_45f62_level0_col12\" class=\"col_heading level0 col12\" >V13</th>\n",
              "      <th id=\"T_45f62_level0_col13\" class=\"col_heading level0 col13\" >V14</th>\n",
              "      <th id=\"T_45f62_level0_col14\" class=\"col_heading level0 col14\" >V15</th>\n",
              "      <th id=\"T_45f62_level0_col15\" class=\"col_heading level0 col15\" >V16</th>\n",
              "      <th id=\"T_45f62_level0_col16\" class=\"col_heading level0 col16\" >V17</th>\n",
              "      <th id=\"T_45f62_level0_col17\" class=\"col_heading level0 col17\" >V18</th>\n",
              "      <th id=\"T_45f62_level0_col18\" class=\"col_heading level0 col18\" >V19</th>\n",
              "      <th id=\"T_45f62_level0_col19\" class=\"col_heading level0 col19\" >V20</th>\n",
              "      <th id=\"T_45f62_level0_col20\" class=\"col_heading level0 col20\" >V21</th>\n",
              "      <th id=\"T_45f62_level0_col21\" class=\"col_heading level0 col21\" >V22</th>\n",
              "      <th id=\"T_45f62_level0_col22\" class=\"col_heading level0 col22\" >V23</th>\n",
              "      <th id=\"T_45f62_level0_col23\" class=\"col_heading level0 col23\" >V24</th>\n",
              "      <th id=\"T_45f62_level0_col24\" class=\"col_heading level0 col24\" >V25</th>\n",
              "      <th id=\"T_45f62_level0_col25\" class=\"col_heading level0 col25\" >V26</th>\n",
              "      <th id=\"T_45f62_level0_col26\" class=\"col_heading level0 col26\" >V27</th>\n",
              "      <th id=\"T_45f62_level0_col27\" class=\"col_heading level0 col27\" >V28</th>\n",
              "      <th id=\"T_45f62_level0_col28\" class=\"col_heading level0 col28\" >Amount</th>\n",
              "      <th id=\"T_45f62_level0_col29\" class=\"col_heading level0 col29\" >Class</th>\n",
              "    </tr>\n",
              "  </thead>\n",
              "  <tbody>\n",
              "    <tr>\n",
              "      <th id=\"T_45f62_level0_row0\" class=\"row_heading level0 row0\" >V1</th>\n",
              "      <td id=\"T_45f62_row0_col0\" class=\"data row0 col0\" >1.000000</td>\n",
              "      <td id=\"T_45f62_row0_col1\" class=\"data row0 col1\" >0.011872</td>\n",
              "      <td id=\"T_45f62_row0_col2\" class=\"data row0 col2\" >0.211166</td>\n",
              "      <td id=\"T_45f62_row0_col3\" class=\"data row0 col3\" >0.049485</td>\n",
              "      <td id=\"T_45f62_row0_col4\" class=\"data row0 col4\" >0.002616</td>\n",
              "      <td id=\"T_45f62_row0_col5\" class=\"data row0 col5\" >0.047762</td>\n",
              "      <td id=\"T_45f62_row0_col6\" class=\"data row0 col6\" >0.080536</td>\n",
              "      <td id=\"T_45f62_row0_col7\" class=\"data row0 col7\" >0.022918</td>\n",
              "      <td id=\"T_45f62_row0_col8\" class=\"data row0 col8\" >0.059750</td>\n",
              "      <td id=\"T_45f62_row0_col9\" class=\"data row0 col9\" >0.002269</td>\n",
              "      <td id=\"T_45f62_row0_col10\" class=\"data row0 col10\" >0.011516</td>\n",
              "      <td id=\"T_45f62_row0_col11\" class=\"data row0 col11\" >0.019593</td>\n",
              "      <td id=\"T_45f62_row0_col12\" class=\"data row0 col12\" >0.003454</td>\n",
              "      <td id=\"T_45f62_row0_col13\" class=\"data row0 col13\" >0.024427</td>\n",
              "      <td id=\"T_45f62_row0_col14\" class=\"data row0 col14\" >0.042977</td>\n",
              "      <td id=\"T_45f62_row0_col15\" class=\"data row0 col15\" >0.008857</td>\n",
              "      <td id=\"T_45f62_row0_col16\" class=\"data row0 col16\" >0.026293</td>\n",
              "      <td id=\"T_45f62_row0_col17\" class=\"data row0 col17\" >0.009828</td>\n",
              "      <td id=\"T_45f62_row0_col18\" class=\"data row0 col18\" >0.006662</td>\n",
              "      <td id=\"T_45f62_row0_col19\" class=\"data row0 col19\" >0.052178</td>\n",
              "      <td id=\"T_45f62_row0_col20\" class=\"data row0 col20\" >0.006680</td>\n",
              "      <td id=\"T_45f62_row0_col21\" class=\"data row0 col21\" >0.058306</td>\n",
              "      <td id=\"T_45f62_row0_col22\" class=\"data row0 col22\" >0.088612</td>\n",
              "      <td id=\"T_45f62_row0_col23\" class=\"data row0 col23\" >0.026402</td>\n",
              "      <td id=\"T_45f62_row0_col24\" class=\"data row0 col24\" >0.199177</td>\n",
              "      <td id=\"T_45f62_row0_col25\" class=\"data row0 col25\" >0.011970</td>\n",
              "      <td id=\"T_45f62_row0_col26\" class=\"data row0 col26\" >0.017621</td>\n",
              "      <td id=\"T_45f62_row0_col27\" class=\"data row0 col27\" >0.151742</td>\n",
              "      <td id=\"T_45f62_row0_col28\" class=\"data row0 col28\" >0.236164</td>\n",
              "      <td id=\"T_45f62_row0_col29\" class=\"data row0 col29\" >0.124724</td>\n",
              "    </tr>\n",
              "    <tr>\n",
              "      <th id=\"T_45f62_level0_row1\" class=\"row_heading level0 row1\" >V2</th>\n",
              "      <td id=\"T_45f62_row1_col0\" class=\"data row1 col0\" >0.011872</td>\n",
              "      <td id=\"T_45f62_row1_col1\" class=\"data row1 col1\" >1.000000</td>\n",
              "      <td id=\"T_45f62_row1_col2\" class=\"data row1 col2\" >0.090044</td>\n",
              "      <td id=\"T_45f62_row1_col3\" class=\"data row1 col3\" >0.036072</td>\n",
              "      <td id=\"T_45f62_row1_col4\" class=\"data row1 col4\" >0.034869</td>\n",
              "      <td id=\"T_45f62_row1_col5\" class=\"data row1 col5\" >0.017536</td>\n",
              "      <td id=\"T_45f62_row1_col6\" class=\"data row1 col6\" >0.015215</td>\n",
              "      <td id=\"T_45f62_row1_col7\" class=\"data row1 col7\" >0.013965</td>\n",
              "      <td id=\"T_45f62_row1_col8\" class=\"data row1 col8\" >0.003299</td>\n",
              "      <td id=\"T_45f62_row1_col9\" class=\"data row1 col9\" >0.027915</td>\n",
              "      <td id=\"T_45f62_row1_col10\" class=\"data row1 col10\" >0.022707</td>\n",
              "      <td id=\"T_45f62_row1_col11\" class=\"data row1 col11\" >0.005574</td>\n",
              "      <td id=\"T_45f62_row1_col12\" class=\"data row1 col12\" >0.034552</td>\n",
              "      <td id=\"T_45f62_row1_col13\" class=\"data row1 col13\" >0.007181</td>\n",
              "      <td id=\"T_45f62_row1_col14\" class=\"data row1 col14\" >0.082359</td>\n",
              "      <td id=\"T_45f62_row1_col15\" class=\"data row1 col15\" >0.039424</td>\n",
              "      <td id=\"T_45f62_row1_col16\" class=\"data row1 col16\" >0.052478</td>\n",
              "      <td id=\"T_45f62_row1_col17\" class=\"data row1 col17\" >0.020720</td>\n",
              "      <td id=\"T_45f62_row1_col18\" class=\"data row1 col18\" >0.008703</td>\n",
              "      <td id=\"T_45f62_row1_col19\" class=\"data row1 col19\" >0.077276</td>\n",
              "      <td id=\"T_45f62_row1_col20\" class=\"data row1 col20\" >0.040027</td>\n",
              "      <td id=\"T_45f62_row1_col21\" class=\"data row1 col21\" >0.012894</td>\n",
              "      <td id=\"T_45f62_row1_col22\" class=\"data row1 col22\" >0.022795</td>\n",
              "      <td id=\"T_45f62_row1_col23\" class=\"data row1 col23\" >0.017251</td>\n",
              "      <td id=\"T_45f62_row1_col24\" class=\"data row1 col24\" >0.095870</td>\n",
              "      <td id=\"T_45f62_row1_col25\" class=\"data row1 col25\" >0.031393</td>\n",
              "      <td id=\"T_45f62_row1_col26\" class=\"data row1 col26\" >0.003209</td>\n",
              "      <td id=\"T_45f62_row1_col27\" class=\"data row1 col27\" >0.023065</td>\n",
              "      <td id=\"T_45f62_row1_col28\" class=\"data row1 col28\" >0.550122</td>\n",
              "      <td id=\"T_45f62_row1_col29\" class=\"data row1 col29\" >0.100901</td>\n",
              "    </tr>\n",
              "    <tr>\n",
              "      <th id=\"T_45f62_level0_row2\" class=\"row_heading level0 row2\" >V3</th>\n",
              "      <td id=\"T_45f62_row2_col0\" class=\"data row2 col0\" >0.211166</td>\n",
              "      <td id=\"T_45f62_row2_col1\" class=\"data row2 col1\" >0.090044</td>\n",
              "      <td id=\"T_45f62_row2_col2\" class=\"data row2 col2\" >1.000000</td>\n",
              "      <td id=\"T_45f62_row2_col3\" class=\"data row2 col3\" >0.068584</td>\n",
              "      <td id=\"T_45f62_row2_col4\" class=\"data row2 col4\" >0.189129</td>\n",
              "      <td id=\"T_45f62_row2_col5\" class=\"data row2 col5\" >0.063514</td>\n",
              "      <td id=\"T_45f62_row2_col6\" class=\"data row2 col6\" >0.179319</td>\n",
              "      <td id=\"T_45f62_row2_col7\" class=\"data row2 col7\" >0.112490</td>\n",
              "      <td id=\"T_45f62_row2_col8\" class=\"data row2 col8\" >0.097517</td>\n",
              "      <td id=\"T_45f62_row2_col9\" class=\"data row2 col9\" >0.065236</td>\n",
              "      <td id=\"T_45f62_row2_col10\" class=\"data row2 col10\" >0.066204</td>\n",
              "      <td id=\"T_45f62_row2_col11\" class=\"data row2 col11\" >0.057760</td>\n",
              "      <td id=\"T_45f62_row2_col12\" class=\"data row2 col12\" >0.058333</td>\n",
              "      <td id=\"T_45f62_row2_col13\" class=\"data row2 col13\" >0.035164</td>\n",
              "      <td id=\"T_45f62_row2_col14\" class=\"data row2 col14\" >0.184925</td>\n",
              "      <td id=\"T_45f62_row2_col15\" class=\"data row2 col15\" >0.063886</td>\n",
              "      <td id=\"T_45f62_row2_col16\" class=\"data row2 col16\" >0.075263</td>\n",
              "      <td id=\"T_45f62_row2_col17\" class=\"data row2 col17\" >0.028126</td>\n",
              "      <td id=\"T_45f62_row2_col18\" class=\"data row2 col18\" >0.026917</td>\n",
              "      <td id=\"T_45f62_row2_col19\" class=\"data row2 col19\" >0.103300</td>\n",
              "      <td id=\"T_45f62_row2_col20\" class=\"data row2 col20\" >0.053398</td>\n",
              "      <td id=\"T_45f62_row2_col21\" class=\"data row2 col21\" >0.237348</td>\n",
              "      <td id=\"T_45f62_row2_col22\" class=\"data row2 col22\" >0.035244</td>\n",
              "      <td id=\"T_45f62_row2_col23\" class=\"data row2 col23\" >0.040885</td>\n",
              "      <td id=\"T_45f62_row2_col24\" class=\"data row2 col24\" >0.185115</td>\n",
              "      <td id=\"T_45f62_row2_col25\" class=\"data row2 col25\" >0.034706</td>\n",
              "      <td id=\"T_45f62_row2_col26\" class=\"data row2 col26\" >0.051365</td>\n",
              "      <td id=\"T_45f62_row2_col27\" class=\"data row2 col27\" >0.033024</td>\n",
              "      <td id=\"T_45f62_row2_col28\" class=\"data row2 col28\" >0.234396</td>\n",
              "      <td id=\"T_45f62_row2_col29\" class=\"data row2 col29\" >0.268010</td>\n",
              "    </tr>\n",
              "    <tr>\n",
              "      <th id=\"T_45f62_level0_row3\" class=\"row_heading level0 row3\" >V4</th>\n",
              "      <td id=\"T_45f62_row3_col0\" class=\"data row3 col0\" >0.049485</td>\n",
              "      <td id=\"T_45f62_row3_col1\" class=\"data row3 col1\" >0.036072</td>\n",
              "      <td id=\"T_45f62_row3_col2\" class=\"data row3 col2\" >0.068584</td>\n",
              "      <td id=\"T_45f62_row3_col3\" class=\"data row3 col3\" >1.000000</td>\n",
              "      <td id=\"T_45f62_row3_col4\" class=\"data row3 col4\" >0.017032</td>\n",
              "      <td id=\"T_45f62_row3_col5\" class=\"data row3 col5\" >0.026199</td>\n",
              "      <td id=\"T_45f62_row3_col6\" class=\"data row3 col6\" >0.002920</td>\n",
              "      <td id=\"T_45f62_row3_col7\" class=\"data row3 col7\" >0.033896</td>\n",
              "      <td id=\"T_45f62_row3_col8\" class=\"data row3 col8\" >0.048101</td>\n",
              "      <td id=\"T_45f62_row3_col9\" class=\"data row3 col9\" >0.085548</td>\n",
              "      <td id=\"T_45f62_row3_col10\" class=\"data row3 col10\" >0.002816</td>\n",
              "      <td id=\"T_45f62_row3_col11\" class=\"data row3 col11\" >0.040435</td>\n",
              "      <td id=\"T_45f62_row3_col12\" class=\"data row3 col12\" >0.015392</td>\n",
              "      <td id=\"T_45f62_row3_col13\" class=\"data row3 col13\" >0.002238</td>\n",
              "      <td id=\"T_45f62_row3_col14\" class=\"data row3 col14\" >0.028490</td>\n",
              "      <td id=\"T_45f62_row3_col15\" class=\"data row3 col15\" >0.072201</td>\n",
              "      <td id=\"T_45f62_row3_col16\" class=\"data row3 col16\" >0.011574</td>\n",
              "      <td id=\"T_45f62_row3_col17\" class=\"data row3 col17\" >0.036914</td>\n",
              "      <td id=\"T_45f62_row3_col18\" class=\"data row3 col18\" >0.026220</td>\n",
              "      <td id=\"T_45f62_row3_col19\" class=\"data row3 col19\" >0.016710</td>\n",
              "      <td id=\"T_45f62_row3_col20\" class=\"data row3 col20\" >0.023517</td>\n",
              "      <td id=\"T_45f62_row3_col21\" class=\"data row3 col21\" >0.041944</td>\n",
              "      <td id=\"T_45f62_row3_col22\" class=\"data row3 col22\" >0.009875</td>\n",
              "      <td id=\"T_45f62_row3_col23\" class=\"data row3 col23\" >0.005329</td>\n",
              "      <td id=\"T_45f62_row3_col24\" class=\"data row3 col24\" >0.002697</td>\n",
              "      <td id=\"T_45f62_row3_col25\" class=\"data row3 col25\" >0.031635</td>\n",
              "      <td id=\"T_45f62_row3_col26\" class=\"data row3 col26\" >0.032727</td>\n",
              "      <td id=\"T_45f62_row3_col27\" class=\"data row3 col27\" >0.006193</td>\n",
              "      <td id=\"T_45f62_row3_col28\" class=\"data row3 col28\" >0.094549</td>\n",
              "      <td id=\"T_45f62_row3_col29\" class=\"data row3 col29\" >0.144495</td>\n",
              "    </tr>\n",
              "    <tr>\n",
              "      <th id=\"T_45f62_level0_row4\" class=\"row_heading level0 row4\" >V5</th>\n",
              "      <td id=\"T_45f62_row4_col0\" class=\"data row4 col0\" >0.002616</td>\n",
              "      <td id=\"T_45f62_row4_col1\" class=\"data row4 col1\" >0.034869</td>\n",
              "      <td id=\"T_45f62_row4_col2\" class=\"data row4 col2\" >0.189129</td>\n",
              "      <td id=\"T_45f62_row4_col3\" class=\"data row4 col3\" >0.017032</td>\n",
              "      <td id=\"T_45f62_row4_col4\" class=\"data row4 col4\" >1.000000</td>\n",
              "      <td id=\"T_45f62_row4_col5\" class=\"data row4 col5\" >0.032354</td>\n",
              "      <td id=\"T_45f62_row4_col6\" class=\"data row4 col6\" >0.031827</td>\n",
              "      <td id=\"T_45f62_row4_col7\" class=\"data row4 col7\" >0.022727</td>\n",
              "      <td id=\"T_45f62_row4_col8\" class=\"data row4 col8\" >0.026837</td>\n",
              "      <td id=\"T_45f62_row4_col9\" class=\"data row4 col9\" >0.049174</td>\n",
              "      <td id=\"T_45f62_row4_col10\" class=\"data row4 col10\" >0.013018</td>\n",
              "      <td id=\"T_45f62_row4_col11\" class=\"data row4 col11\" >0.020192</td>\n",
              "      <td id=\"T_45f62_row4_col12\" class=\"data row4 col12\" >0.047389</td>\n",
              "      <td id=\"T_45f62_row4_col13\" class=\"data row4 col13\" >0.028287</td>\n",
              "      <td id=\"T_45f62_row4_col14\" class=\"data row4 col14\" >0.107771</td>\n",
              "      <td id=\"T_45f62_row4_col15\" class=\"data row4 col15\" >0.102364</td>\n",
              "      <td id=\"T_45f62_row4_col16\" class=\"data row4 col16\" >0.057592</td>\n",
              "      <td id=\"T_45f62_row4_col17\" class=\"data row4 col17\" >0.032538</td>\n",
              "      <td id=\"T_45f62_row4_col18\" class=\"data row4 col18\" >0.023591</td>\n",
              "      <td id=\"T_45f62_row4_col19\" class=\"data row4 col19\" >0.037977</td>\n",
              "      <td id=\"T_45f62_row4_col20\" class=\"data row4 col20\" >0.036692</td>\n",
              "      <td id=\"T_45f62_row4_col21\" class=\"data row4 col21\" >0.091102</td>\n",
              "      <td id=\"T_45f62_row4_col22\" class=\"data row4 col22\" >0.012255</td>\n",
              "      <td id=\"T_45f62_row4_col23\" class=\"data row4 col23\" >0.033969</td>\n",
              "      <td id=\"T_45f62_row4_col24\" class=\"data row4 col24\" >0.027606</td>\n",
              "      <td id=\"T_45f62_row4_col25\" class=\"data row4 col25\" >0.044148</td>\n",
              "      <td id=\"T_45f62_row4_col26\" class=\"data row4 col26\" >0.012343</td>\n",
              "      <td id=\"T_45f62_row4_col27\" class=\"data row4 col27\" >0.010703</td>\n",
              "      <td id=\"T_45f62_row4_col28\" class=\"data row4 col28\" >0.396942</td>\n",
              "      <td id=\"T_45f62_row4_col29\" class=\"data row4 col29\" >0.122445</td>\n",
              "    </tr>\n",
              "    <tr>\n",
              "      <th id=\"T_45f62_level0_row5\" class=\"row_heading level0 row5\" >V6</th>\n",
              "      <td id=\"T_45f62_row5_col0\" class=\"data row5 col0\" >0.047762</td>\n",
              "      <td id=\"T_45f62_row5_col1\" class=\"data row5 col1\" >0.017536</td>\n",
              "      <td id=\"T_45f62_row5_col2\" class=\"data row5 col2\" >0.063514</td>\n",
              "      <td id=\"T_45f62_row5_col3\" class=\"data row5 col3\" >0.026199</td>\n",
              "      <td id=\"T_45f62_row5_col4\" class=\"data row5 col4\" >0.032354</td>\n",
              "      <td id=\"T_45f62_row5_col5\" class=\"data row5 col5\" >1.000000</td>\n",
              "      <td id=\"T_45f62_row5_col6\" class=\"data row5 col6\" >0.039128</td>\n",
              "      <td id=\"T_45f62_row5_col7\" class=\"data row5 col7\" >0.054819</td>\n",
              "      <td id=\"T_45f62_row5_col8\" class=\"data row5 col8\" >0.038891</td>\n",
              "      <td id=\"T_45f62_row5_col9\" class=\"data row5 col9\" >0.020922</td>\n",
              "      <td id=\"T_45f62_row5_col10\" class=\"data row5 col10\" >0.090156</td>\n",
              "      <td id=\"T_45f62_row5_col11\" class=\"data row5 col11\" >0.015939</td>\n",
              "      <td id=\"T_45f62_row5_col12\" class=\"data row5 col12\" >0.017623</td>\n",
              "      <td id=\"T_45f62_row5_col13\" class=\"data row5 col13\" >0.023087</td>\n",
              "      <td id=\"T_45f62_row5_col14\" class=\"data row5 col14\" >0.128251</td>\n",
              "      <td id=\"T_45f62_row5_col15\" class=\"data row5 col15\" >0.028871</td>\n",
              "      <td id=\"T_45f62_row5_col16\" class=\"data row5 col16\" >0.008213</td>\n",
              "      <td id=\"T_45f62_row5_col17\" class=\"data row5 col17\" >0.041874</td>\n",
              "      <td id=\"T_45f62_row5_col18\" class=\"data row5 col18\" >0.092603</td>\n",
              "      <td id=\"T_45f62_row5_col19\" class=\"data row5 col19\" >0.039572</td>\n",
              "      <td id=\"T_45f62_row5_col20\" class=\"data row5 col20\" >0.002503</td>\n",
              "      <td id=\"T_45f62_row5_col21\" class=\"data row5 col21\" >0.058719</td>\n",
              "      <td id=\"T_45f62_row5_col22\" class=\"data row5 col22\" >0.018286</td>\n",
              "      <td id=\"T_45f62_row5_col23\" class=\"data row5 col23\" >0.032471</td>\n",
              "      <td id=\"T_45f62_row5_col24\" class=\"data row5 col24\" >0.036327</td>\n",
              "      <td id=\"T_45f62_row5_col25\" class=\"data row5 col25\" >0.011149</td>\n",
              "      <td id=\"T_45f62_row5_col26\" class=\"data row5 col26\" >0.016959</td>\n",
              "      <td id=\"T_45f62_row5_col27\" class=\"data row5 col27\" >0.006139</td>\n",
              "      <td id=\"T_45f62_row5_col28\" class=\"data row5 col28\" >0.210293</td>\n",
              "      <td id=\"T_45f62_row5_col29\" class=\"data row5 col29\" >0.058115</td>\n",
              "    </tr>\n",
              "    <tr>\n",
              "      <th id=\"T_45f62_level0_row6\" class=\"row_heading level0 row6\" >V7</th>\n",
              "      <td id=\"T_45f62_row6_col0\" class=\"data row6 col0\" >0.080536</td>\n",
              "      <td id=\"T_45f62_row6_col1\" class=\"data row6 col1\" >0.015215</td>\n",
              "      <td id=\"T_45f62_row6_col2\" class=\"data row6 col2\" >0.179319</td>\n",
              "      <td id=\"T_45f62_row6_col3\" class=\"data row6 col3\" >0.002920</td>\n",
              "      <td id=\"T_45f62_row6_col4\" class=\"data row6 col4\" >0.031827</td>\n",
              "      <td id=\"T_45f62_row6_col5\" class=\"data row6 col5\" >0.039128</td>\n",
              "      <td id=\"T_45f62_row6_col6\" class=\"data row6 col6\" >1.000000</td>\n",
              "      <td id=\"T_45f62_row6_col7\" class=\"data row6 col7\" >0.020525</td>\n",
              "      <td id=\"T_45f62_row6_col8\" class=\"data row6 col8\" >0.040164</td>\n",
              "      <td id=\"T_45f62_row6_col9\" class=\"data row6 col9\" >0.041902</td>\n",
              "      <td id=\"T_45f62_row6_col10\" class=\"data row6 col10\" >0.006733</td>\n",
              "      <td id=\"T_45f62_row6_col11\" class=\"data row6 col11\" >0.043298</td>\n",
              "      <td id=\"T_45f62_row6_col12\" class=\"data row6 col12\" >0.025684</td>\n",
              "      <td id=\"T_45f62_row6_col13\" class=\"data row6 col13\" >0.005687</td>\n",
              "      <td id=\"T_45f62_row6_col14\" class=\"data row6 col14\" >0.087433</td>\n",
              "      <td id=\"T_45f62_row6_col15\" class=\"data row6 col15\" >0.061203</td>\n",
              "      <td id=\"T_45f62_row6_col16\" class=\"data row6 col16\" >0.005922</td>\n",
              "      <td id=\"T_45f62_row6_col17\" class=\"data row6 col17\" >0.027771</td>\n",
              "      <td id=\"T_45f62_row6_col18\" class=\"data row6 col18\" >0.034028</td>\n",
              "      <td id=\"T_45f62_row6_col19\" class=\"data row6 col19\" >0.049487</td>\n",
              "      <td id=\"T_45f62_row6_col20\" class=\"data row6 col20\" >0.044070</td>\n",
              "      <td id=\"T_45f62_row6_col21\" class=\"data row6 col21\" >0.066443</td>\n",
              "      <td id=\"T_45f62_row6_col22\" class=\"data row6 col22\" >0.064654</td>\n",
              "      <td id=\"T_45f62_row6_col23\" class=\"data row6 col23\" >0.005808</td>\n",
              "      <td id=\"T_45f62_row6_col24\" class=\"data row6 col24\" >0.097538</td>\n",
              "      <td id=\"T_45f62_row6_col25\" class=\"data row6 col25\" >0.027877</td>\n",
              "      <td id=\"T_45f62_row6_col26\" class=\"data row6 col26\" >0.078974</td>\n",
              "      <td id=\"T_45f62_row6_col27\" class=\"data row6 col27\" >0.039791</td>\n",
              "      <td id=\"T_45f62_row6_col28\" class=\"data row6 col28\" >0.375957</td>\n",
              "      <td id=\"T_45f62_row6_col29\" class=\"data row6 col29\" >0.207689</td>\n",
              "    </tr>\n",
              "    <tr>\n",
              "      <th id=\"T_45f62_level0_row7\" class=\"row_heading level0 row7\" >V8</th>\n",
              "      <td id=\"T_45f62_row7_col0\" class=\"data row7 col0\" >0.022918</td>\n",
              "      <td id=\"T_45f62_row7_col1\" class=\"data row7 col1\" >0.013965</td>\n",
              "      <td id=\"T_45f62_row7_col2\" class=\"data row7 col2\" >0.112490</td>\n",
              "      <td id=\"T_45f62_row7_col3\" class=\"data row7 col3\" >0.033896</td>\n",
              "      <td id=\"T_45f62_row7_col4\" class=\"data row7 col4\" >0.022727</td>\n",
              "      <td id=\"T_45f62_row7_col5\" class=\"data row7 col5\" >0.054819</td>\n",
              "      <td id=\"T_45f62_row7_col6\" class=\"data row7 col6\" >0.020525</td>\n",
              "      <td id=\"T_45f62_row7_col7\" class=\"data row7 col7\" >1.000000</td>\n",
              "      <td id=\"T_45f62_row7_col8\" class=\"data row7 col8\" >0.000208</td>\n",
              "      <td id=\"T_45f62_row7_col9\" class=\"data row7 col9\" >0.017964</td>\n",
              "      <td id=\"T_45f62_row7_col10\" class=\"data row7 col10\" >0.002760</td>\n",
              "      <td id=\"T_45f62_row7_col11\" class=\"data row7 col11\" >0.043593</td>\n",
              "      <td id=\"T_45f62_row7_col12\" class=\"data row7 col12\" >0.001704</td>\n",
              "      <td id=\"T_45f62_row7_col13\" class=\"data row7 col13\" >0.038581</td>\n",
              "      <td id=\"T_45f62_row7_col14\" class=\"data row7 col14\" >0.044043</td>\n",
              "      <td id=\"T_45f62_row7_col15\" class=\"data row7 col15\" >0.049578</td>\n",
              "      <td id=\"T_45f62_row7_col16\" class=\"data row7 col16\" >0.030797</td>\n",
              "      <td id=\"T_45f62_row7_col17\" class=\"data row7 col17\" >0.021118</td>\n",
              "      <td id=\"T_45f62_row7_col18\" class=\"data row7 col18\" >0.031766</td>\n",
              "      <td id=\"T_45f62_row7_col19\" class=\"data row7 col19\" >0.045635</td>\n",
              "      <td id=\"T_45f62_row7_col20\" class=\"data row7 col20\" >0.106479</td>\n",
              "      <td id=\"T_45f62_row7_col21\" class=\"data row7 col21\" >0.005866</td>\n",
              "      <td id=\"T_45f62_row7_col22\" class=\"data row7 col22\" >0.015663</td>\n",
              "      <td id=\"T_45f62_row7_col23\" class=\"data row7 col23\" >0.004315</td>\n",
              "      <td id=\"T_45f62_row7_col24\" class=\"data row7 col24\" >0.011993</td>\n",
              "      <td id=\"T_45f62_row7_col25\" class=\"data row7 col25\" >0.009871</td>\n",
              "      <td id=\"T_45f62_row7_col26\" class=\"data row7 col26\" >0.011916</td>\n",
              "      <td id=\"T_45f62_row7_col27\" class=\"data row7 col27\" >0.013245</td>\n",
              "      <td id=\"T_45f62_row7_col28\" class=\"data row7 col28\" >0.090713</td>\n",
              "      <td id=\"T_45f62_row7_col29\" class=\"data row7 col29\" >0.078582</td>\n",
              "    </tr>\n",
              "    <tr>\n",
              "      <th id=\"T_45f62_level0_row8\" class=\"row_heading level0 row8\" >V9</th>\n",
              "      <td id=\"T_45f62_row8_col0\" class=\"data row8 col0\" >0.059750</td>\n",
              "      <td id=\"T_45f62_row8_col1\" class=\"data row8 col1\" >0.003299</td>\n",
              "      <td id=\"T_45f62_row8_col2\" class=\"data row8 col2\" >0.097517</td>\n",
              "      <td id=\"T_45f62_row8_col3\" class=\"data row8 col3\" >0.048101</td>\n",
              "      <td id=\"T_45f62_row8_col4\" class=\"data row8 col4\" >0.026837</td>\n",
              "      <td id=\"T_45f62_row8_col5\" class=\"data row8 col5\" >0.038891</td>\n",
              "      <td id=\"T_45f62_row8_col6\" class=\"data row8 col6\" >0.040164</td>\n",
              "      <td id=\"T_45f62_row8_col7\" class=\"data row8 col7\" >0.000208</td>\n",
              "      <td id=\"T_45f62_row8_col8\" class=\"data row8 col8\" >1.000000</td>\n",
              "      <td id=\"T_45f62_row8_col9\" class=\"data row8 col9\" >0.027793</td>\n",
              "      <td id=\"T_45f62_row8_col10\" class=\"data row8 col10\" >0.020394</td>\n",
              "      <td id=\"T_45f62_row8_col11\" class=\"data row8 col11\" >0.002231</td>\n",
              "      <td id=\"T_45f62_row8_col12\" class=\"data row8 col12\" >0.041882</td>\n",
              "      <td id=\"T_45f62_row8_col13\" class=\"data row8 col13\" >0.005408</td>\n",
              "      <td id=\"T_45f62_row8_col14\" class=\"data row8 col14\" >0.112141</td>\n",
              "      <td id=\"T_45f62_row8_col15\" class=\"data row8 col15\" >0.051875</td>\n",
              "      <td id=\"T_45f62_row8_col16\" class=\"data row8 col16\" >0.070995</td>\n",
              "      <td id=\"T_45f62_row8_col17\" class=\"data row8 col17\" >0.042530</td>\n",
              "      <td id=\"T_45f62_row8_col18\" class=\"data row8 col18\" >0.015441</td>\n",
              "      <td id=\"T_45f62_row8_col19\" class=\"data row8 col19\" >0.032532</td>\n",
              "      <td id=\"T_45f62_row8_col20\" class=\"data row8 col20\" >0.017192</td>\n",
              "      <td id=\"T_45f62_row8_col21\" class=\"data row8 col21\" >0.050556</td>\n",
              "      <td id=\"T_45f62_row8_col22\" class=\"data row8 col22\" >0.050910</td>\n",
              "      <td id=\"T_45f62_row8_col23\" class=\"data row8 col23\" >0.013275</td>\n",
              "      <td id=\"T_45f62_row8_col24\" class=\"data row8 col24\" >0.132039</td>\n",
              "      <td id=\"T_45f62_row8_col25\" class=\"data row8 col25\" >0.107862</td>\n",
              "      <td id=\"T_45f62_row8_col26\" class=\"data row8 col26\" >0.002154</td>\n",
              "      <td id=\"T_45f62_row8_col27\" class=\"data row8 col27\" >0.024486</td>\n",
              "      <td id=\"T_45f62_row8_col28\" class=\"data row8 col28\" >0.018524</td>\n",
              "      <td id=\"T_45f62_row8_col29\" class=\"data row8 col29\" >0.102146</td>\n",
              "    </tr>\n",
              "    <tr>\n",
              "      <th id=\"T_45f62_level0_row9\" class=\"row_heading level0 row9\" >V10</th>\n",
              "      <td id=\"T_45f62_row9_col0\" class=\"data row9 col0\" >0.002269</td>\n",
              "      <td id=\"T_45f62_row9_col1\" class=\"data row9 col1\" >0.027915</td>\n",
              "      <td id=\"T_45f62_row9_col2\" class=\"data row9 col2\" >0.065236</td>\n",
              "      <td id=\"T_45f62_row9_col3\" class=\"data row9 col3\" >0.085548</td>\n",
              "      <td id=\"T_45f62_row9_col4\" class=\"data row9 col4\" >0.049174</td>\n",
              "      <td id=\"T_45f62_row9_col5\" class=\"data row9 col5\" >0.020922</td>\n",
              "      <td id=\"T_45f62_row9_col6\" class=\"data row9 col6\" >0.041902</td>\n",
              "      <td id=\"T_45f62_row9_col7\" class=\"data row9 col7\" >0.017964</td>\n",
              "      <td id=\"T_45f62_row9_col8\" class=\"data row9 col8\" >0.027793</td>\n",
              "      <td id=\"T_45f62_row9_col9\" class=\"data row9 col9\" >1.000000</td>\n",
              "      <td id=\"T_45f62_row9_col10\" class=\"data row9 col10\" >0.025688</td>\n",
              "      <td id=\"T_45f62_row9_col11\" class=\"data row9 col11\" >0.000990</td>\n",
              "      <td id=\"T_45f62_row9_col12\" class=\"data row9 col12\" >0.000512</td>\n",
              "      <td id=\"T_45f62_row9_col13\" class=\"data row9 col13\" >0.049695</td>\n",
              "      <td id=\"T_45f62_row9_col14\" class=\"data row9 col14\" >0.059122</td>\n",
              "      <td id=\"T_45f62_row9_col15\" class=\"data row9 col15\" >0.056874</td>\n",
              "      <td id=\"T_45f62_row9_col16\" class=\"data row9 col16\" >0.090540</td>\n",
              "      <td id=\"T_45f62_row9_col17\" class=\"data row9 col17\" >0.052361</td>\n",
              "      <td id=\"T_45f62_row9_col18\" class=\"data row9 col18\" >0.009223</td>\n",
              "      <td id=\"T_45f62_row9_col19\" class=\"data row9 col19\" >0.003481</td>\n",
              "      <td id=\"T_45f62_row9_col20\" class=\"data row9 col20\" >0.011106</td>\n",
              "      <td id=\"T_45f62_row9_col21\" class=\"data row9 col21\" >0.064133</td>\n",
              "      <td id=\"T_45f62_row9_col22\" class=\"data row9 col22\" >0.007510</td>\n",
              "      <td id=\"T_45f62_row9_col23\" class=\"data row9 col23\" >0.000851</td>\n",
              "      <td id=\"T_45f62_row9_col24\" class=\"data row9 col24\" >0.030120</td>\n",
              "      <td id=\"T_45f62_row9_col25\" class=\"data row9 col25\" >0.014795</td>\n",
              "      <td id=\"T_45f62_row9_col26\" class=\"data row9 col26\" >0.029484</td>\n",
              "      <td id=\"T_45f62_row9_col27\" class=\"data row9 col27\" >0.019184</td>\n",
              "      <td id=\"T_45f62_row9_col28\" class=\"data row9 col28\" >0.128156</td>\n",
              "      <td id=\"T_45f62_row9_col29\" class=\"data row9 col29\" >0.237797</td>\n",
              "    </tr>\n",
              "    <tr>\n",
              "      <th id=\"T_45f62_level0_row10\" class=\"row_heading level0 row10\" >V11</th>\n",
              "      <td id=\"T_45f62_row10_col0\" class=\"data row10 col0\" >0.011516</td>\n",
              "      <td id=\"T_45f62_row10_col1\" class=\"data row10 col1\" >0.022707</td>\n",
              "      <td id=\"T_45f62_row10_col2\" class=\"data row10 col2\" >0.066204</td>\n",
              "      <td id=\"T_45f62_row10_col3\" class=\"data row10 col3\" >0.002816</td>\n",
              "      <td id=\"T_45f62_row10_col4\" class=\"data row10 col4\" >0.013018</td>\n",
              "      <td id=\"T_45f62_row10_col5\" class=\"data row10 col5\" >0.090156</td>\n",
              "      <td id=\"T_45f62_row10_col6\" class=\"data row10 col6\" >0.006733</td>\n",
              "      <td id=\"T_45f62_row10_col7\" class=\"data row10 col7\" >0.002760</td>\n",
              "      <td id=\"T_45f62_row10_col8\" class=\"data row10 col8\" >0.020394</td>\n",
              "      <td id=\"T_45f62_row10_col9\" class=\"data row10 col9\" >0.025688</td>\n",
              "      <td id=\"T_45f62_row10_col10\" class=\"data row10 col10\" >1.000000</td>\n",
              "      <td id=\"T_45f62_row10_col11\" class=\"data row10 col11\" >0.017451</td>\n",
              "      <td id=\"T_45f62_row10_col12\" class=\"data row10 col12\" >0.008345</td>\n",
              "      <td id=\"T_45f62_row10_col13\" class=\"data row10 col13\" >0.024651</td>\n",
              "      <td id=\"T_45f62_row10_col14\" class=\"data row10 col14\" >0.020891</td>\n",
              "      <td id=\"T_45f62_row10_col15\" class=\"data row10 col15\" >0.031971</td>\n",
              "      <td id=\"T_45f62_row10_col16\" class=\"data row10 col16\" >0.039833</td>\n",
              "      <td id=\"T_45f62_row10_col17\" class=\"data row10 col17\" >0.032163</td>\n",
              "      <td id=\"T_45f62_row10_col18\" class=\"data row10 col18\" >0.063577</td>\n",
              "      <td id=\"T_45f62_row10_col19\" class=\"data row10 col19\" >0.006567</td>\n",
              "      <td id=\"T_45f62_row10_col20\" class=\"data row10 col20\" >0.038264</td>\n",
              "      <td id=\"T_45f62_row10_col21\" class=\"data row10 col21\" >0.060518</td>\n",
              "      <td id=\"T_45f62_row10_col22\" class=\"data row10 col22\" >0.031316</td>\n",
              "      <td id=\"T_45f62_row10_col23\" class=\"data row10 col23\" >0.047787</td>\n",
              "      <td id=\"T_45f62_row10_col24\" class=\"data row10 col24\" >0.106227</td>\n",
              "      <td id=\"T_45f62_row10_col25\" class=\"data row10 col25\" >0.011849</td>\n",
              "      <td id=\"T_45f62_row10_col26\" class=\"data row10 col26\" >0.018643</td>\n",
              "      <td id=\"T_45f62_row10_col27\" class=\"data row10 col27\" >0.001885</td>\n",
              "      <td id=\"T_45f62_row10_col28\" class=\"data row10 col28\" >0.012139</td>\n",
              "      <td id=\"T_45f62_row10_col29\" class=\"data row10 col29\" >0.161573</td>\n",
              "    </tr>\n",
              "    <tr>\n",
              "      <th id=\"T_45f62_level0_row11\" class=\"row_heading level0 row11\" >V12</th>\n",
              "      <td id=\"T_45f62_row11_col0\" class=\"data row11 col0\" >0.019593</td>\n",
              "      <td id=\"T_45f62_row11_col1\" class=\"data row11 col1\" >0.005574</td>\n",
              "      <td id=\"T_45f62_row11_col2\" class=\"data row11 col2\" >0.057760</td>\n",
              "      <td id=\"T_45f62_row11_col3\" class=\"data row11 col3\" >0.040435</td>\n",
              "      <td id=\"T_45f62_row11_col4\" class=\"data row11 col4\" >0.020192</td>\n",
              "      <td id=\"T_45f62_row11_col5\" class=\"data row11 col5\" >0.015939</td>\n",
              "      <td id=\"T_45f62_row11_col6\" class=\"data row11 col6\" >0.043298</td>\n",
              "      <td id=\"T_45f62_row11_col7\" class=\"data row11 col7\" >0.043593</td>\n",
              "      <td id=\"T_45f62_row11_col8\" class=\"data row11 col8\" >0.002231</td>\n",
              "      <td id=\"T_45f62_row11_col9\" class=\"data row11 col9\" >0.000990</td>\n",
              "      <td id=\"T_45f62_row11_col10\" class=\"data row11 col10\" >0.017451</td>\n",
              "      <td id=\"T_45f62_row11_col11\" class=\"data row11 col11\" >1.000000</td>\n",
              "      <td id=\"T_45f62_row11_col12\" class=\"data row11 col12\" >0.020831</td>\n",
              "      <td id=\"T_45f62_row11_col13\" class=\"data row11 col13\" >0.029352</td>\n",
              "      <td id=\"T_45f62_row11_col14\" class=\"data row11 col14\" >0.039135</td>\n",
              "      <td id=\"T_45f62_row11_col15\" class=\"data row11 col15\" >0.010544</td>\n",
              "      <td id=\"T_45f62_row11_col16\" class=\"data row11 col16\" >0.071396</td>\n",
              "      <td id=\"T_45f62_row11_col17\" class=\"data row11 col17\" >0.021792</td>\n",
              "      <td id=\"T_45f62_row11_col18\" class=\"data row11 col18\" >0.017767</td>\n",
              "      <td id=\"T_45f62_row11_col19\" class=\"data row11 col19\" >0.005691</td>\n",
              "      <td id=\"T_45f62_row11_col20\" class=\"data row11 col20\" >0.009427</td>\n",
              "      <td id=\"T_45f62_row11_col21\" class=\"data row11 col21\" >0.056063</td>\n",
              "      <td id=\"T_45f62_row11_col22\" class=\"data row11 col22\" >0.008742</td>\n",
              "      <td id=\"T_45f62_row11_col23\" class=\"data row11 col23\" >0.012390</td>\n",
              "      <td id=\"T_45f62_row11_col24\" class=\"data row11 col24\" >0.017567</td>\n",
              "      <td id=\"T_45f62_row11_col25\" class=\"data row11 col25\" >0.023104</td>\n",
              "      <td id=\"T_45f62_row11_col26\" class=\"data row11 col26\" >0.016250</td>\n",
              "      <td id=\"T_45f62_row11_col27\" class=\"data row11 col27\" >0.004865</td>\n",
              "      <td id=\"T_45f62_row11_col28\" class=\"data row11 col28\" >0.010080</td>\n",
              "      <td id=\"T_45f62_row11_col29\" class=\"data row11 col29\" >0.275619</td>\n",
              "    </tr>\n",
              "    <tr>\n",
              "      <th id=\"T_45f62_level0_row12\" class=\"row_heading level0 row12\" >V13</th>\n",
              "      <td id=\"T_45f62_row12_col0\" class=\"data row12 col0\" >0.003454</td>\n",
              "      <td id=\"T_45f62_row12_col1\" class=\"data row12 col1\" >0.034552</td>\n",
              "      <td id=\"T_45f62_row12_col2\" class=\"data row12 col2\" >0.058333</td>\n",
              "      <td id=\"T_45f62_row12_col3\" class=\"data row12 col3\" >0.015392</td>\n",
              "      <td id=\"T_45f62_row12_col4\" class=\"data row12 col4\" >0.047389</td>\n",
              "      <td id=\"T_45f62_row12_col5\" class=\"data row12 col5\" >0.017623</td>\n",
              "      <td id=\"T_45f62_row12_col6\" class=\"data row12 col6\" >0.025684</td>\n",
              "      <td id=\"T_45f62_row12_col7\" class=\"data row12 col7\" >0.001704</td>\n",
              "      <td id=\"T_45f62_row12_col8\" class=\"data row12 col8\" >0.041882</td>\n",
              "      <td id=\"T_45f62_row12_col9\" class=\"data row12 col9\" >0.000512</td>\n",
              "      <td id=\"T_45f62_row12_col10\" class=\"data row12 col10\" >0.008345</td>\n",
              "      <td id=\"T_45f62_row12_col11\" class=\"data row12 col11\" >0.020831</td>\n",
              "      <td id=\"T_45f62_row12_col12\" class=\"data row12 col12\" >1.000000</td>\n",
              "      <td id=\"T_45f62_row12_col13\" class=\"data row12 col13\" >0.008828</td>\n",
              "      <td id=\"T_45f62_row12_col14\" class=\"data row12 col14\" >0.016832</td>\n",
              "      <td id=\"T_45f62_row12_col15\" class=\"data row12 col15\" >0.008916</td>\n",
              "      <td id=\"T_45f62_row12_col16\" class=\"data row12 col16\" >0.005123</td>\n",
              "      <td id=\"T_45f62_row12_col17\" class=\"data row12 col17\" >0.015098</td>\n",
              "      <td id=\"T_45f62_row12_col18\" class=\"data row12 col18\" >0.011117</td>\n",
              "      <td id=\"T_45f62_row12_col19\" class=\"data row12 col19\" >0.016094</td>\n",
              "      <td id=\"T_45f62_row12_col20\" class=\"data row12 col20\" >0.006406</td>\n",
              "      <td id=\"T_45f62_row12_col21\" class=\"data row12 col21\" >0.023310</td>\n",
              "      <td id=\"T_45f62_row12_col22\" class=\"data row12 col22\" >0.011380</td>\n",
              "      <td id=\"T_45f62_row12_col23\" class=\"data row12 col23\" >0.028554</td>\n",
              "      <td id=\"T_45f62_row12_col24\" class=\"data row12 col24\" >0.043740</td>\n",
              "      <td id=\"T_45f62_row12_col25\" class=\"data row12 col25\" >0.008003</td>\n",
              "      <td id=\"T_45f62_row12_col26\" class=\"data row12 col26\" >0.003710</td>\n",
              "      <td id=\"T_45f62_row12_col27\" class=\"data row12 col27\" >0.006486</td>\n",
              "      <td id=\"T_45f62_row12_col28\" class=\"data row12 col28\" >0.002334</td>\n",
              "      <td id=\"T_45f62_row12_col29\" class=\"data row12 col29\" >0.002846</td>\n",
              "    </tr>\n",
              "    <tr>\n",
              "      <th id=\"T_45f62_level0_row13\" class=\"row_heading level0 row13\" >V14</th>\n",
              "      <td id=\"T_45f62_row13_col0\" class=\"data row13 col0\" >0.024427</td>\n",
              "      <td id=\"T_45f62_row13_col1\" class=\"data row13 col1\" >0.007181</td>\n",
              "      <td id=\"T_45f62_row13_col2\" class=\"data row13 col2\" >0.035164</td>\n",
              "      <td id=\"T_45f62_row13_col3\" class=\"data row13 col3\" >0.002238</td>\n",
              "      <td id=\"T_45f62_row13_col4\" class=\"data row13 col4\" >0.028287</td>\n",
              "      <td id=\"T_45f62_row13_col5\" class=\"data row13 col5\" >0.023087</td>\n",
              "      <td id=\"T_45f62_row13_col6\" class=\"data row13 col6\" >0.005687</td>\n",
              "      <td id=\"T_45f62_row13_col7\" class=\"data row13 col7\" >0.038581</td>\n",
              "      <td id=\"T_45f62_row13_col8\" class=\"data row13 col8\" >0.005408</td>\n",
              "      <td id=\"T_45f62_row13_col9\" class=\"data row13 col9\" >0.049695</td>\n",
              "      <td id=\"T_45f62_row13_col10\" class=\"data row13 col10\" >0.024651</td>\n",
              "      <td id=\"T_45f62_row13_col11\" class=\"data row13 col11\" >0.029352</td>\n",
              "      <td id=\"T_45f62_row13_col12\" class=\"data row13 col12\" >0.008828</td>\n",
              "      <td id=\"T_45f62_row13_col13\" class=\"data row13 col13\" >1.000000</td>\n",
              "      <td id=\"T_45f62_row13_col14\" class=\"data row13 col14\" >0.066615</td>\n",
              "      <td id=\"T_45f62_row13_col15\" class=\"data row13 col15\" >0.150060</td>\n",
              "      <td id=\"T_45f62_row13_col16\" class=\"data row13 col16\" >0.144123</td>\n",
              "      <td id=\"T_45f62_row13_col17\" class=\"data row13 col17\" >0.092274</td>\n",
              "      <td id=\"T_45f62_row13_col18\" class=\"data row13 col18\" >0.026699</td>\n",
              "      <td id=\"T_45f62_row13_col19\" class=\"data row13 col19\" >0.023808</td>\n",
              "      <td id=\"T_45f62_row13_col20\" class=\"data row13 col20\" >0.047683</td>\n",
              "      <td id=\"T_45f62_row13_col21\" class=\"data row13 col21\" >0.070421</td>\n",
              "      <td id=\"T_45f62_row13_col22\" class=\"data row13 col22\" >0.027912</td>\n",
              "      <td id=\"T_45f62_row13_col23\" class=\"data row13 col23\" >0.028735</td>\n",
              "      <td id=\"T_45f62_row13_col24\" class=\"data row13 col24\" >0.065183</td>\n",
              "      <td id=\"T_45f62_row13_col25\" class=\"data row13 col25\" >0.015449</td>\n",
              "      <td id=\"T_45f62_row13_col26\" class=\"data row13 col26\" >0.036336</td>\n",
              "      <td id=\"T_45f62_row13_col27\" class=\"data row13 col27\" >0.013639</td>\n",
              "      <td id=\"T_45f62_row13_col28\" class=\"data row13 col28\" >0.016390</td>\n",
              "      <td id=\"T_45f62_row13_col29\" class=\"data row13 col29\" >0.342745</td>\n",
              "    </tr>\n",
              "    <tr>\n",
              "      <th id=\"T_45f62_level0_row14\" class=\"row_heading level0 row14\" >V15</th>\n",
              "      <td id=\"T_45f62_row14_col0\" class=\"data row14 col0\" >0.042977</td>\n",
              "      <td id=\"T_45f62_row14_col1\" class=\"data row14 col1\" >0.082359</td>\n",
              "      <td id=\"T_45f62_row14_col2\" class=\"data row14 col2\" >0.184925</td>\n",
              "      <td id=\"T_45f62_row14_col3\" class=\"data row14 col3\" >0.028490</td>\n",
              "      <td id=\"T_45f62_row14_col4\" class=\"data row14 col4\" >0.107771</td>\n",
              "      <td id=\"T_45f62_row14_col5\" class=\"data row14 col5\" >0.128251</td>\n",
              "      <td id=\"T_45f62_row14_col6\" class=\"data row14 col6\" >0.087433</td>\n",
              "      <td id=\"T_45f62_row14_col7\" class=\"data row14 col7\" >0.044043</td>\n",
              "      <td id=\"T_45f62_row14_col8\" class=\"data row14 col8\" >0.112141</td>\n",
              "      <td id=\"T_45f62_row14_col9\" class=\"data row14 col9\" >0.059122</td>\n",
              "      <td id=\"T_45f62_row14_col10\" class=\"data row14 col10\" >0.020891</td>\n",
              "      <td id=\"T_45f62_row14_col11\" class=\"data row14 col11\" >0.039135</td>\n",
              "      <td id=\"T_45f62_row14_col12\" class=\"data row14 col12\" >0.016832</td>\n",
              "      <td id=\"T_45f62_row14_col13\" class=\"data row14 col13\" >0.066615</td>\n",
              "      <td id=\"T_45f62_row14_col14\" class=\"data row14 col14\" >1.000000</td>\n",
              "      <td id=\"T_45f62_row14_col15\" class=\"data row14 col15\" >0.048268</td>\n",
              "      <td id=\"T_45f62_row14_col16\" class=\"data row14 col16\" >0.067173</td>\n",
              "      <td id=\"T_45f62_row14_col17\" class=\"data row14 col17\" >0.018700</td>\n",
              "      <td id=\"T_45f62_row14_col18\" class=\"data row14 col18\" >0.061131</td>\n",
              "      <td id=\"T_45f62_row14_col19\" class=\"data row14 col19\" >0.003261</td>\n",
              "      <td id=\"T_45f62_row14_col20\" class=\"data row14 col20\" >0.009633</td>\n",
              "      <td id=\"T_45f62_row14_col21\" class=\"data row14 col21\" >0.014981</td>\n",
              "      <td id=\"T_45f62_row14_col22\" class=\"data row14 col22\" >0.028125</td>\n",
              "      <td id=\"T_45f62_row14_col23\" class=\"data row14 col23\" >0.007672</td>\n",
              "      <td id=\"T_45f62_row14_col24\" class=\"data row14 col24\" >0.098176</td>\n",
              "      <td id=\"T_45f62_row14_col25\" class=\"data row14 col25\" >0.022353</td>\n",
              "      <td id=\"T_45f62_row14_col26\" class=\"data row14 col26\" >0.008749</td>\n",
              "      <td id=\"T_45f62_row14_col27\" class=\"data row14 col27\" >0.008256</td>\n",
              "      <td id=\"T_45f62_row14_col28\" class=\"data row14 col28\" >0.043647</td>\n",
              "      <td id=\"T_45f62_row14_col29\" class=\"data row14 col29\" >0.001249</td>\n",
              "    </tr>\n",
              "    <tr>\n",
              "      <th id=\"T_45f62_level0_row15\" class=\"row_heading level0 row15\" >V16</th>\n",
              "      <td id=\"T_45f62_row15_col0\" class=\"data row15 col0\" >0.008857</td>\n",
              "      <td id=\"T_45f62_row15_col1\" class=\"data row15 col1\" >0.039424</td>\n",
              "      <td id=\"T_45f62_row15_col2\" class=\"data row15 col2\" >0.063886</td>\n",
              "      <td id=\"T_45f62_row15_col3\" class=\"data row15 col3\" >0.072201</td>\n",
              "      <td id=\"T_45f62_row15_col4\" class=\"data row15 col4\" >0.102364</td>\n",
              "      <td id=\"T_45f62_row15_col5\" class=\"data row15 col5\" >0.028871</td>\n",
              "      <td id=\"T_45f62_row15_col6\" class=\"data row15 col6\" >0.061203</td>\n",
              "      <td id=\"T_45f62_row15_col7\" class=\"data row15 col7\" >0.049578</td>\n",
              "      <td id=\"T_45f62_row15_col8\" class=\"data row15 col8\" >0.051875</td>\n",
              "      <td id=\"T_45f62_row15_col9\" class=\"data row15 col9\" >0.056874</td>\n",
              "      <td id=\"T_45f62_row15_col10\" class=\"data row15 col10\" >0.031971</td>\n",
              "      <td id=\"T_45f62_row15_col11\" class=\"data row15 col11\" >0.010544</td>\n",
              "      <td id=\"T_45f62_row15_col12\" class=\"data row15 col12\" >0.008916</td>\n",
              "      <td id=\"T_45f62_row15_col13\" class=\"data row15 col13\" >0.150060</td>\n",
              "      <td id=\"T_45f62_row15_col14\" class=\"data row15 col14\" >0.048268</td>\n",
              "      <td id=\"T_45f62_row15_col15\" class=\"data row15 col15\" >1.000000</td>\n",
              "      <td id=\"T_45f62_row15_col16\" class=\"data row15 col16\" >0.007152</td>\n",
              "      <td id=\"T_45f62_row15_col17\" class=\"data row15 col17\" >0.020087</td>\n",
              "      <td id=\"T_45f62_row15_col18\" class=\"data row15 col18\" >0.041881</td>\n",
              "      <td id=\"T_45f62_row15_col19\" class=\"data row15 col19\" >0.042442</td>\n",
              "      <td id=\"T_45f62_row15_col20\" class=\"data row15 col20\" >0.009545</td>\n",
              "      <td id=\"T_45f62_row15_col21\" class=\"data row15 col21\" >0.030009</td>\n",
              "      <td id=\"T_45f62_row15_col22\" class=\"data row15 col22\" >0.016775</td>\n",
              "      <td id=\"T_45f62_row15_col23\" class=\"data row15 col23\" >0.015222</td>\n",
              "      <td id=\"T_45f62_row15_col24\" class=\"data row15 col24\" >0.097383</td>\n",
              "      <td id=\"T_45f62_row15_col25\" class=\"data row15 col25\" >0.021670</td>\n",
              "      <td id=\"T_45f62_row15_col26\" class=\"data row15 col26\" >0.008224</td>\n",
              "      <td id=\"T_45f62_row15_col27\" class=\"data row15 col27\" >0.017212</td>\n",
              "      <td id=\"T_45f62_row15_col28\" class=\"data row15 col28\" >0.024988</td>\n",
              "      <td id=\"T_45f62_row15_col29\" class=\"data row15 col29\" >0.219269</td>\n",
              "    </tr>\n",
              "    <tr>\n",
              "      <th id=\"T_45f62_level0_row16\" class=\"row_heading level0 row16\" >V17</th>\n",
              "      <td id=\"T_45f62_row16_col0\" class=\"data row16 col0\" >0.026293</td>\n",
              "      <td id=\"T_45f62_row16_col1\" class=\"data row16 col1\" >0.052478</td>\n",
              "      <td id=\"T_45f62_row16_col2\" class=\"data row16 col2\" >0.075263</td>\n",
              "      <td id=\"T_45f62_row16_col3\" class=\"data row16 col3\" >0.011574</td>\n",
              "      <td id=\"T_45f62_row16_col4\" class=\"data row16 col4\" >0.057592</td>\n",
              "      <td id=\"T_45f62_row16_col5\" class=\"data row16 col5\" >0.008213</td>\n",
              "      <td id=\"T_45f62_row16_col6\" class=\"data row16 col6\" >0.005922</td>\n",
              "      <td id=\"T_45f62_row16_col7\" class=\"data row16 col7\" >0.030797</td>\n",
              "      <td id=\"T_45f62_row16_col8\" class=\"data row16 col8\" >0.070995</td>\n",
              "      <td id=\"T_45f62_row16_col9\" class=\"data row16 col9\" >0.090540</td>\n",
              "      <td id=\"T_45f62_row16_col10\" class=\"data row16 col10\" >0.039833</td>\n",
              "      <td id=\"T_45f62_row16_col11\" class=\"data row16 col11\" >0.071396</td>\n",
              "      <td id=\"T_45f62_row16_col12\" class=\"data row16 col12\" >0.005123</td>\n",
              "      <td id=\"T_45f62_row16_col13\" class=\"data row16 col13\" >0.144123</td>\n",
              "      <td id=\"T_45f62_row16_col14\" class=\"data row16 col14\" >0.067173</td>\n",
              "      <td id=\"T_45f62_row16_col15\" class=\"data row16 col15\" >0.007152</td>\n",
              "      <td id=\"T_45f62_row16_col16\" class=\"data row16 col16\" >1.000000</td>\n",
              "      <td id=\"T_45f62_row16_col17\" class=\"data row16 col17\" >0.025883</td>\n",
              "      <td id=\"T_45f62_row16_col18\" class=\"data row16 col18\" >0.043332</td>\n",
              "      <td id=\"T_45f62_row16_col19\" class=\"data row16 col19\" >0.016035</td>\n",
              "      <td id=\"T_45f62_row16_col20\" class=\"data row16 col20\" >0.021947</td>\n",
              "      <td id=\"T_45f62_row16_col21\" class=\"data row16 col21\" >0.079634</td>\n",
              "      <td id=\"T_45f62_row16_col22\" class=\"data row16 col22\" >0.037492</td>\n",
              "      <td id=\"T_45f62_row16_col23\" class=\"data row16 col23\" >0.003915</td>\n",
              "      <td id=\"T_45f62_row16_col24\" class=\"data row16 col24\" >0.082727</td>\n",
              "      <td id=\"T_45f62_row16_col25\" class=\"data row16 col25\" >0.071138</td>\n",
              "      <td id=\"T_45f62_row16_col26\" class=\"data row16 col26\" >0.007108</td>\n",
              "      <td id=\"T_45f62_row16_col27\" class=\"data row16 col27\" >0.013580</td>\n",
              "      <td id=\"T_45f62_row16_col28\" class=\"data row16 col28\" >0.021540</td>\n",
              "      <td id=\"T_45f62_row16_col29\" class=\"data row16 col29\" >0.369554</td>\n",
              "    </tr>\n",
              "    <tr>\n",
              "      <th id=\"T_45f62_level0_row17\" class=\"row_heading level0 row17\" >V18</th>\n",
              "      <td id=\"T_45f62_row17_col0\" class=\"data row17 col0\" >0.009828</td>\n",
              "      <td id=\"T_45f62_row17_col1\" class=\"data row17 col1\" >0.020720</td>\n",
              "      <td id=\"T_45f62_row17_col2\" class=\"data row17 col2\" >0.028126</td>\n",
              "      <td id=\"T_45f62_row17_col3\" class=\"data row17 col3\" >0.036914</td>\n",
              "      <td id=\"T_45f62_row17_col4\" class=\"data row17 col4\" >0.032538</td>\n",
              "      <td id=\"T_45f62_row17_col5\" class=\"data row17 col5\" >0.041874</td>\n",
              "      <td id=\"T_45f62_row17_col6\" class=\"data row17 col6\" >0.027771</td>\n",
              "      <td id=\"T_45f62_row17_col7\" class=\"data row17 col7\" >0.021118</td>\n",
              "      <td id=\"T_45f62_row17_col8\" class=\"data row17 col8\" >0.042530</td>\n",
              "      <td id=\"T_45f62_row17_col9\" class=\"data row17 col9\" >0.052361</td>\n",
              "      <td id=\"T_45f62_row17_col10\" class=\"data row17 col10\" >0.032163</td>\n",
              "      <td id=\"T_45f62_row17_col11\" class=\"data row17 col11\" >0.021792</td>\n",
              "      <td id=\"T_45f62_row17_col12\" class=\"data row17 col12\" >0.015098</td>\n",
              "      <td id=\"T_45f62_row17_col13\" class=\"data row17 col13\" >0.092274</td>\n",
              "      <td id=\"T_45f62_row17_col14\" class=\"data row17 col14\" >0.018700</td>\n",
              "      <td id=\"T_45f62_row17_col15\" class=\"data row17 col15\" >0.020087</td>\n",
              "      <td id=\"T_45f62_row17_col16\" class=\"data row17 col16\" >0.025883</td>\n",
              "      <td id=\"T_45f62_row17_col17\" class=\"data row17 col17\" >1.000000</td>\n",
              "      <td id=\"T_45f62_row17_col18\" class=\"data row17 col18\" >0.029733</td>\n",
              "      <td id=\"T_45f62_row17_col19\" class=\"data row17 col19\" >0.001664</td>\n",
              "      <td id=\"T_45f62_row17_col20\" class=\"data row17 col20\" >0.055334</td>\n",
              "      <td id=\"T_45f62_row17_col21\" class=\"data row17 col21\" >0.114114</td>\n",
              "      <td id=\"T_45f62_row17_col22\" class=\"data row17 col22\" >0.002893</td>\n",
              "      <td id=\"T_45f62_row17_col23\" class=\"data row17 col23\" >0.022336</td>\n",
              "      <td id=\"T_45f62_row17_col24\" class=\"data row17 col24\" >0.021288</td>\n",
              "      <td id=\"T_45f62_row17_col25\" class=\"data row17 col25\" >0.013968</td>\n",
              "      <td id=\"T_45f62_row17_col26\" class=\"data row17 col26\" >0.013879</td>\n",
              "      <td id=\"T_45f62_row17_col27\" class=\"data row17 col27\" >0.001494</td>\n",
              "      <td id=\"T_45f62_row17_col28\" class=\"data row17 col28\" >0.054662</td>\n",
              "      <td id=\"T_45f62_row17_col29\" class=\"data row17 col29\" >0.134298</td>\n",
              "    </tr>\n",
              "    <tr>\n",
              "      <th id=\"T_45f62_level0_row18\" class=\"row_heading level0 row18\" >V19</th>\n",
              "      <td id=\"T_45f62_row18_col0\" class=\"data row18 col0\" >0.006662</td>\n",
              "      <td id=\"T_45f62_row18_col1\" class=\"data row18 col1\" >0.008703</td>\n",
              "      <td id=\"T_45f62_row18_col2\" class=\"data row18 col2\" >0.026917</td>\n",
              "      <td id=\"T_45f62_row18_col3\" class=\"data row18 col3\" >0.026220</td>\n",
              "      <td id=\"T_45f62_row18_col4\" class=\"data row18 col4\" >0.023591</td>\n",
              "      <td id=\"T_45f62_row18_col5\" class=\"data row18 col5\" >0.092603</td>\n",
              "      <td id=\"T_45f62_row18_col6\" class=\"data row18 col6\" >0.034028</td>\n",
              "      <td id=\"T_45f62_row18_col7\" class=\"data row18 col7\" >0.031766</td>\n",
              "      <td id=\"T_45f62_row18_col8\" class=\"data row18 col8\" >0.015441</td>\n",
              "      <td id=\"T_45f62_row18_col9\" class=\"data row18 col9\" >0.009223</td>\n",
              "      <td id=\"T_45f62_row18_col10\" class=\"data row18 col10\" >0.063577</td>\n",
              "      <td id=\"T_45f62_row18_col11\" class=\"data row18 col11\" >0.017767</td>\n",
              "      <td id=\"T_45f62_row18_col12\" class=\"data row18 col12\" >0.011117</td>\n",
              "      <td id=\"T_45f62_row18_col13\" class=\"data row18 col13\" >0.026699</td>\n",
              "      <td id=\"T_45f62_row18_col14\" class=\"data row18 col14\" >0.061131</td>\n",
              "      <td id=\"T_45f62_row18_col15\" class=\"data row18 col15\" >0.041881</td>\n",
              "      <td id=\"T_45f62_row18_col16\" class=\"data row18 col16\" >0.043332</td>\n",
              "      <td id=\"T_45f62_row18_col17\" class=\"data row18 col17\" >0.029733</td>\n",
              "      <td id=\"T_45f62_row18_col18\" class=\"data row18 col18\" >1.000000</td>\n",
              "      <td id=\"T_45f62_row18_col19\" class=\"data row18 col19\" >0.005269</td>\n",
              "      <td id=\"T_45f62_row18_col20\" class=\"data row18 col20\" >0.017119</td>\n",
              "      <td id=\"T_45f62_row18_col21\" class=\"data row18 col21\" >0.018349</td>\n",
              "      <td id=\"T_45f62_row18_col22\" class=\"data row18 col22\" >0.002125</td>\n",
              "      <td id=\"T_45f62_row18_col23\" class=\"data row18 col23\" >0.018295</td>\n",
              "      <td id=\"T_45f62_row18_col24\" class=\"data row18 col24\" >0.010576</td>\n",
              "      <td id=\"T_45f62_row18_col25\" class=\"data row18 col25\" >0.003773</td>\n",
              "      <td id=\"T_45f62_row18_col26\" class=\"data row18 col26\" >0.003703</td>\n",
              "      <td id=\"T_45f62_row18_col27\" class=\"data row18 col27\" >0.005555</td>\n",
              "      <td id=\"T_45f62_row18_col28\" class=\"data row18 col28\" >0.057413</td>\n",
              "      <td id=\"T_45f62_row18_col29\" class=\"data row18 col29\" >0.041264</td>\n",
              "    </tr>\n",
              "    <tr>\n",
              "      <th id=\"T_45f62_level0_row19\" class=\"row_heading level0 row19\" >V20</th>\n",
              "      <td id=\"T_45f62_row19_col0\" class=\"data row19 col0\" >0.052178</td>\n",
              "      <td id=\"T_45f62_row19_col1\" class=\"data row19 col1\" >0.077276</td>\n",
              "      <td id=\"T_45f62_row19_col2\" class=\"data row19 col2\" >0.103300</td>\n",
              "      <td id=\"T_45f62_row19_col3\" class=\"data row19 col3\" >0.016710</td>\n",
              "      <td id=\"T_45f62_row19_col4\" class=\"data row19 col4\" >0.037977</td>\n",
              "      <td id=\"T_45f62_row19_col5\" class=\"data row19 col5\" >0.039572</td>\n",
              "      <td id=\"T_45f62_row19_col6\" class=\"data row19 col6\" >0.049487</td>\n",
              "      <td id=\"T_45f62_row19_col7\" class=\"data row19 col7\" >0.045635</td>\n",
              "      <td id=\"T_45f62_row19_col8\" class=\"data row19 col8\" >0.032532</td>\n",
              "      <td id=\"T_45f62_row19_col9\" class=\"data row19 col9\" >0.003481</td>\n",
              "      <td id=\"T_45f62_row19_col10\" class=\"data row19 col10\" >0.006567</td>\n",
              "      <td id=\"T_45f62_row19_col11\" class=\"data row19 col11\" >0.005691</td>\n",
              "      <td id=\"T_45f62_row19_col12\" class=\"data row19 col12\" >0.016094</td>\n",
              "      <td id=\"T_45f62_row19_col13\" class=\"data row19 col13\" >0.023808</td>\n",
              "      <td id=\"T_45f62_row19_col14\" class=\"data row19 col14\" >0.003261</td>\n",
              "      <td id=\"T_45f62_row19_col15\" class=\"data row19 col15\" >0.042442</td>\n",
              "      <td id=\"T_45f62_row19_col16\" class=\"data row19 col16\" >0.016035</td>\n",
              "      <td id=\"T_45f62_row19_col17\" class=\"data row19 col17\" >0.001664</td>\n",
              "      <td id=\"T_45f62_row19_col18\" class=\"data row19 col18\" >0.005269</td>\n",
              "      <td id=\"T_45f62_row19_col19\" class=\"data row19 col19\" >1.000000</td>\n",
              "      <td id=\"T_45f62_row19_col20\" class=\"data row19 col20\" >0.029149</td>\n",
              "      <td id=\"T_45f62_row19_col21\" class=\"data row19 col21\" >0.009519</td>\n",
              "      <td id=\"T_45f62_row19_col22\" class=\"data row19 col22\" >0.018759</td>\n",
              "      <td id=\"T_45f62_row19_col23\" class=\"data row19 col23\" >0.004497</td>\n",
              "      <td id=\"T_45f62_row19_col24\" class=\"data row19 col24\" >0.019484</td>\n",
              "      <td id=\"T_45f62_row19_col25\" class=\"data row19 col25\" >0.009867</td>\n",
              "      <td id=\"T_45f62_row19_col26\" class=\"data row19 col26\" >0.002267</td>\n",
              "      <td id=\"T_45f62_row19_col27\" class=\"data row19 col27\" >0.108014</td>\n",
              "      <td id=\"T_45f62_row19_col28\" class=\"data row19 col28\" >0.422690</td>\n",
              "      <td id=\"T_45f62_row19_col29\" class=\"data row19 col29\" >0.015967</td>\n",
              "    </tr>\n",
              "    <tr>\n",
              "      <th id=\"T_45f62_level0_row20\" class=\"row_heading level0 row20\" >V21</th>\n",
              "      <td id=\"T_45f62_row20_col0\" class=\"data row20 col0\" >0.006680</td>\n",
              "      <td id=\"T_45f62_row20_col1\" class=\"data row20 col1\" >0.040027</td>\n",
              "      <td id=\"T_45f62_row20_col2\" class=\"data row20 col2\" >0.053398</td>\n",
              "      <td id=\"T_45f62_row20_col3\" class=\"data row20 col3\" >0.023517</td>\n",
              "      <td id=\"T_45f62_row20_col4\" class=\"data row20 col4\" >0.036692</td>\n",
              "      <td id=\"T_45f62_row20_col5\" class=\"data row20 col5\" >0.002503</td>\n",
              "      <td id=\"T_45f62_row20_col6\" class=\"data row20 col6\" >0.044070</td>\n",
              "      <td id=\"T_45f62_row20_col7\" class=\"data row20 col7\" >0.106479</td>\n",
              "      <td id=\"T_45f62_row20_col8\" class=\"data row20 col8\" >0.017192</td>\n",
              "      <td id=\"T_45f62_row20_col9\" class=\"data row20 col9\" >0.011106</td>\n",
              "      <td id=\"T_45f62_row20_col10\" class=\"data row20 col10\" >0.038264</td>\n",
              "      <td id=\"T_45f62_row20_col11\" class=\"data row20 col11\" >0.009427</td>\n",
              "      <td id=\"T_45f62_row20_col12\" class=\"data row20 col12\" >0.006406</td>\n",
              "      <td id=\"T_45f62_row20_col13\" class=\"data row20 col13\" >0.047683</td>\n",
              "      <td id=\"T_45f62_row20_col14\" class=\"data row20 col14\" >0.009633</td>\n",
              "      <td id=\"T_45f62_row20_col15\" class=\"data row20 col15\" >0.009545</td>\n",
              "      <td id=\"T_45f62_row20_col16\" class=\"data row20 col16\" >0.021947</td>\n",
              "      <td id=\"T_45f62_row20_col17\" class=\"data row20 col17\" >0.055334</td>\n",
              "      <td id=\"T_45f62_row20_col18\" class=\"data row20 col18\" >0.017119</td>\n",
              "      <td id=\"T_45f62_row20_col19\" class=\"data row20 col19\" >0.029149</td>\n",
              "      <td id=\"T_45f62_row20_col20\" class=\"data row20 col20\" >1.000000</td>\n",
              "      <td id=\"T_45f62_row20_col21\" class=\"data row20 col21\" >0.080615</td>\n",
              "      <td id=\"T_45f62_row20_col22\" class=\"data row20 col22\" >0.020871</td>\n",
              "      <td id=\"T_45f62_row20_col23\" class=\"data row20 col23\" >0.011434</td>\n",
              "      <td id=\"T_45f62_row20_col24\" class=\"data row20 col24\" >0.008209</td>\n",
              "      <td id=\"T_45f62_row20_col25\" class=\"data row20 col25\" >0.027766</td>\n",
              "      <td id=\"T_45f62_row20_col26\" class=\"data row20 col26\" >0.023979</td>\n",
              "      <td id=\"T_45f62_row20_col27\" class=\"data row20 col27\" >0.038747</td>\n",
              "      <td id=\"T_45f62_row20_col28\" class=\"data row20 col28\" >0.129490</td>\n",
              "      <td id=\"T_45f62_row20_col29\" class=\"data row20 col29\" >0.048820</td>\n",
              "    </tr>\n",
              "    <tr>\n",
              "      <th id=\"T_45f62_level0_row21\" class=\"row_heading level0 row21\" >V22</th>\n",
              "      <td id=\"T_45f62_row21_col0\" class=\"data row21 col0\" >0.058306</td>\n",
              "      <td id=\"T_45f62_row21_col1\" class=\"data row21 col1\" >0.012894</td>\n",
              "      <td id=\"T_45f62_row21_col2\" class=\"data row21 col2\" >0.237348</td>\n",
              "      <td id=\"T_45f62_row21_col3\" class=\"data row21 col3\" >0.041944</td>\n",
              "      <td id=\"T_45f62_row21_col4\" class=\"data row21 col4\" >0.091102</td>\n",
              "      <td id=\"T_45f62_row21_col5\" class=\"data row21 col5\" >0.058719</td>\n",
              "      <td id=\"T_45f62_row21_col6\" class=\"data row21 col6\" >0.066443</td>\n",
              "      <td id=\"T_45f62_row21_col7\" class=\"data row21 col7\" >0.005866</td>\n",
              "      <td id=\"T_45f62_row21_col8\" class=\"data row21 col8\" >0.050556</td>\n",
              "      <td id=\"T_45f62_row21_col9\" class=\"data row21 col9\" >0.064133</td>\n",
              "      <td id=\"T_45f62_row21_col10\" class=\"data row21 col10\" >0.060518</td>\n",
              "      <td id=\"T_45f62_row21_col11\" class=\"data row21 col11\" >0.056063</td>\n",
              "      <td id=\"T_45f62_row21_col12\" class=\"data row21 col12\" >0.023310</td>\n",
              "      <td id=\"T_45f62_row21_col13\" class=\"data row21 col13\" >0.070421</td>\n",
              "      <td id=\"T_45f62_row21_col14\" class=\"data row21 col14\" >0.014981</td>\n",
              "      <td id=\"T_45f62_row21_col15\" class=\"data row21 col15\" >0.030009</td>\n",
              "      <td id=\"T_45f62_row21_col16\" class=\"data row21 col16\" >0.079634</td>\n",
              "      <td id=\"T_45f62_row21_col17\" class=\"data row21 col17\" >0.114114</td>\n",
              "      <td id=\"T_45f62_row21_col18\" class=\"data row21 col18\" >0.018349</td>\n",
              "      <td id=\"T_45f62_row21_col19\" class=\"data row21 col19\" >0.009519</td>\n",
              "      <td id=\"T_45f62_row21_col20\" class=\"data row21 col20\" >0.080615</td>\n",
              "      <td id=\"T_45f62_row21_col21\" class=\"data row21 col21\" >1.000000</td>\n",
              "      <td id=\"T_45f62_row21_col22\" class=\"data row21 col22\" >0.053310</td>\n",
              "      <td id=\"T_45f62_row21_col23\" class=\"data row21 col23\" >0.005350</td>\n",
              "      <td id=\"T_45f62_row21_col24\" class=\"data row21 col24\" >0.011495</td>\n",
              "      <td id=\"T_45f62_row21_col25\" class=\"data row21 col25\" >0.098973</td>\n",
              "      <td id=\"T_45f62_row21_col26\" class=\"data row21 col26\" >0.015140</td>\n",
              "      <td id=\"T_45f62_row21_col27\" class=\"data row21 col27\" >0.035745</td>\n",
              "      <td id=\"T_45f62_row21_col28\" class=\"data row21 col28\" >0.079405</td>\n",
              "      <td id=\"T_45f62_row21_col29\" class=\"data row21 col29\" >0.002268</td>\n",
              "    </tr>\n",
              "    <tr>\n",
              "      <th id=\"T_45f62_level0_row22\" class=\"row_heading level0 row22\" >V23</th>\n",
              "      <td id=\"T_45f62_row22_col0\" class=\"data row22 col0\" >0.088612</td>\n",
              "      <td id=\"T_45f62_row22_col1\" class=\"data row22 col1\" >0.022795</td>\n",
              "      <td id=\"T_45f62_row22_col2\" class=\"data row22 col2\" >0.035244</td>\n",
              "      <td id=\"T_45f62_row22_col3\" class=\"data row22 col3\" >0.009875</td>\n",
              "      <td id=\"T_45f62_row22_col4\" class=\"data row22 col4\" >0.012255</td>\n",
              "      <td id=\"T_45f62_row22_col5\" class=\"data row22 col5\" >0.018286</td>\n",
              "      <td id=\"T_45f62_row22_col6\" class=\"data row22 col6\" >0.064654</td>\n",
              "      <td id=\"T_45f62_row22_col7\" class=\"data row22 col7\" >0.015663</td>\n",
              "      <td id=\"T_45f62_row22_col8\" class=\"data row22 col8\" >0.050910</td>\n",
              "      <td id=\"T_45f62_row22_col9\" class=\"data row22 col9\" >0.007510</td>\n",
              "      <td id=\"T_45f62_row22_col10\" class=\"data row22 col10\" >0.031316</td>\n",
              "      <td id=\"T_45f62_row22_col11\" class=\"data row22 col11\" >0.008742</td>\n",
              "      <td id=\"T_45f62_row22_col12\" class=\"data row22 col12\" >0.011380</td>\n",
              "      <td id=\"T_45f62_row22_col13\" class=\"data row22 col13\" >0.027912</td>\n",
              "      <td id=\"T_45f62_row22_col14\" class=\"data row22 col14\" >0.028125</td>\n",
              "      <td id=\"T_45f62_row22_col15\" class=\"data row22 col15\" >0.016775</td>\n",
              "      <td id=\"T_45f62_row22_col16\" class=\"data row22 col16\" >0.037492</td>\n",
              "      <td id=\"T_45f62_row22_col17\" class=\"data row22 col17\" >0.002893</td>\n",
              "      <td id=\"T_45f62_row22_col18\" class=\"data row22 col18\" >0.002125</td>\n",
              "      <td id=\"T_45f62_row22_col19\" class=\"data row22 col19\" >0.018759</td>\n",
              "      <td id=\"T_45f62_row22_col20\" class=\"data row22 col20\" >0.020871</td>\n",
              "      <td id=\"T_45f62_row22_col21\" class=\"data row22 col21\" >0.053310</td>\n",
              "      <td id=\"T_45f62_row22_col22\" class=\"data row22 col22\" >1.000000</td>\n",
              "      <td id=\"T_45f62_row22_col23\" class=\"data row22 col23\" >0.013774</td>\n",
              "      <td id=\"T_45f62_row22_col24\" class=\"data row22 col24\" >0.084797</td>\n",
              "      <td id=\"T_45f62_row22_col25\" class=\"data row22 col25\" >0.033502</td>\n",
              "      <td id=\"T_45f62_row22_col26\" class=\"data row22 col26\" >0.014569</td>\n",
              "      <td id=\"T_45f62_row22_col27\" class=\"data row22 col27\" >0.015562</td>\n",
              "      <td id=\"T_45f62_row22_col28\" class=\"data row22 col28\" >0.133897</td>\n",
              "      <td id=\"T_45f62_row22_col29\" class=\"data row22 col29\" >0.013697</td>\n",
              "    </tr>\n",
              "    <tr>\n",
              "      <th id=\"T_45f62_level0_row23\" class=\"row_heading level0 row23\" >V24</th>\n",
              "      <td id=\"T_45f62_row23_col0\" class=\"data row23 col0\" >0.026402</td>\n",
              "      <td id=\"T_45f62_row23_col1\" class=\"data row23 col1\" >0.017251</td>\n",
              "      <td id=\"T_45f62_row23_col2\" class=\"data row23 col2\" >0.040885</td>\n",
              "      <td id=\"T_45f62_row23_col3\" class=\"data row23 col3\" >0.005329</td>\n",
              "      <td id=\"T_45f62_row23_col4\" class=\"data row23 col4\" >0.033969</td>\n",
              "      <td id=\"T_45f62_row23_col5\" class=\"data row23 col5\" >0.032471</td>\n",
              "      <td id=\"T_45f62_row23_col6\" class=\"data row23 col6\" >0.005808</td>\n",
              "      <td id=\"T_45f62_row23_col7\" class=\"data row23 col7\" >0.004315</td>\n",
              "      <td id=\"T_45f62_row23_col8\" class=\"data row23 col8\" >0.013275</td>\n",
              "      <td id=\"T_45f62_row23_col9\" class=\"data row23 col9\" >0.000851</td>\n",
              "      <td id=\"T_45f62_row23_col10\" class=\"data row23 col10\" >0.047787</td>\n",
              "      <td id=\"T_45f62_row23_col11\" class=\"data row23 col11\" >0.012390</td>\n",
              "      <td id=\"T_45f62_row23_col12\" class=\"data row23 col12\" >0.028554</td>\n",
              "      <td id=\"T_45f62_row23_col13\" class=\"data row23 col13\" >0.028735</td>\n",
              "      <td id=\"T_45f62_row23_col14\" class=\"data row23 col14\" >0.007672</td>\n",
              "      <td id=\"T_45f62_row23_col15\" class=\"data row23 col15\" >0.015222</td>\n",
              "      <td id=\"T_45f62_row23_col16\" class=\"data row23 col16\" >0.003915</td>\n",
              "      <td id=\"T_45f62_row23_col17\" class=\"data row23 col17\" >0.022336</td>\n",
              "      <td id=\"T_45f62_row23_col18\" class=\"data row23 col18\" >0.018295</td>\n",
              "      <td id=\"T_45f62_row23_col19\" class=\"data row23 col19\" >0.004497</td>\n",
              "      <td id=\"T_45f62_row23_col20\" class=\"data row23 col20\" >0.011434</td>\n",
              "      <td id=\"T_45f62_row23_col21\" class=\"data row23 col21\" >0.005350</td>\n",
              "      <td id=\"T_45f62_row23_col22\" class=\"data row23 col22\" >0.013774</td>\n",
              "      <td id=\"T_45f62_row23_col23\" class=\"data row23 col23\" >1.000000</td>\n",
              "      <td id=\"T_45f62_row23_col24\" class=\"data row23 col24\" >0.050935</td>\n",
              "      <td id=\"T_45f62_row23_col25\" class=\"data row23 col25\" >0.004883</td>\n",
              "      <td id=\"T_45f62_row23_col26\" class=\"data row23 col26\" >0.008857</td>\n",
              "      <td id=\"T_45f62_row23_col27\" class=\"data row23 col27\" >0.003363</td>\n",
              "      <td id=\"T_45f62_row23_col28\" class=\"data row23 col28\" >0.022665</td>\n",
              "      <td id=\"T_45f62_row23_col29\" class=\"data row23 col29\" >0.007422</td>\n",
              "    </tr>\n",
              "    <tr>\n",
              "      <th id=\"T_45f62_level0_row24\" class=\"row_heading level0 row24\" >V25</th>\n",
              "      <td id=\"T_45f62_row24_col0\" class=\"data row24 col0\" >0.199177</td>\n",
              "      <td id=\"T_45f62_row24_col1\" class=\"data row24 col1\" >0.095870</td>\n",
              "      <td id=\"T_45f62_row24_col2\" class=\"data row24 col2\" >0.185115</td>\n",
              "      <td id=\"T_45f62_row24_col3\" class=\"data row24 col3\" >0.002697</td>\n",
              "      <td id=\"T_45f62_row24_col4\" class=\"data row24 col4\" >0.027606</td>\n",
              "      <td id=\"T_45f62_row24_col5\" class=\"data row24 col5\" >0.036327</td>\n",
              "      <td id=\"T_45f62_row24_col6\" class=\"data row24 col6\" >0.097538</td>\n",
              "      <td id=\"T_45f62_row24_col7\" class=\"data row24 col7\" >0.011993</td>\n",
              "      <td id=\"T_45f62_row24_col8\" class=\"data row24 col8\" >0.132039</td>\n",
              "      <td id=\"T_45f62_row24_col9\" class=\"data row24 col9\" >0.030120</td>\n",
              "      <td id=\"T_45f62_row24_col10\" class=\"data row24 col10\" >0.106227</td>\n",
              "      <td id=\"T_45f62_row24_col11\" class=\"data row24 col11\" >0.017567</td>\n",
              "      <td id=\"T_45f62_row24_col12\" class=\"data row24 col12\" >0.043740</td>\n",
              "      <td id=\"T_45f62_row24_col13\" class=\"data row24 col13\" >0.065183</td>\n",
              "      <td id=\"T_45f62_row24_col14\" class=\"data row24 col14\" >0.098176</td>\n",
              "      <td id=\"T_45f62_row24_col15\" class=\"data row24 col15\" >0.097383</td>\n",
              "      <td id=\"T_45f62_row24_col16\" class=\"data row24 col16\" >0.082727</td>\n",
              "      <td id=\"T_45f62_row24_col17\" class=\"data row24 col17\" >0.021288</td>\n",
              "      <td id=\"T_45f62_row24_col18\" class=\"data row24 col18\" >0.010576</td>\n",
              "      <td id=\"T_45f62_row24_col19\" class=\"data row24 col19\" >0.019484</td>\n",
              "      <td id=\"T_45f62_row24_col20\" class=\"data row24 col20\" >0.008209</td>\n",
              "      <td id=\"T_45f62_row24_col21\" class=\"data row24 col21\" >0.011495</td>\n",
              "      <td id=\"T_45f62_row24_col22\" class=\"data row24 col22\" >0.084797</td>\n",
              "      <td id=\"T_45f62_row24_col23\" class=\"data row24 col23\" >0.050935</td>\n",
              "      <td id=\"T_45f62_row24_col24\" class=\"data row24 col24\" >1.000000</td>\n",
              "      <td id=\"T_45f62_row24_col25\" class=\"data row24 col25\" >0.111224</td>\n",
              "      <td id=\"T_45f62_row24_col26\" class=\"data row24 col26\" >0.055505</td>\n",
              "      <td id=\"T_45f62_row24_col27\" class=\"data row24 col27\" >0.056385</td>\n",
              "      <td id=\"T_45f62_row24_col28\" class=\"data row24 col28\" >0.053948</td>\n",
              "      <td id=\"T_45f62_row24_col29\" class=\"data row24 col29\" >0.007318</td>\n",
              "    </tr>\n",
              "    <tr>\n",
              "      <th id=\"T_45f62_level0_row25\" class=\"row_heading level0 row25\" >V26</th>\n",
              "      <td id=\"T_45f62_row25_col0\" class=\"data row25 col0\" >0.011970</td>\n",
              "      <td id=\"T_45f62_row25_col1\" class=\"data row25 col1\" >0.031393</td>\n",
              "      <td id=\"T_45f62_row25_col2\" class=\"data row25 col2\" >0.034706</td>\n",
              "      <td id=\"T_45f62_row25_col3\" class=\"data row25 col3\" >0.031635</td>\n",
              "      <td id=\"T_45f62_row25_col4\" class=\"data row25 col4\" >0.044148</td>\n",
              "      <td id=\"T_45f62_row25_col5\" class=\"data row25 col5\" >0.011149</td>\n",
              "      <td id=\"T_45f62_row25_col6\" class=\"data row25 col6\" >0.027877</td>\n",
              "      <td id=\"T_45f62_row25_col7\" class=\"data row25 col7\" >0.009871</td>\n",
              "      <td id=\"T_45f62_row25_col8\" class=\"data row25 col8\" >0.107862</td>\n",
              "      <td id=\"T_45f62_row25_col9\" class=\"data row25 col9\" >0.014795</td>\n",
              "      <td id=\"T_45f62_row25_col10\" class=\"data row25 col10\" >0.011849</td>\n",
              "      <td id=\"T_45f62_row25_col11\" class=\"data row25 col11\" >0.023104</td>\n",
              "      <td id=\"T_45f62_row25_col12\" class=\"data row25 col12\" >0.008003</td>\n",
              "      <td id=\"T_45f62_row25_col13\" class=\"data row25 col13\" >0.015449</td>\n",
              "      <td id=\"T_45f62_row25_col14\" class=\"data row25 col14\" >0.022353</td>\n",
              "      <td id=\"T_45f62_row25_col15\" class=\"data row25 col15\" >0.021670</td>\n",
              "      <td id=\"T_45f62_row25_col16\" class=\"data row25 col16\" >0.071138</td>\n",
              "      <td id=\"T_45f62_row25_col17\" class=\"data row25 col17\" >0.013968</td>\n",
              "      <td id=\"T_45f62_row25_col18\" class=\"data row25 col18\" >0.003773</td>\n",
              "      <td id=\"T_45f62_row25_col19\" class=\"data row25 col19\" >0.009867</td>\n",
              "      <td id=\"T_45f62_row25_col20\" class=\"data row25 col20\" >0.027766</td>\n",
              "      <td id=\"T_45f62_row25_col21\" class=\"data row25 col21\" >0.098973</td>\n",
              "      <td id=\"T_45f62_row25_col22\" class=\"data row25 col22\" >0.033502</td>\n",
              "      <td id=\"T_45f62_row25_col23\" class=\"data row25 col23\" >0.004883</td>\n",
              "      <td id=\"T_45f62_row25_col24\" class=\"data row25 col24\" >0.111224</td>\n",
              "      <td id=\"T_45f62_row25_col25\" class=\"data row25 col25\" >1.000000</td>\n",
              "      <td id=\"T_45f62_row25_col26\" class=\"data row25 col26\" >0.003404</td>\n",
              "      <td id=\"T_45f62_row25_col27\" class=\"data row25 col27\" >0.003098</td>\n",
              "      <td id=\"T_45f62_row25_col28\" class=\"data row25 col28\" >0.012044</td>\n",
              "      <td id=\"T_45f62_row25_col29\" class=\"data row25 col29\" >0.003082</td>\n",
              "    </tr>\n",
              "    <tr>\n",
              "      <th id=\"T_45f62_level0_row26\" class=\"row_heading level0 row26\" >V27</th>\n",
              "      <td id=\"T_45f62_row26_col0\" class=\"data row26 col0\" >0.017621</td>\n",
              "      <td id=\"T_45f62_row26_col1\" class=\"data row26 col1\" >0.003209</td>\n",
              "      <td id=\"T_45f62_row26_col2\" class=\"data row26 col2\" >0.051365</td>\n",
              "      <td id=\"T_45f62_row26_col3\" class=\"data row26 col3\" >0.032727</td>\n",
              "      <td id=\"T_45f62_row26_col4\" class=\"data row26 col4\" >0.012343</td>\n",
              "      <td id=\"T_45f62_row26_col5\" class=\"data row26 col5\" >0.016959</td>\n",
              "      <td id=\"T_45f62_row26_col6\" class=\"data row26 col6\" >0.078974</td>\n",
              "      <td id=\"T_45f62_row26_col7\" class=\"data row26 col7\" >0.011916</td>\n",
              "      <td id=\"T_45f62_row26_col8\" class=\"data row26 col8\" >0.002154</td>\n",
              "      <td id=\"T_45f62_row26_col9\" class=\"data row26 col9\" >0.029484</td>\n",
              "      <td id=\"T_45f62_row26_col10\" class=\"data row26 col10\" >0.018643</td>\n",
              "      <td id=\"T_45f62_row26_col11\" class=\"data row26 col11\" >0.016250</td>\n",
              "      <td id=\"T_45f62_row26_col12\" class=\"data row26 col12\" >0.003710</td>\n",
              "      <td id=\"T_45f62_row26_col13\" class=\"data row26 col13\" >0.036336</td>\n",
              "      <td id=\"T_45f62_row26_col14\" class=\"data row26 col14\" >0.008749</td>\n",
              "      <td id=\"T_45f62_row26_col15\" class=\"data row26 col15\" >0.008224</td>\n",
              "      <td id=\"T_45f62_row26_col16\" class=\"data row26 col16\" >0.007108</td>\n",
              "      <td id=\"T_45f62_row26_col17\" class=\"data row26 col17\" >0.013879</td>\n",
              "      <td id=\"T_45f62_row26_col18\" class=\"data row26 col18\" >0.003703</td>\n",
              "      <td id=\"T_45f62_row26_col19\" class=\"data row26 col19\" >0.002267</td>\n",
              "      <td id=\"T_45f62_row26_col20\" class=\"data row26 col20\" >0.023979</td>\n",
              "      <td id=\"T_45f62_row26_col21\" class=\"data row26 col21\" >0.015140</td>\n",
              "      <td id=\"T_45f62_row26_col22\" class=\"data row26 col22\" >0.014569</td>\n",
              "      <td id=\"T_45f62_row26_col23\" class=\"data row26 col23\" >0.008857</td>\n",
              "      <td id=\"T_45f62_row26_col24\" class=\"data row26 col24\" >0.055505</td>\n",
              "      <td id=\"T_45f62_row26_col25\" class=\"data row26 col25\" >0.003404</td>\n",
              "      <td id=\"T_45f62_row26_col26\" class=\"data row26 col26\" >1.000000</td>\n",
              "      <td id=\"T_45f62_row26_col27\" class=\"data row26 col27\" >0.032939</td>\n",
              "      <td id=\"T_45f62_row26_col28\" class=\"data row26 col28\" >0.003801</td>\n",
              "      <td id=\"T_45f62_row26_col29\" class=\"data row26 col29\" >0.053486</td>\n",
              "    </tr>\n",
              "    <tr>\n",
              "      <th id=\"T_45f62_level0_row27\" class=\"row_heading level0 row27\" >V28</th>\n",
              "      <td id=\"T_45f62_row27_col0\" class=\"data row27 col0\" >0.151742</td>\n",
              "      <td id=\"T_45f62_row27_col1\" class=\"data row27 col1\" >0.023065</td>\n",
              "      <td id=\"T_45f62_row27_col2\" class=\"data row27 col2\" >0.033024</td>\n",
              "      <td id=\"T_45f62_row27_col3\" class=\"data row27 col3\" >0.006193</td>\n",
              "      <td id=\"T_45f62_row27_col4\" class=\"data row27 col4\" >0.010703</td>\n",
              "      <td id=\"T_45f62_row27_col5\" class=\"data row27 col5\" >0.006139</td>\n",
              "      <td id=\"T_45f62_row27_col6\" class=\"data row27 col6\" >0.039791</td>\n",
              "      <td id=\"T_45f62_row27_col7\" class=\"data row27 col7\" >0.013245</td>\n",
              "      <td id=\"T_45f62_row27_col8\" class=\"data row27 col8\" >0.024486</td>\n",
              "      <td id=\"T_45f62_row27_col9\" class=\"data row27 col9\" >0.019184</td>\n",
              "      <td id=\"T_45f62_row27_col10\" class=\"data row27 col10\" >0.001885</td>\n",
              "      <td id=\"T_45f62_row27_col11\" class=\"data row27 col11\" >0.004865</td>\n",
              "      <td id=\"T_45f62_row27_col12\" class=\"data row27 col12\" >0.006486</td>\n",
              "      <td id=\"T_45f62_row27_col13\" class=\"data row27 col13\" >0.013639</td>\n",
              "      <td id=\"T_45f62_row27_col14\" class=\"data row27 col14\" >0.008256</td>\n",
              "      <td id=\"T_45f62_row27_col15\" class=\"data row27 col15\" >0.017212</td>\n",
              "      <td id=\"T_45f62_row27_col16\" class=\"data row27 col16\" >0.013580</td>\n",
              "      <td id=\"T_45f62_row27_col17\" class=\"data row27 col17\" >0.001494</td>\n",
              "      <td id=\"T_45f62_row27_col18\" class=\"data row27 col18\" >0.005555</td>\n",
              "      <td id=\"T_45f62_row27_col19\" class=\"data row27 col19\" >0.108014</td>\n",
              "      <td id=\"T_45f62_row27_col20\" class=\"data row27 col20\" >0.038747</td>\n",
              "      <td id=\"T_45f62_row27_col21\" class=\"data row27 col21\" >0.035745</td>\n",
              "      <td id=\"T_45f62_row27_col22\" class=\"data row27 col22\" >0.015562</td>\n",
              "      <td id=\"T_45f62_row27_col23\" class=\"data row27 col23\" >0.003363</td>\n",
              "      <td id=\"T_45f62_row27_col24\" class=\"data row27 col24\" >0.056385</td>\n",
              "      <td id=\"T_45f62_row27_col25\" class=\"data row27 col25\" >0.003098</td>\n",
              "      <td id=\"T_45f62_row27_col26\" class=\"data row27 col26\" >0.032939</td>\n",
              "      <td id=\"T_45f62_row27_col27\" class=\"data row27 col27\" >1.000000</td>\n",
              "      <td id=\"T_45f62_row27_col28\" class=\"data row27 col28\" >0.013476</td>\n",
              "      <td id=\"T_45f62_row27_col29\" class=\"data row27 col29\" >0.008933</td>\n",
              "    </tr>\n",
              "    <tr>\n",
              "      <th id=\"T_45f62_level0_row28\" class=\"row_heading level0 row28\" >Amount</th>\n",
              "      <td id=\"T_45f62_row28_col0\" class=\"data row28 col0\" >0.236164</td>\n",
              "      <td id=\"T_45f62_row28_col1\" class=\"data row28 col1\" >0.550122</td>\n",
              "      <td id=\"T_45f62_row28_col2\" class=\"data row28 col2\" >0.234396</td>\n",
              "      <td id=\"T_45f62_row28_col3\" class=\"data row28 col3\" >0.094549</td>\n",
              "      <td id=\"T_45f62_row28_col4\" class=\"data row28 col4\" >0.396942</td>\n",
              "      <td id=\"T_45f62_row28_col5\" class=\"data row28 col5\" >0.210293</td>\n",
              "      <td id=\"T_45f62_row28_col6\" class=\"data row28 col6\" >0.375957</td>\n",
              "      <td id=\"T_45f62_row28_col7\" class=\"data row28 col7\" >0.090713</td>\n",
              "      <td id=\"T_45f62_row28_col8\" class=\"data row28 col8\" >0.018524</td>\n",
              "      <td id=\"T_45f62_row28_col9\" class=\"data row28 col9\" >0.128156</td>\n",
              "      <td id=\"T_45f62_row28_col10\" class=\"data row28 col10\" >0.012139</td>\n",
              "      <td id=\"T_45f62_row28_col11\" class=\"data row28 col11\" >0.010080</td>\n",
              "      <td id=\"T_45f62_row28_col12\" class=\"data row28 col12\" >0.002334</td>\n",
              "      <td id=\"T_45f62_row28_col13\" class=\"data row28 col13\" >0.016390</td>\n",
              "      <td id=\"T_45f62_row28_col14\" class=\"data row28 col14\" >0.043647</td>\n",
              "      <td id=\"T_45f62_row28_col15\" class=\"data row28 col15\" >0.024988</td>\n",
              "      <td id=\"T_45f62_row28_col16\" class=\"data row28 col16\" >0.021540</td>\n",
              "      <td id=\"T_45f62_row28_col17\" class=\"data row28 col17\" >0.054662</td>\n",
              "      <td id=\"T_45f62_row28_col18\" class=\"data row28 col18\" >0.057413</td>\n",
              "      <td id=\"T_45f62_row28_col19\" class=\"data row28 col19\" >0.422690</td>\n",
              "      <td id=\"T_45f62_row28_col20\" class=\"data row28 col20\" >0.129490</td>\n",
              "      <td id=\"T_45f62_row28_col21\" class=\"data row28 col21\" >0.079405</td>\n",
              "      <td id=\"T_45f62_row28_col22\" class=\"data row28 col22\" >0.133897</td>\n",
              "      <td id=\"T_45f62_row28_col23\" class=\"data row28 col23\" >0.022665</td>\n",
              "      <td id=\"T_45f62_row28_col24\" class=\"data row28 col24\" >0.053948</td>\n",
              "      <td id=\"T_45f62_row28_col25\" class=\"data row28 col25\" >0.012044</td>\n",
              "      <td id=\"T_45f62_row28_col26\" class=\"data row28 col26\" >0.003801</td>\n",
              "      <td id=\"T_45f62_row28_col27\" class=\"data row28 col27\" >0.013476</td>\n",
              "      <td id=\"T_45f62_row28_col28\" class=\"data row28 col28\" >1.000000</td>\n",
              "      <td id=\"T_45f62_row28_col29\" class=\"data row28 col29\" >0.004250</td>\n",
              "    </tr>\n",
              "    <tr>\n",
              "      <th id=\"T_45f62_level0_row29\" class=\"row_heading level0 row29\" >Class</th>\n",
              "      <td id=\"T_45f62_row29_col0\" class=\"data row29 col0\" >0.124724</td>\n",
              "      <td id=\"T_45f62_row29_col1\" class=\"data row29 col1\" >0.100901</td>\n",
              "      <td id=\"T_45f62_row29_col2\" class=\"data row29 col2\" >0.268010</td>\n",
              "      <td id=\"T_45f62_row29_col3\" class=\"data row29 col3\" >0.144495</td>\n",
              "      <td id=\"T_45f62_row29_col4\" class=\"data row29 col4\" >0.122445</td>\n",
              "      <td id=\"T_45f62_row29_col5\" class=\"data row29 col5\" >0.058115</td>\n",
              "      <td id=\"T_45f62_row29_col6\" class=\"data row29 col6\" >0.207689</td>\n",
              "      <td id=\"T_45f62_row29_col7\" class=\"data row29 col7\" >0.078582</td>\n",
              "      <td id=\"T_45f62_row29_col8\" class=\"data row29 col8\" >0.102146</td>\n",
              "      <td id=\"T_45f62_row29_col9\" class=\"data row29 col9\" >0.237797</td>\n",
              "      <td id=\"T_45f62_row29_col10\" class=\"data row29 col10\" >0.161573</td>\n",
              "      <td id=\"T_45f62_row29_col11\" class=\"data row29 col11\" >0.275619</td>\n",
              "      <td id=\"T_45f62_row29_col12\" class=\"data row29 col12\" >0.002846</td>\n",
              "      <td id=\"T_45f62_row29_col13\" class=\"data row29 col13\" >0.342745</td>\n",
              "      <td id=\"T_45f62_row29_col14\" class=\"data row29 col14\" >0.001249</td>\n",
              "      <td id=\"T_45f62_row29_col15\" class=\"data row29 col15\" >0.219269</td>\n",
              "      <td id=\"T_45f62_row29_col16\" class=\"data row29 col16\" >0.369554</td>\n",
              "      <td id=\"T_45f62_row29_col17\" class=\"data row29 col17\" >0.134298</td>\n",
              "      <td id=\"T_45f62_row29_col18\" class=\"data row29 col18\" >0.041264</td>\n",
              "      <td id=\"T_45f62_row29_col19\" class=\"data row29 col19\" >0.015967</td>\n",
              "      <td id=\"T_45f62_row29_col20\" class=\"data row29 col20\" >0.048820</td>\n",
              "      <td id=\"T_45f62_row29_col21\" class=\"data row29 col21\" >0.002268</td>\n",
              "      <td id=\"T_45f62_row29_col22\" class=\"data row29 col22\" >0.013697</td>\n",
              "      <td id=\"T_45f62_row29_col23\" class=\"data row29 col23\" >0.007422</td>\n",
              "      <td id=\"T_45f62_row29_col24\" class=\"data row29 col24\" >0.007318</td>\n",
              "      <td id=\"T_45f62_row29_col25\" class=\"data row29 col25\" >0.003082</td>\n",
              "      <td id=\"T_45f62_row29_col26\" class=\"data row29 col26\" >0.053486</td>\n",
              "      <td id=\"T_45f62_row29_col27\" class=\"data row29 col27\" >0.008933</td>\n",
              "      <td id=\"T_45f62_row29_col28\" class=\"data row29 col28\" >0.004250</td>\n",
              "      <td id=\"T_45f62_row29_col29\" class=\"data row29 col29\" >1.000000</td>\n",
              "    </tr>\n",
              "  </tbody>\n",
              "</table>\n"
            ]
          },
          "metadata": {},
          "execution_count": 547
        }
      ],
      "source": [
        " #correaltion with absolute values\n",
        "corr = df.corr().abs()\n",
        "corr.style.background_gradient(cmap='coolwarm')"
      ]
    },
    {
      "cell_type": "code",
      "execution_count": null,
      "metadata": {
        "colab": {
          "base_uri": "https://localhost:8080/",
          "height": 493
        },
        "id": "x3kLFOZYxZEv",
        "outputId": "41d29e50-97d1-405d-851d-116915c53270"
      },
      "outputs": [
        {
          "output_type": "execute_result",
          "data": {
            "text/plain": [
              "<Axes: >"
            ]
          },
          "metadata": {},
          "execution_count": 548
        },
        {
          "output_type": "display_data",
          "data": {
            "text/plain": [
              "<Figure size 640x480 with 2 Axes>"
            ],
            "image/png": "[encoded data removed]"
          },
          "metadata": {}
        }
      ],
      "source": [
        "sns.heatmap(cormat)"
      ]
    },
    {
      "cell_type": "markdown",
      "metadata": {
        "id": "fIQPxJf5qiNv"
      },
      "source": [
        "### SMOTE"
      ]
    },
    {
      "cell_type": "markdown",
      "metadata": {
        "id": "HbgeFBioPzfY"
      },
      "source": [
        " SMOTE  is a popular method used to address class imbalance in datasets, particularly in the context of binary classification tasks."
      ]
    },
    {
      "cell_type": "code",
      "execution_count": null,
      "metadata": {
        "id": "SPJESd18DhZ3"
      },
      "outputs": [],
      "source": [
        "sm = SMOTE()"
      ]
    },
    {
      "cell_type": "code",
      "execution_count": null,
      "metadata": {
        "id": "xOZMoAHk-j5f"
      },
      "outputs": [],
      "source": [
        "#Taking small dataset initially\n",
        "x= x.iloc[0:40000,]\n",
        "y= y.iloc[0:40000,]"
      ]
    },
    {
      "cell_type": "code",
      "execution_count": null,
      "metadata": {
        "id": "5k1M1_zGEJAC"
      },
      "outputs": [],
      "source": [
        "x_res,y_res=sm.fit_resample(x,y)"
      ]
    },
    {
      "cell_type": "code",
      "execution_count": null,
      "metadata": {
        "id": "4_4laY2lZaJW"
      },
      "outputs": [],
      "source": [
        "x_train,x_test,y_train,y_test = train_test_split(x,y,test_size=0.2,random_state=42)"
      ]
    },
    {
      "cell_type": "code",
      "execution_count": null,
      "metadata": {
        "id": "FwSomneFEMd5"
      },
      "outputs": [],
      "source": [
        "X_train,X_test,Y_train,Y_test = train_test_split(x_res,y_res,test_size=0.2,random_state=42)"
      ]
    },
    {
      "cell_type": "code",
      "execution_count": null,
      "metadata": {
        "id": "I5SN2F3oGtb4"
      },
      "outputs": [],
      "source": [
        "#Random Forest Classifier\n",
        "model1 = RandomForestClassifier()\n"
      ]
    },
    {
      "cell_type": "code",
      "execution_count": null,
      "metadata": {
        "id": "sw3uWrEDre2c"
      },
      "outputs": [],
      "source": [
        "#Decision Tree Classifier\n",
        "model2 =  tree.DecisionTreeClassifier()"
      ]
    },
    {
      "cell_type": "code",
      "execution_count": null,
      "metadata": {
        "id": "_e89Y2o-ruJI"
      },
      "outputs": [],
      "source": [
        "#Logistic Regression\n",
        "model3 = LogisticRegression()"
      ]
    },
    {
      "cell_type": "code",
      "source": [
        "#XG Boost\n",
        "model4 = XGBClassifier()\n"
      ],
      "metadata": {
        "id": "rUtaQszUpakJ"
      },
      "execution_count": null,
      "outputs": []
    },
    {
      "cell_type": "markdown",
      "metadata": {
        "id": "i97fsIEAu6eO"
      },
      "source": [
        "### Training Models\n"
      ]
    },
    {
      "cell_type": "markdown",
      "metadata": {
        "id": "fQTRq525a8v1"
      },
      "source": [
        "### ***without SMOTE***"
      ]
    },
    {
      "cell_type": "code",
      "execution_count": null,
      "metadata": {
        "id": "TepmllnvHFvy",
        "colab": {
          "base_uri": "https://localhost:8080/",
          "height": 74
        },
        "outputId": "cadb9793-6c28-4ecd-ac92-efca7c38f767"
      },
      "outputs": [
        {
          "output_type": "execute_result",
          "data": {
            "text/plain": [
              "RandomForestClassifier()"
            ],
            "text/html": [
              "<style>#sk-container-id-47 {color: black;background-color: white;}#sk-container-id-47 pre{padding: 0;}#sk-container-id-47 div.sk-toggleable {background-color: white;}#sk-container-id-47 label.sk-toggleable__label {cursor: pointer;display: block;width: 100%;margin-bottom: 0;padding: 0.3em;box-sizing: border-box;text-align: center;}#sk-container-id-47 label.sk-toggleable__label-arrow:before {content: \"▸\";float: left;margin-right: 0.25em;color: #696969;}#sk-container-id-47 label.sk-toggleable__label-arrow:hover:before {color: black;}#sk-container-id-47 div.sk-estimator:hover label.sk-toggleable__label-arrow:before {color: black;}#sk-container-id-47 div.sk-toggleable__content {max-height: 0;max-width: 0;overflow: hidden;text-align: left;background-color: #f0f8ff;}#sk-container-id-47 div.sk-toggleable__content pre {margin: 0.2em;color: black;border-radius: 0.25em;background-color: #f0f8ff;}#sk-container-id-47 input.sk-toggleable__control:checked~div.sk-toggleable__content {max-height: 200px;max-width: 100%;overflow: auto;}#sk-container-id-47 input.sk-toggleable__control:checked~label.sk-toggleable__label-arrow:before {content: \"▾\";}#sk-container-id-47 div.sk-estimator input.sk-toggleable__control:checked~label.sk-toggleable__label {background-color: #d4ebff;}#sk-container-id-47 div.sk-label input.sk-toggleable__control:checked~label.sk-toggleable__label {background-color: #d4ebff;}#sk-container-id-47 input.sk-hidden--visually {border: 0;clip: rect(1px 1px 1px 1px);clip: rect(1px, 1px, 1px, 1px);height: 1px;margin: -1px;overflow: hidden;padding: 0;position: absolute;width: 1px;}#sk-container-id-47 div.sk-estimator {font-family: monospace;background-color: #f0f8ff;border: 1px dotted black;border-radius: 0.25em;box-sizing: border-box;margin-bottom: 0.5em;}#sk-container-id-47 div.sk-estimator:hover {background-color: #d4ebff;}#sk-container-id-47 div.sk-parallel-item::after {content: \"\";width: 100%;border-bottom: 1px solid gray;flex-grow: 1;}#sk-container-id-47 div.sk-label:hover label.sk-toggleable__label {background-color: #d4ebff;}#sk-container-id-47 div.sk-serial::before {content: \"\";position: absolute;border-left: 1px solid gray;box-sizing: border-box;top: 0;bottom: 0;left: 50%;z-index: 0;}#sk-container-id-47 div.sk-serial {display: flex;flex-direction: column;align-items: center;background-color: white;padding-right: 0.2em;padding-left: 0.2em;position: relative;}#sk-container-id-47 div.sk-item {position: relative;z-index: 1;}#sk-container-id-47 div.sk-parallel {display: flex;align-items: stretch;justify-content: center;background-color: white;position: relative;}#sk-container-id-47 div.sk-item::before, #sk-container-id-47 div.sk-parallel-item::before {content: \"\";position: absolute;border-left: 1px solid gray;box-sizing: border-box;top: 0;bottom: 0;left: 50%;z-index: -1;}#sk-container-id-47 div.sk-parallel-item {display: flex;flex-direction: column;z-index: 1;position: relative;background-color: white;}#sk-container-id-47 div.sk-parallel-item:first-child::after {align-self: flex-end;width: 50%;}#sk-container-id-47 div.sk-parallel-item:last-child::after {align-self: flex-start;width: 50%;}#sk-container-id-47 div.sk-parallel-item:only-child::after {width: 0;}#sk-container-id-47 div.sk-dashed-wrapped {border: 1px dashed gray;margin: 0 0.4em 0.5em 0.4em;box-sizing: border-box;padding-bottom: 0.4em;background-color: white;}#sk-container-id-47 div.sk-label label {font-family: monospace;font-weight: bold;display: inline-block;line-height: 1.2em;}#sk-container-id-47 div.sk-label-container {text-align: center;}#sk-container-id-47 div.sk-container {/* jupyter's `normalize.less` sets `[hidden] { display: none; }` but bootstrap.min.css set `[hidden] { display: none !important; }` so we also need the `!important` here to be able to override the default hidden behavior on the sphinx rendered scikit-learn.org. See: https://github.com/scikit-learn/scikit-learn/issues/21755 */display: inline-block !important;position: relative;}#sk-container-id-47 div.sk-text-repr-fallback {display: none;}</style><div id=\"sk-container-id-47\" class=\"sk-top-container\"><div class=\"sk-text-repr-fallback\"><pre>RandomForestClassifier()</pre><b>In a Jupyter environment, please rerun this cell to show the HTML representation or trust the notebook. <br />On GitHub, the HTML representation is unable to render, please try loading this page with nbviewer.org.</b></div><div class=\"sk-container\" hidden><div class=\"sk-item\"><div class=\"sk-estimator sk-toggleable\"><input class=\"sk-toggleable__control sk-hidden--visually\" id=\"sk-estimator-id-47\" type=\"checkbox\" checked><label for=\"sk-estimator-id-47\" class=\"sk-toggleable__label sk-toggleable__label-arrow\">RandomForestClassifier</label><div class=\"sk-toggleable__content\"><pre>RandomForestClassifier()</pre></div></div></div></div></div>"
            ]
          },
          "metadata": {},
          "execution_count": 558
        }
      ],
      "source": [
        "model1.fit(x_train, y_train)"
      ]
    },
    {
      "cell_type": "code",
      "execution_count": null,
      "metadata": {
        "id": "D4m6LESkr3BS",
        "colab": {
          "base_uri": "https://localhost:8080/",
          "height": 74
        },
        "outputId": "c6363230-0ac9-4a83-fe8b-6dbd5dc916fd"
      },
      "outputs": [
        {
          "output_type": "execute_result",
          "data": {
            "text/plain": [
              "DecisionTreeClassifier()"
            ],
            "text/html": [
              "<style>#sk-container-id-48 {color: black;background-color: white;}#sk-container-id-48 pre{padding: 0;}#sk-container-id-48 div.sk-toggleable {background-color: white;}#sk-container-id-48 label.sk-toggleable__label {cursor: pointer;display: block;width: 100%;margin-bottom: 0;padding: 0.3em;box-sizing: border-box;text-align: center;}#sk-container-id-48 label.sk-toggleable__label-arrow:before {content: \"▸\";float: left;margin-right: 0.25em;color: #696969;}#sk-container-id-48 label.sk-toggleable__label-arrow:hover:before {color: black;}#sk-container-id-48 div.sk-estimator:hover label.sk-toggleable__label-arrow:before {color: black;}#sk-container-id-48 div.sk-toggleable__content {max-height: 0;max-width: 0;overflow: hidden;text-align: left;background-color: #f0f8ff;}#sk-container-id-48 div.sk-toggleable__content pre {margin: 0.2em;color: black;border-radius: 0.25em;background-color: #f0f8ff;}#sk-container-id-48 input.sk-toggleable__control:checked~div.sk-toggleable__content {max-height: 200px;max-width: 100%;overflow: auto;}#sk-container-id-48 input.sk-toggleable__control:checked~label.sk-toggleable__label-arrow:before {content: \"▾\";}#sk-container-id-48 div.sk-estimator input.sk-toggleable__control:checked~label.sk-toggleable__label {background-color: #d4ebff;}#sk-container-id-48 div.sk-label input.sk-toggleable__control:checked~label.sk-toggleable__label {background-color: #d4ebff;}#sk-container-id-48 input.sk-hidden--visually {border: 0;clip: rect(1px 1px 1px 1px);clip: rect(1px, 1px, 1px, 1px);height: 1px;margin: -1px;overflow: hidden;padding: 0;position: absolute;width: 1px;}#sk-container-id-48 div.sk-estimator {font-family: monospace;background-color: #f0f8ff;border: 1px dotted black;border-radius: 0.25em;box-sizing: border-box;margin-bottom: 0.5em;}#sk-container-id-48 div.sk-estimator:hover {background-color: #d4ebff;}#sk-container-id-48 div.sk-parallel-item::after {content: \"\";width: 100%;border-bottom: 1px solid gray;flex-grow: 1;}#sk-container-id-48 div.sk-label:hover label.sk-toggleable__label {background-color: #d4ebff;}#sk-container-id-48 div.sk-serial::before {content: \"\";position: absolute;border-left: 1px solid gray;box-sizing: border-box;top: 0;bottom: 0;left: 50%;z-index: 0;}#sk-container-id-48 div.sk-serial {display: flex;flex-direction: column;align-items: center;background-color: white;padding-right: 0.2em;padding-left: 0.2em;position: relative;}#sk-container-id-48 div.sk-item {position: relative;z-index: 1;}#sk-container-id-48 div.sk-parallel {display: flex;align-items: stretch;justify-content: center;background-color: white;position: relative;}#sk-container-id-48 div.sk-item::before, #sk-container-id-48 div.sk-parallel-item::before {content: \"\";position: absolute;border-left: 1px solid gray;box-sizing: border-box;top: 0;bottom: 0;left: 50%;z-index: -1;}#sk-container-id-48 div.sk-parallel-item {display: flex;flex-direction: column;z-index: 1;position: relative;background-color: white;}#sk-container-id-48 div.sk-parallel-item:first-child::after {align-self: flex-end;width: 50%;}#sk-container-id-48 div.sk-parallel-item:last-child::after {align-self: flex-start;width: 50%;}#sk-container-id-48 div.sk-parallel-item:only-child::after {width: 0;}#sk-container-id-48 div.sk-dashed-wrapped {border: 1px dashed gray;margin: 0 0.4em 0.5em 0.4em;box-sizing: border-box;padding-bottom: 0.4em;background-color: white;}#sk-container-id-48 div.sk-label label {font-family: monospace;font-weight: bold;display: inline-block;line-height: 1.2em;}#sk-container-id-48 div.sk-label-container {text-align: center;}#sk-container-id-48 div.sk-container {/* jupyter's `normalize.less` sets `[hidden] { display: none; }` but bootstrap.min.css set `[hidden] { display: none !important; }` so we also need the `!important` here to be able to override the default hidden behavior on the sphinx rendered scikit-learn.org. See: https://github.com/scikit-learn/scikit-learn/issues/21755 */display: inline-block !important;position: relative;}#sk-container-id-48 div.sk-text-repr-fallback {display: none;}</style><div id=\"sk-container-id-48\" class=\"sk-top-container\"><div class=\"sk-text-repr-fallback\"><pre>DecisionTreeClassifier()</pre><b>In a Jupyter environment, please rerun this cell to show the HTML representation or trust the notebook. <br />On GitHub, the HTML representation is unable to render, please try loading this page with nbviewer.org.</b></div><div class=\"sk-container\" hidden><div class=\"sk-item\"><div class=\"sk-estimator sk-toggleable\"><input class=\"sk-toggleable__control sk-hidden--visually\" id=\"sk-estimator-id-48\" type=\"checkbox\" checked><label for=\"sk-estimator-id-48\" class=\"sk-toggleable__label sk-toggleable__label-arrow\">DecisionTreeClassifier</label><div class=\"sk-toggleable__content\"><pre>DecisionTreeClassifier()</pre></div></div></div></div></div>"
            ]
          },
          "metadata": {},
          "execution_count": 559
        }
      ],
      "source": [
        "model2.fit(x_train, y_train)"
      ]
    },
    {
      "cell_type": "code",
      "execution_count": null,
      "metadata": {
        "id": "t4aTouhSr3Nk",
        "colab": {
          "base_uri": "https://localhost:8080/",
          "height": 213
        },
        "outputId": "3be0551a-958a-4fad-d29b-bfe5f6c54434"
      },
      "outputs": [
        {
          "output_type": "stream",
          "name": "stderr",
          "text": [
            "/usr/local/lib/python3.10/dist-packages/sklearn/linear_model/_logistic.py:458: ConvergenceWarning: lbfgs failed to converge (status=1):\n",
            "STOP: TOTAL NO. of ITERATIONS REACHED LIMIT.\n",
            "\n",
            "Increase the number of iterations (max_iter) or scale the data as shown in:\n",
            "    https://scikit-learn.org/stable/modules/preprocessing.html\n",
            "Please also refer to the documentation for alternative solver options:\n",
            "    https://scikit-learn.org/stable/modules/linear_model.html#logistic-regression\n",
            "  n_iter_i = _check_optimize_result(\n"
          ]
        },
        {
          "output_type": "execute_result",
          "data": {
            "text/plain": [
              "LogisticRegression()"
            ],
            "text/html": [
              "<style>#sk-container-id-49 {color: black;background-color: white;}#sk-container-id-49 pre{padding: 0;}#sk-container-id-49 div.sk-toggleable {background-color: white;}#sk-container-id-49 label.sk-toggleable__label {cursor: pointer;display: block;width: 100%;margin-bottom: 0;padding: 0.3em;box-sizing: border-box;text-align: center;}#sk-container-id-49 label.sk-toggleable__label-arrow:before {content: \"▸\";float: left;margin-right: 0.25em;color: #696969;}#sk-container-id-49 label.sk-toggleable__label-arrow:hover:before {color: black;}#sk-container-id-49 div.sk-estimator:hover label.sk-toggleable__label-arrow:before {color: black;}#sk-container-id-49 div.sk-toggleable__content {max-height: 0;max-width: 0;overflow: hidden;text-align: left;background-color: #f0f8ff;}#sk-container-id-49 div.sk-toggleable__content pre {margin: 0.2em;color: black;border-radius: 0.25em;background-color: #f0f8ff;}#sk-container-id-49 input.sk-toggleable__control:checked~div.sk-toggleable__content {max-height: 200px;max-width: 100%;overflow: auto;}#sk-container-id-49 input.sk-toggleable__control:checked~label.sk-toggleable__label-arrow:before {content: \"▾\";}#sk-container-id-49 div.sk-estimator input.sk-toggleable__control:checked~label.sk-toggleable__label {background-color: #d4ebff;}#sk-container-id-49 div.sk-label input.sk-toggleable__control:checked~label.sk-toggleable__label {background-color: #d4ebff;}#sk-container-id-49 input.sk-hidden--visually {border: 0;clip: rect(1px 1px 1px 1px);clip: rect(1px, 1px, 1px, 1px);height: 1px;margin: -1px;overflow: hidden;padding: 0;position: absolute;width: 1px;}#sk-container-id-49 div.sk-estimator {font-family: monospace;background-color: #f0f8ff;border: 1px dotted black;border-radius: 0.25em;box-sizing: border-box;margin-bottom: 0.5em;}#sk-container-id-49 div.sk-estimator:hover {background-color: #d4ebff;}#sk-container-id-49 div.sk-parallel-item::after {content: \"\";width: 100%;border-bottom: 1px solid gray;flex-grow: 1;}#sk-container-id-49 div.sk-label:hover label.sk-toggleable__label {background-color: #d4ebff;}#sk-container-id-49 div.sk-serial::before {content: \"\";position: absolute;border-left: 1px solid gray;box-sizing: border-box;top: 0;bottom: 0;left: 50%;z-index: 0;}#sk-container-id-49 div.sk-serial {display: flex;flex-direction: column;align-items: center;background-color: white;padding-right: 0.2em;padding-left: 0.2em;position: relative;}#sk-container-id-49 div.sk-item {position: relative;z-index: 1;}#sk-container-id-49 div.sk-parallel {display: flex;align-items: stretch;justify-content: center;background-color: white;position: relative;}#sk-container-id-49 div.sk-item::before, #sk-container-id-49 div.sk-parallel-item::before {content: \"\";position: absolute;border-left: 1px solid gray;box-sizing: border-box;top: 0;bottom: 0;left: 50%;z-index: -1;}#sk-container-id-49 div.sk-parallel-item {display: flex;flex-direction: column;z-index: 1;position: relative;background-color: white;}#sk-container-id-49 div.sk-parallel-item:first-child::after {align-self: flex-end;width: 50%;}#sk-container-id-49 div.sk-parallel-item:last-child::after {align-self: flex-start;width: 50%;}#sk-container-id-49 div.sk-parallel-item:only-child::after {width: 0;}#sk-container-id-49 div.sk-dashed-wrapped {border: 1px dashed gray;margin: 0 0.4em 0.5em 0.4em;box-sizing: border-box;padding-bottom: 0.4em;background-color: white;}#sk-container-id-49 div.sk-label label {font-family: monospace;font-weight: bold;display: inline-block;line-height: 1.2em;}#sk-container-id-49 div.sk-label-container {text-align: center;}#sk-container-id-49 div.sk-container {/* jupyter's `normalize.less` sets `[hidden] { display: none; }` but bootstrap.min.css set `[hidden] { display: none !important; }` so we also need the `!important` here to be able to override the default hidden behavior on the sphinx rendered scikit-learn.org. See: https://github.com/scikit-learn/scikit-learn/issues/21755 */display: inline-block !important;position: relative;}#sk-container-id-49 div.sk-text-repr-fallback {display: none;}</style><div id=\"sk-container-id-49\" class=\"sk-top-container\"><div class=\"sk-text-repr-fallback\"><pre>LogisticRegression()</pre><b>In a Jupyter environment, please rerun this cell to show the HTML representation or trust the notebook. <br />On GitHub, the HTML representation is unable to render, please try loading this page with nbviewer.org.</b></div><div class=\"sk-container\" hidden><div class=\"sk-item\"><div class=\"sk-estimator sk-toggleable\"><input class=\"sk-toggleable__control sk-hidden--visually\" id=\"sk-estimator-id-49\" type=\"checkbox\" checked><label for=\"sk-estimator-id-49\" class=\"sk-toggleable__label sk-toggleable__label-arrow\">LogisticRegression</label><div class=\"sk-toggleable__content\"><pre>LogisticRegression()</pre></div></div></div></div></div>"
            ]
          },
          "metadata": {},
          "execution_count": 560
        }
      ],
      "source": [
        "model3.fit(x_train, y_train)"
      ]
    },
    {
      "cell_type": "code",
      "source": [
        "model4.fit(x_train, y_train)"
      ],
      "metadata": {
        "colab": {
          "base_uri": "https://localhost:8080/",
          "height": 248
        },
        "id": "hFWDJOohrAi3",
        "outputId": "fbcad351-eaf4-416b-bab2-c93022eab231"
      },
      "execution_count": null,
      "outputs": [
        {
          "output_type": "execute_result",
          "data": {
            "text/plain": [
              "XGBClassifier(base_score=None, booster=None, callbacks=None,\n",
              "              colsample_bylevel=None, colsample_bynode=None,\n",
              "              colsample_bytree=None, early_stopping_rounds=None,\n",
              "              enable_categorical=False, eval_metric=None, feature_types=None,\n",
              "              gamma=None, gpu_id=None, grow_policy=None, importance_type=None,\n",
              "              interaction_constraints=None, learning_rate=None, max_bin=None,\n",
              "              max_cat_threshold=None, max_cat_to_onehot=None,\n",
              "              max_delta_step=None, max_depth=None, max_leaves=None,\n",
              "              min_child_weight=None, missing=nan, monotone_constraints=None,\n",
              "              n_estimators=100, n_jobs=None, num_parallel_tree=None,\n",
              "              predictor=None, random_state=None, ...)"
            ],
            "text/html": [
              "<style>#sk-container-id-50 {color: black;background-color: white;}#sk-container-id-50 pre{padding: 0;}#sk-container-id-50 div.sk-toggleable {background-color: white;}#sk-container-id-50 label.sk-toggleable__label {cursor: pointer;display: block;width: 100%;margin-bottom: 0;padding: 0.3em;box-sizing: border-box;text-align: center;}#sk-container-id-50 label.sk-toggleable__label-arrow:before {content: \"▸\";float: left;margin-right: 0.25em;color: #696969;}#sk-container-id-50 label.sk-toggleable__label-arrow:hover:before {color: black;}#sk-container-id-50 div.sk-estimator:hover label.sk-toggleable__label-arrow:before {color: black;}#sk-container-id-50 div.sk-toggleable__content {max-height: 0;max-width: 0;overflow: hidden;text-align: left;background-color: #f0f8ff;}#sk-container-id-50 div.sk-toggleable__content pre {margin: 0.2em;color: black;border-radius: 0.25em;background-color: #f0f8ff;}#sk-container-id-50 input.sk-toggleable__control:checked~div.sk-toggleable__content {max-height: 200px;max-width: 100%;overflow: auto;}#sk-container-id-50 input.sk-toggleable__control:checked~label.sk-toggleable__label-arrow:before {content: \"▾\";}#sk-container-id-50 div.sk-estimator input.sk-toggleable__control:checked~label.sk-toggleable__label {background-color: #d4ebff;}#sk-container-id-50 div.sk-label input.sk-toggleable__control:checked~label.sk-toggleable__label {background-color: #d4ebff;}#sk-container-id-50 input.sk-hidden--visually {border: 0;clip: rect(1px 1px 1px 1px);clip: rect(1px, 1px, 1px, 1px);height: 1px;margin: -1px;overflow: hidden;padding: 0;position: absolute;width: 1px;}#sk-container-id-50 div.sk-estimator {font-family: monospace;background-color: #f0f8ff;border: 1px dotted black;border-radius: 0.25em;box-sizing: border-box;margin-bottom: 0.5em;}#sk-container-id-50 div.sk-estimator:hover {background-color: #d4ebff;}#sk-container-id-50 div.sk-parallel-item::after {content: \"\";width: 100%;border-bottom: 1px solid gray;flex-grow: 1;}#sk-container-id-50 div.sk-label:hover label.sk-toggleable__label {background-color: #d4ebff;}#sk-container-id-50 div.sk-serial::before {content: \"\";position: absolute;border-left: 1px solid gray;box-sizing: border-box;top: 0;bottom: 0;left: 50%;z-index: 0;}#sk-container-id-50 div.sk-serial {display: flex;flex-direction: column;align-items: center;background-color: white;padding-right: 0.2em;padding-left: 0.2em;position: relative;}#sk-container-id-50 div.sk-item {position: relative;z-index: 1;}#sk-container-id-50 div.sk-parallel {display: flex;align-items: stretch;justify-content: center;background-color: white;position: relative;}#sk-container-id-50 div.sk-item::before, #sk-container-id-50 div.sk-parallel-item::before {content: \"\";position: absolute;border-left: 1px solid gray;box-sizing: border-box;top: 0;bottom: 0;left: 50%;z-index: -1;}#sk-container-id-50 div.sk-parallel-item {display: flex;flex-direction: column;z-index: 1;position: relative;background-color: white;}#sk-container-id-50 div.sk-parallel-item:first-child::after {align-self: flex-end;width: 50%;}#sk-container-id-50 div.sk-parallel-item:last-child::after {align-self: flex-start;width: 50%;}#sk-container-id-50 div.sk-parallel-item:only-child::after {width: 0;}#sk-container-id-50 div.sk-dashed-wrapped {border: 1px dashed gray;margin: 0 0.4em 0.5em 0.4em;box-sizing: border-box;padding-bottom: 0.4em;background-color: white;}#sk-container-id-50 div.sk-label label {font-family: monospace;font-weight: bold;display: inline-block;line-height: 1.2em;}#sk-container-id-50 div.sk-label-container {text-align: center;}#sk-container-id-50 div.sk-container {/* jupyter's `normalize.less` sets `[hidden] { display: none; }` but bootstrap.min.css set `[hidden] { display: none !important; }` so we also need the `!important` here to be able to override the default hidden behavior on the sphinx rendered scikit-learn.org. See: https://github.com/scikit-learn/scikit-learn/issues/21755 */display: inline-block !important;position: relative;}#sk-container-id-50 div.sk-text-repr-fallback {display: none;}</style><div id=\"sk-container-id-50\" class=\"sk-top-container\"><div class=\"sk-text-repr-fallback\"><pre>XGBClassifier(base_score=None, booster=None, callbacks=None,\n",
              "              colsample_bylevel=None, colsample_bynode=None,\n",
              "              colsample_bytree=None, early_stopping_rounds=None,\n",
              "              enable_categorical=False, eval_metric=None, feature_types=None,\n",
              "              gamma=None, gpu_id=None, grow_policy=None, importance_type=None,\n",
              "              interaction_constraints=None, learning_rate=None, max_bin=None,\n",
              "              max_cat_threshold=None, max_cat_to_onehot=None,\n",
              "              max_delta_step=None, max_depth=None, max_leaves=None,\n",
              "              min_child_weight=None, missing=nan, monotone_constraints=None,\n",
              "              n_estimators=100, n_jobs=None, num_parallel_tree=None,\n",
              "              predictor=None, random_state=None, ...)</pre><b>In a Jupyter environment, please rerun this cell to show the HTML representation or trust the notebook. <br />On GitHub, the HTML representation is unable to render, please try loading this page with nbviewer.org.</b></div><div class=\"sk-container\" hidden><div class=\"sk-item\"><div class=\"sk-estimator sk-toggleable\"><input class=\"sk-toggleable__control sk-hidden--visually\" id=\"sk-estimator-id-50\" type=\"checkbox\" checked><label for=\"sk-estimator-id-50\" class=\"sk-toggleable__label sk-toggleable__label-arrow\">XGBClassifier</label><div class=\"sk-toggleable__content\"><pre>XGBClassifier(base_score=None, booster=None, callbacks=None,\n",
              "              colsample_bylevel=None, colsample_bynode=None,\n",
              "              colsample_bytree=None, early_stopping_rounds=None,\n",
              "              enable_categorical=False, eval_metric=None, feature_types=None,\n",
              "              gamma=None, gpu_id=None, grow_policy=None, importance_type=None,\n",
              "              interaction_constraints=None, learning_rate=None, max_bin=None,\n",
              "              max_cat_threshold=None, max_cat_to_onehot=None,\n",
              "              max_delta_step=None, max_depth=None, max_leaves=None,\n",
              "              min_child_weight=None, missing=nan, monotone_constraints=None,\n",
              "              n_estimators=100, n_jobs=None, num_parallel_tree=None,\n",
              "              predictor=None, random_state=None, ...)</pre></div></div></div></div></div>"
            ]
          },
          "metadata": {},
          "execution_count": 561
        }
      ]
    },
    {
      "cell_type": "markdown",
      "metadata": {
        "id": "jHia51m_vBWt"
      },
      "source": [
        "### Accuracy Scores and reports"
      ]
    },
    {
      "cell_type": "code",
      "execution_count": null,
      "metadata": {
        "id": "czoC1NgZr_YO",
        "colab": {
          "base_uri": "https://localhost:8080/"
        },
        "outputId": "02eb9aaf-ae80-4f86-98f1-22bf7babf93c"
      },
      "outputs": [
        {
          "output_type": "execute_result",
          "data": {
            "text/plain": [
              "0.99975"
            ]
          },
          "metadata": {},
          "execution_count": 562
        }
      ],
      "source": [
        "model1.score(x_test, y_test)"
      ]
    },
    {
      "cell_type": "code",
      "execution_count": null,
      "metadata": {
        "id": "eEhjnRE3r_fb",
        "colab": {
          "base_uri": "https://localhost:8080/"
        },
        "outputId": "741b9a16-72a8-4281-e591-dab485b4e6f7"
      },
      "outputs": [
        {
          "output_type": "execute_result",
          "data": {
            "text/plain": [
              "0.999625"
            ]
          },
          "metadata": {},
          "execution_count": 563
        }
      ],
      "source": [
        "model2.score(x_test, y_test)"
      ]
    },
    {
      "cell_type": "code",
      "execution_count": null,
      "metadata": {
        "id": "E6Fg_i9IHRI8",
        "colab": {
          "base_uri": "https://localhost:8080/"
        },
        "outputId": "630e4f3a-9e56-4b3a-def6-d44cc1062f7b"
      },
      "outputs": [
        {
          "output_type": "execute_result",
          "data": {
            "text/plain": [
              "0.998125"
            ]
          },
          "metadata": {},
          "execution_count": 564
        }
      ],
      "source": [
        "model3.score(x_test, y_test)"
      ]
    },
    {
      "cell_type": "code",
      "source": [
        "model4.score(x_test, y_test)"
      ],
      "metadata": {
        "colab": {
          "base_uri": "https://localhost:8080/"
        },
        "id": "jMLTjdV9rIHr",
        "outputId": "1de83877-9f34-41d0-b904-ef7367f3b2fc"
      },
      "execution_count": null,
      "outputs": [
        {
          "output_type": "execute_result",
          "data": {
            "text/plain": [
              "0.99975"
            ]
          },
          "metadata": {},
          "execution_count": 565
        }
      ]
    },
    {
      "cell_type": "code",
      "execution_count": null,
      "metadata": {
        "id": "S3_Tp15Bp2OS"
      },
      "outputs": [],
      "source": [
        "y_pred1= model1.predict(x_test)"
      ]
    },
    {
      "cell_type": "code",
      "execution_count": null,
      "metadata": {
        "id": "UABNae-SsGuE"
      },
      "outputs": [],
      "source": [
        "y_pred2= model2.predict(x_test)"
      ]
    },
    {
      "cell_type": "code",
      "execution_count": null,
      "metadata": {
        "id": "4tCgN2VHsGxX"
      },
      "outputs": [],
      "source": [
        "y_pred3= model3.predict(x_test)"
      ]
    },
    {
      "cell_type": "code",
      "source": [
        "y_pred4= model4.predict(x_test)"
      ],
      "metadata": {
        "id": "HqBiQ4pRrPKz"
      },
      "execution_count": null,
      "outputs": []
    },
    {
      "cell_type": "code",
      "execution_count": null,
      "metadata": {
        "id": "nT-GYFg_p9vr"
      },
      "outputs": [],
      "source": [
        "report1=classification_report(y_test,y_pred1)"
      ]
    },
    {
      "cell_type": "code",
      "execution_count": null,
      "metadata": {
        "id": "cS79w-cMsUpj"
      },
      "outputs": [],
      "source": [
        "report2=classification_report(y_test,y_pred2)"
      ]
    },
    {
      "cell_type": "code",
      "execution_count": null,
      "metadata": {
        "id": "OLq168HQsUs9"
      },
      "outputs": [],
      "source": [
        "report3=classification_report(y_test,y_pred3)"
      ]
    },
    {
      "cell_type": "code",
      "source": [
        "report4= classification_report(y_test, y_pred4)"
      ],
      "metadata": {
        "id": "jg_439JnrU_C"
      },
      "execution_count": null,
      "outputs": []
    },
    {
      "cell_type": "code",
      "execution_count": null,
      "metadata": {
        "id": "f_z25-xtqL3h",
        "colab": {
          "base_uri": "https://localhost:8080/"
        },
        "outputId": "71dc7075-a23f-41ea-8bd7-b5bdd22ada8b"
      },
      "outputs": [
        {
          "output_type": "stream",
          "name": "stdout",
          "text": [
            "              precision    recall  f1-score   support\n",
            "\n",
            "         0.0       1.00      1.00      1.00      7979\n",
            "         1.0       1.00      0.90      0.95        21\n",
            "\n",
            "    accuracy                           1.00      8000\n",
            "   macro avg       1.00      0.95      0.97      8000\n",
            "weighted avg       1.00      1.00      1.00      8000\n",
            "\n"
          ]
        }
      ],
      "source": [
        "print(report1)"
      ]
    },
    {
      "cell_type": "code",
      "execution_count": null,
      "metadata": {
        "id": "eske7VUisaXM",
        "colab": {
          "base_uri": "https://localhost:8080/"
        },
        "outputId": "ae64e484-05fa-4902-9a40-4fbea74d6343"
      },
      "outputs": [
        {
          "output_type": "stream",
          "name": "stdout",
          "text": [
            "              precision    recall  f1-score   support\n",
            "\n",
            "         0.0       1.00      1.00      1.00      7979\n",
            "         1.0       1.00      0.86      0.92        21\n",
            "\n",
            "    accuracy                           1.00      8000\n",
            "   macro avg       1.00      0.93      0.96      8000\n",
            "weighted avg       1.00      1.00      1.00      8000\n",
            "\n"
          ]
        }
      ],
      "source": [
        "print(report2)"
      ]
    },
    {
      "cell_type": "code",
      "execution_count": null,
      "metadata": {
        "id": "fo-GGyN7saak",
        "colab": {
          "base_uri": "https://localhost:8080/"
        },
        "outputId": "c88ab0ff-3f3d-4787-a6ce-c25c7584f424"
      },
      "outputs": [
        {
          "output_type": "stream",
          "name": "stdout",
          "text": [
            "              precision    recall  f1-score   support\n",
            "\n",
            "         0.0       1.00      1.00      1.00      7979\n",
            "         1.0       0.65      0.62      0.63        21\n",
            "\n",
            "    accuracy                           1.00      8000\n",
            "   macro avg       0.82      0.81      0.82      8000\n",
            "weighted avg       1.00      1.00      1.00      8000\n",
            "\n"
          ]
        }
      ],
      "source": [
        "print(report3)"
      ]
    },
    {
      "cell_type": "code",
      "source": [
        "print(report4)"
      ],
      "metadata": {
        "colab": {
          "base_uri": "https://localhost:8080/"
        },
        "id": "YSnvimIyreOk",
        "outputId": "35ea0125-f4f7-49d1-9226-260bb27a199e"
      },
      "execution_count": null,
      "outputs": [
        {
          "output_type": "stream",
          "name": "stdout",
          "text": [
            "              precision    recall  f1-score   support\n",
            "\n",
            "         0.0       1.00      1.00      1.00      7979\n",
            "         1.0       1.00      0.90      0.95        21\n",
            "\n",
            "    accuracy                           1.00      8000\n",
            "   macro avg       1.00      0.95      0.97      8000\n",
            "weighted avg       1.00      1.00      1.00      8000\n",
            "\n"
          ]
        }
      ]
    },
    {
      "cell_type": "code",
      "execution_count": null,
      "metadata": {
        "id": "1458xJVWqPPG",
        "colab": {
          "base_uri": "https://localhost:8080/"
        },
        "outputId": "2aae6ab6-cffc-4840-f6bc-f36f0ca91fdb"
      },
      "outputs": [
        {
          "output_type": "execute_result",
          "data": {
            "text/plain": [
              "0.99975"
            ]
          },
          "metadata": {},
          "execution_count": 578
        }
      ],
      "source": [
        "accuracy_score(y_test, y_pred1)"
      ]
    },
    {
      "cell_type": "code",
      "execution_count": null,
      "metadata": {
        "id": "DaVl-tOFqWKt",
        "colab": {
          "base_uri": "https://localhost:8080/"
        },
        "outputId": "639fe196-bb09-4505-aa97-6c26bd66e97d"
      },
      "outputs": [
        {
          "output_type": "execute_result",
          "data": {
            "text/plain": [
              "0.999625"
            ]
          },
          "metadata": {},
          "execution_count": 579
        }
      ],
      "source": [
        "accuracy_score(y_test, y_pred2)"
      ]
    },
    {
      "cell_type": "code",
      "execution_count": null,
      "metadata": {
        "id": "GcMHlS_Csgx3",
        "colab": {
          "base_uri": "https://localhost:8080/"
        },
        "outputId": "c1318992-11b1-4252-81f0-2b2a14b8087f"
      },
      "outputs": [
        {
          "output_type": "execute_result",
          "data": {
            "text/plain": [
              "0.998125"
            ]
          },
          "metadata": {},
          "execution_count": 580
        }
      ],
      "source": [
        "accuracy_score(y_test, y_pred3)\n"
      ]
    },
    {
      "cell_type": "code",
      "source": [
        "accuracy_score(y_test, y_pred4)"
      ],
      "metadata": {
        "colab": {
          "base_uri": "https://localhost:8080/"
        },
        "id": "L5dSCgYirlew",
        "outputId": "78e3f02b-3564-4508-a41a-3737600931e0"
      },
      "execution_count": null,
      "outputs": [
        {
          "output_type": "execute_result",
          "data": {
            "text/plain": [
              "0.99975"
            ]
          },
          "metadata": {},
          "execution_count": 581
        }
      ]
    },
    {
      "cell_type": "markdown",
      "metadata": {
        "id": "KwM7jMgpa1Un"
      },
      "source": [
        "###***With SMOTE***"
      ]
    },
    {
      "cell_type": "code",
      "execution_count": null,
      "metadata": {
        "id": "2X0OJNPmZtBW",
        "colab": {
          "base_uri": "https://localhost:8080/",
          "height": 74
        },
        "outputId": "5e07e2f6-8413-48c8-ce11-d60c4948d824"
      },
      "outputs": [
        {
          "output_type": "execute_result",
          "data": {
            "text/plain": [
              "RandomForestClassifier()"
            ],
            "text/html": [
              "<style>#sk-container-id-51 {color: black;background-color: white;}#sk-container-id-51 pre{padding: 0;}#sk-container-id-51 div.sk-toggleable {background-color: white;}#sk-container-id-51 label.sk-toggleable__label {cursor: pointer;display: block;width: 100%;margin-bottom: 0;padding: 0.3em;box-sizing: border-box;text-align: center;}#sk-container-id-51 label.sk-toggleable__label-arrow:before {content: \"▸\";float: left;margin-right: 0.25em;color: #696969;}#sk-container-id-51 label.sk-toggleable__label-arrow:hover:before {color: black;}#sk-container-id-51 div.sk-estimator:hover label.sk-toggleable__label-arrow:before {color: black;}#sk-container-id-51 div.sk-toggleable__content {max-height: 0;max-width: 0;overflow: hidden;text-align: left;background-color: #f0f8ff;}#sk-container-id-51 div.sk-toggleable__content pre {margin: 0.2em;color: black;border-radius: 0.25em;background-color: #f0f8ff;}#sk-container-id-51 input.sk-toggleable__control:checked~div.sk-toggleable__content {max-height: 200px;max-width: 100%;overflow: auto;}#sk-container-id-51 input.sk-toggleable__control:checked~label.sk-toggleable__label-arrow:before {content: \"▾\";}#sk-container-id-51 div.sk-estimator input.sk-toggleable__control:checked~label.sk-toggleable__label {background-color: #d4ebff;}#sk-container-id-51 div.sk-label input.sk-toggleable__control:checked~label.sk-toggleable__label {background-color: #d4ebff;}#sk-container-id-51 input.sk-hidden--visually {border: 0;clip: rect(1px 1px 1px 1px);clip: rect(1px, 1px, 1px, 1px);height: 1px;margin: -1px;overflow: hidden;padding: 0;position: absolute;width: 1px;}#sk-container-id-51 div.sk-estimator {font-family: monospace;background-color: #f0f8ff;border: 1px dotted black;border-radius: 0.25em;box-sizing: border-box;margin-bottom: 0.5em;}#sk-container-id-51 div.sk-estimator:hover {background-color: #d4ebff;}#sk-container-id-51 div.sk-parallel-item::after {content: \"\";width: 100%;border-bottom: 1px solid gray;flex-grow: 1;}#sk-container-id-51 div.sk-label:hover label.sk-toggleable__label {background-color: #d4ebff;}#sk-container-id-51 div.sk-serial::before {content: \"\";position: absolute;border-left: 1px solid gray;box-sizing: border-box;top: 0;bottom: 0;left: 50%;z-index: 0;}#sk-container-id-51 div.sk-serial {display: flex;flex-direction: column;align-items: center;background-color: white;padding-right: 0.2em;padding-left: 0.2em;position: relative;}#sk-container-id-51 div.sk-item {position: relative;z-index: 1;}#sk-container-id-51 div.sk-parallel {display: flex;align-items: stretch;justify-content: center;background-color: white;position: relative;}#sk-container-id-51 div.sk-item::before, #sk-container-id-51 div.sk-parallel-item::before {content: \"\";position: absolute;border-left: 1px solid gray;box-sizing: border-box;top: 0;bottom: 0;left: 50%;z-index: -1;}#sk-container-id-51 div.sk-parallel-item {display: flex;flex-direction: column;z-index: 1;position: relative;background-color: white;}#sk-container-id-51 div.sk-parallel-item:first-child::after {align-self: flex-end;width: 50%;}#sk-container-id-51 div.sk-parallel-item:last-child::after {align-self: flex-start;width: 50%;}#sk-container-id-51 div.sk-parallel-item:only-child::after {width: 0;}#sk-container-id-51 div.sk-dashed-wrapped {border: 1px dashed gray;margin: 0 0.4em 0.5em 0.4em;box-sizing: border-box;padding-bottom: 0.4em;background-color: white;}#sk-container-id-51 div.sk-label label {font-family: monospace;font-weight: bold;display: inline-block;line-height: 1.2em;}#sk-container-id-51 div.sk-label-container {text-align: center;}#sk-container-id-51 div.sk-container {/* jupyter's `normalize.less` sets `[hidden] { display: none; }` but bootstrap.min.css set `[hidden] { display: none !important; }` so we also need the `!important` here to be able to override the default hidden behavior on the sphinx rendered scikit-learn.org. See: https://github.com/scikit-learn/scikit-learn/issues/21755 */display: inline-block !important;position: relative;}#sk-container-id-51 div.sk-text-repr-fallback {display: none;}</style><div id=\"sk-container-id-51\" class=\"sk-top-container\"><div class=\"sk-text-repr-fallback\"><pre>RandomForestClassifier()</pre><b>In a Jupyter environment, please rerun this cell to show the HTML representation or trust the notebook. <br />On GitHub, the HTML representation is unable to render, please try loading this page with nbviewer.org.</b></div><div class=\"sk-container\" hidden><div class=\"sk-item\"><div class=\"sk-estimator sk-toggleable\"><input class=\"sk-toggleable__control sk-hidden--visually\" id=\"sk-estimator-id-51\" type=\"checkbox\" checked><label for=\"sk-estimator-id-51\" class=\"sk-toggleable__label sk-toggleable__label-arrow\">RandomForestClassifier</label><div class=\"sk-toggleable__content\"><pre>RandomForestClassifier()</pre></div></div></div></div></div>"
            ]
          },
          "metadata": {},
          "execution_count": 582
        }
      ],
      "source": [
        "model1.fit(X_train, Y_train)"
      ]
    },
    {
      "cell_type": "code",
      "execution_count": null,
      "metadata": {
        "id": "PfAZbbAZZtEC",
        "colab": {
          "base_uri": "https://localhost:8080/",
          "height": 74
        },
        "outputId": "e6fdc6d5-3ab1-4e6d-c0f3-0d90a3080fc8"
      },
      "outputs": [
        {
          "output_type": "execute_result",
          "data": {
            "text/plain": [
              "DecisionTreeClassifier()"
            ],
            "text/html": [
              "<style>#sk-container-id-52 {color: black;background-color: white;}#sk-container-id-52 pre{padding: 0;}#sk-container-id-52 div.sk-toggleable {background-color: white;}#sk-container-id-52 label.sk-toggleable__label {cursor: pointer;display: block;width: 100%;margin-bottom: 0;padding: 0.3em;box-sizing: border-box;text-align: center;}#sk-container-id-52 label.sk-toggleable__label-arrow:before {content: \"▸\";float: left;margin-right: 0.25em;color: #696969;}#sk-container-id-52 label.sk-toggleable__label-arrow:hover:before {color: black;}#sk-container-id-52 div.sk-estimator:hover label.sk-toggleable__label-arrow:before {color: black;}#sk-container-id-52 div.sk-toggleable__content {max-height: 0;max-width: 0;overflow: hidden;text-align: left;background-color: #f0f8ff;}#sk-container-id-52 div.sk-toggleable__content pre {margin: 0.2em;color: black;border-radius: 0.25em;background-color: #f0f8ff;}#sk-container-id-52 input.sk-toggleable__control:checked~div.sk-toggleable__content {max-height: 200px;max-width: 100%;overflow: auto;}#sk-container-id-52 input.sk-toggleable__control:checked~label.sk-toggleable__label-arrow:before {content: \"▾\";}#sk-container-id-52 div.sk-estimator input.sk-toggleable__control:checked~label.sk-toggleable__label {background-color: #d4ebff;}#sk-container-id-52 div.sk-label input.sk-toggleable__control:checked~label.sk-toggleable__label {background-color: #d4ebff;}#sk-container-id-52 input.sk-hidden--visually {border: 0;clip: rect(1px 1px 1px 1px);clip: rect(1px, 1px, 1px, 1px);height: 1px;margin: -1px;overflow: hidden;padding: 0;position: absolute;width: 1px;}#sk-container-id-52 div.sk-estimator {font-family: monospace;background-color: #f0f8ff;border: 1px dotted black;border-radius: 0.25em;box-sizing: border-box;margin-bottom: 0.5em;}#sk-container-id-52 div.sk-estimator:hover {background-color: #d4ebff;}#sk-container-id-52 div.sk-parallel-item::after {content: \"\";width: 100%;border-bottom: 1px solid gray;flex-grow: 1;}#sk-container-id-52 div.sk-label:hover label.sk-toggleable__label {background-color: #d4ebff;}#sk-container-id-52 div.sk-serial::before {content: \"\";position: absolute;border-left: 1px solid gray;box-sizing: border-box;top: 0;bottom: 0;left: 50%;z-index: 0;}#sk-container-id-52 div.sk-serial {display: flex;flex-direction: column;align-items: center;background-color: white;padding-right: 0.2em;padding-left: 0.2em;position: relative;}#sk-container-id-52 div.sk-item {position: relative;z-index: 1;}#sk-container-id-52 div.sk-parallel {display: flex;align-items: stretch;justify-content: center;background-color: white;position: relative;}#sk-container-id-52 div.sk-item::before, #sk-container-id-52 div.sk-parallel-item::before {content: \"\";position: absolute;border-left: 1px solid gray;box-sizing: border-box;top: 0;bottom: 0;left: 50%;z-index: -1;}#sk-container-id-52 div.sk-parallel-item {display: flex;flex-direction: column;z-index: 1;position: relative;background-color: white;}#sk-container-id-52 div.sk-parallel-item:first-child::after {align-self: flex-end;width: 50%;}#sk-container-id-52 div.sk-parallel-item:last-child::after {align-self: flex-start;width: 50%;}#sk-container-id-52 div.sk-parallel-item:only-child::after {width: 0;}#sk-container-id-52 div.sk-dashed-wrapped {border: 1px dashed gray;margin: 0 0.4em 0.5em 0.4em;box-sizing: border-box;padding-bottom: 0.4em;background-color: white;}#sk-container-id-52 div.sk-label label {font-family: monospace;font-weight: bold;display: inline-block;line-height: 1.2em;}#sk-container-id-52 div.sk-label-container {text-align: center;}#sk-container-id-52 div.sk-container {/* jupyter's `normalize.less` sets `[hidden] { display: none; }` but bootstrap.min.css set `[hidden] { display: none !important; }` so we also need the `!important` here to be able to override the default hidden behavior on the sphinx rendered scikit-learn.org. See: https://github.com/scikit-learn/scikit-learn/issues/21755 */display: inline-block !important;position: relative;}#sk-container-id-52 div.sk-text-repr-fallback {display: none;}</style><div id=\"sk-container-id-52\" class=\"sk-top-container\"><div class=\"sk-text-repr-fallback\"><pre>DecisionTreeClassifier()</pre><b>In a Jupyter environment, please rerun this cell to show the HTML representation or trust the notebook. <br />On GitHub, the HTML representation is unable to render, please try loading this page with nbviewer.org.</b></div><div class=\"sk-container\" hidden><div class=\"sk-item\"><div class=\"sk-estimator sk-toggleable\"><input class=\"sk-toggleable__control sk-hidden--visually\" id=\"sk-estimator-id-52\" type=\"checkbox\" checked><label for=\"sk-estimator-id-52\" class=\"sk-toggleable__label sk-toggleable__label-arrow\">DecisionTreeClassifier</label><div class=\"sk-toggleable__content\"><pre>DecisionTreeClassifier()</pre></div></div></div></div></div>"
            ]
          },
          "metadata": {},
          "execution_count": 583
        }
      ],
      "source": [
        "model2.fit(X_train, Y_train)"
      ]
    },
    {
      "cell_type": "code",
      "execution_count": null,
      "metadata": {
        "id": "LVaJTdzdZtGV",
        "colab": {
          "base_uri": "https://localhost:8080/",
          "height": 213
        },
        "outputId": "7c6852c6-72c6-4ee8-9ea6-12bd59fe617d"
      },
      "outputs": [
        {
          "output_type": "stream",
          "name": "stderr",
          "text": [
            "/usr/local/lib/python3.10/dist-packages/sklearn/linear_model/_logistic.py:458: ConvergenceWarning: lbfgs failed to converge (status=1):\n",
            "STOP: TOTAL NO. of ITERATIONS REACHED LIMIT.\n",
            "\n",
            "Increase the number of iterations (max_iter) or scale the data as shown in:\n",
            "    https://scikit-learn.org/stable/modules/preprocessing.html\n",
            "Please also refer to the documentation for alternative solver options:\n",
            "    https://scikit-learn.org/stable/modules/linear_model.html#logistic-regression\n",
            "  n_iter_i = _check_optimize_result(\n"
          ]
        },
        {
          "output_type": "execute_result",
          "data": {
            "text/plain": [
              "LogisticRegression()"
            ],
            "text/html": [
              "<style>#sk-container-id-53 {color: black;background-color: white;}#sk-container-id-53 pre{padding: 0;}#sk-container-id-53 div.sk-toggleable {background-color: white;}#sk-container-id-53 label.sk-toggleable__label {cursor: pointer;display: block;width: 100%;margin-bottom: 0;padding: 0.3em;box-sizing: border-box;text-align: center;}#sk-container-id-53 label.sk-toggleable__label-arrow:before {content: \"▸\";float: left;margin-right: 0.25em;color: #696969;}#sk-container-id-53 label.sk-toggleable__label-arrow:hover:before {color: black;}#sk-container-id-53 div.sk-estimator:hover label.sk-toggleable__label-arrow:before {color: black;}#sk-container-id-53 div.sk-toggleable__content {max-height: 0;max-width: 0;overflow: hidden;text-align: left;background-color: #f0f8ff;}#sk-container-id-53 div.sk-toggleable__content pre {margin: 0.2em;color: black;border-radius: 0.25em;background-color: #f0f8ff;}#sk-container-id-53 input.sk-toggleable__control:checked~div.sk-toggleable__content {max-height: 200px;max-width: 100%;overflow: auto;}#sk-container-id-53 input.sk-toggleable__control:checked~label.sk-toggleable__label-arrow:before {content: \"▾\";}#sk-container-id-53 div.sk-estimator input.sk-toggleable__control:checked~label.sk-toggleable__label {background-color: #d4ebff;}#sk-container-id-53 div.sk-label input.sk-toggleable__control:checked~label.sk-toggleable__label {background-color: #d4ebff;}#sk-container-id-53 input.sk-hidden--visually {border: 0;clip: rect(1px 1px 1px 1px);clip: rect(1px, 1px, 1px, 1px);height: 1px;margin: -1px;overflow: hidden;padding: 0;position: absolute;width: 1px;}#sk-container-id-53 div.sk-estimator {font-family: monospace;background-color: #f0f8ff;border: 1px dotted black;border-radius: 0.25em;box-sizing: border-box;margin-bottom: 0.5em;}#sk-container-id-53 div.sk-estimator:hover {background-color: #d4ebff;}#sk-container-id-53 div.sk-parallel-item::after {content: \"\";width: 100%;border-bottom: 1px solid gray;flex-grow: 1;}#sk-container-id-53 div.sk-label:hover label.sk-toggleable__label {background-color: #d4ebff;}#sk-container-id-53 div.sk-serial::before {content: \"\";position: absolute;border-left: 1px solid gray;box-sizing: border-box;top: 0;bottom: 0;left: 50%;z-index: 0;}#sk-container-id-53 div.sk-serial {display: flex;flex-direction: column;align-items: center;background-color: white;padding-right: 0.2em;padding-left: 0.2em;position: relative;}#sk-container-id-53 div.sk-item {position: relative;z-index: 1;}#sk-container-id-53 div.sk-parallel {display: flex;align-items: stretch;justify-content: center;background-color: white;position: relative;}#sk-container-id-53 div.sk-item::before, #sk-container-id-53 div.sk-parallel-item::before {content: \"\";position: absolute;border-left: 1px solid gray;box-sizing: border-box;top: 0;bottom: 0;left: 50%;z-index: -1;}#sk-container-id-53 div.sk-parallel-item {display: flex;flex-direction: column;z-index: 1;position: relative;background-color: white;}#sk-container-id-53 div.sk-parallel-item:first-child::after {align-self: flex-end;width: 50%;}#sk-container-id-53 div.sk-parallel-item:last-child::after {align-self: flex-start;width: 50%;}#sk-container-id-53 div.sk-parallel-item:only-child::after {width: 0;}#sk-container-id-53 div.sk-dashed-wrapped {border: 1px dashed gray;margin: 0 0.4em 0.5em 0.4em;box-sizing: border-box;padding-bottom: 0.4em;background-color: white;}#sk-container-id-53 div.sk-label label {font-family: monospace;font-weight: bold;display: inline-block;line-height: 1.2em;}#sk-container-id-53 div.sk-label-container {text-align: center;}#sk-container-id-53 div.sk-container {/* jupyter's `normalize.less` sets `[hidden] { display: none; }` but bootstrap.min.css set `[hidden] { display: none !important; }` so we also need the `!important` here to be able to override the default hidden behavior on the sphinx rendered scikit-learn.org. See: https://github.com/scikit-learn/scikit-learn/issues/21755 */display: inline-block !important;position: relative;}#sk-container-id-53 div.sk-text-repr-fallback {display: none;}</style><div id=\"sk-container-id-53\" class=\"sk-top-container\"><div class=\"sk-text-repr-fallback\"><pre>LogisticRegression()</pre><b>In a Jupyter environment, please rerun this cell to show the HTML representation or trust the notebook. <br />On GitHub, the HTML representation is unable to render, please try loading this page with nbviewer.org.</b></div><div class=\"sk-container\" hidden><div class=\"sk-item\"><div class=\"sk-estimator sk-toggleable\"><input class=\"sk-toggleable__control sk-hidden--visually\" id=\"sk-estimator-id-53\" type=\"checkbox\" checked><label for=\"sk-estimator-id-53\" class=\"sk-toggleable__label sk-toggleable__label-arrow\">LogisticRegression</label><div class=\"sk-toggleable__content\"><pre>LogisticRegression()</pre></div></div></div></div></div>"
            ]
          },
          "metadata": {},
          "execution_count": 584
        }
      ],
      "source": [
        "model3.fit(X_train, Y_train)"
      ]
    },
    {
      "cell_type": "code",
      "source": [
        "model4.fit(X_train, Y_train)"
      ],
      "metadata": {
        "colab": {
          "base_uri": "https://localhost:8080/",
          "height": 248
        },
        "id": "DYN0WK6hr2Yv",
        "outputId": "db9cd900-099b-43ee-99cf-802d170afd82"
      },
      "execution_count": null,
      "outputs": [
        {
          "output_type": "execute_result",
          "data": {
            "text/plain": [
              "XGBClassifier(base_score=None, booster=None, callbacks=None,\n",
              "              colsample_bylevel=None, colsample_bynode=None,\n",
              "              colsample_bytree=None, early_stopping_rounds=None,\n",
              "              enable_categorical=False, eval_metric=None, feature_types=None,\n",
              "              gamma=None, gpu_id=None, grow_policy=None, importance_type=None,\n",
              "              interaction_constraints=None, learning_rate=None, max_bin=None,\n",
              "              max_cat_threshold=None, max_cat_to_onehot=None,\n",
              "              max_delta_step=None, max_depth=None, max_leaves=None,\n",
              "              min_child_weight=None, missing=nan, monotone_constraints=None,\n",
              "              n_estimators=100, n_jobs=None, num_parallel_tree=None,\n",
              "              predictor=None, random_state=None, ...)"
            ],
            "text/html": [
              "<style>#sk-container-id-54 {color: black;background-color: white;}#sk-container-id-54 pre{padding: 0;}#sk-container-id-54 div.sk-toggleable {background-color: white;}#sk-container-id-54 label.sk-toggleable__label {cursor: pointer;display: block;width: 100%;margin-bottom: 0;padding: 0.3em;box-sizing: border-box;text-align: center;}#sk-container-id-54 label.sk-toggleable__label-arrow:before {content: \"▸\";float: left;margin-right: 0.25em;color: #696969;}#sk-container-id-54 label.sk-toggleable__label-arrow:hover:before {color: black;}#sk-container-id-54 div.sk-estimator:hover label.sk-toggleable__label-arrow:before {color: black;}#sk-container-id-54 div.sk-toggleable__content {max-height: 0;max-width: 0;overflow: hidden;text-align: left;background-color: #f0f8ff;}#sk-container-id-54 div.sk-toggleable__content pre {margin: 0.2em;color: black;border-radius: 0.25em;background-color: #f0f8ff;}#sk-container-id-54 input.sk-toggleable__control:checked~div.sk-toggleable__content {max-height: 200px;max-width: 100%;overflow: auto;}#sk-container-id-54 input.sk-toggleable__control:checked~label.sk-toggleable__label-arrow:before {content: \"▾\";}#sk-container-id-54 div.sk-estimator input.sk-toggleable__control:checked~label.sk-toggleable__label {background-color: #d4ebff;}#sk-container-id-54 div.sk-label input.sk-toggleable__control:checked~label.sk-toggleable__label {background-color: #d4ebff;}#sk-container-id-54 input.sk-hidden--visually {border: 0;clip: rect(1px 1px 1px 1px);clip: rect(1px, 1px, 1px, 1px);height: 1px;margin: -1px;overflow: hidden;padding: 0;position: absolute;width: 1px;}#sk-container-id-54 div.sk-estimator {font-family: monospace;background-color: #f0f8ff;border: 1px dotted black;border-radius: 0.25em;box-sizing: border-box;margin-bottom: 0.5em;}#sk-container-id-54 div.sk-estimator:hover {background-color: #d4ebff;}#sk-container-id-54 div.sk-parallel-item::after {content: \"\";width: 100%;border-bottom: 1px solid gray;flex-grow: 1;}#sk-container-id-54 div.sk-label:hover label.sk-toggleable__label {background-color: #d4ebff;}#sk-container-id-54 div.sk-serial::before {content: \"\";position: absolute;border-left: 1px solid gray;box-sizing: border-box;top: 0;bottom: 0;left: 50%;z-index: 0;}#sk-container-id-54 div.sk-serial {display: flex;flex-direction: column;align-items: center;background-color: white;padding-right: 0.2em;padding-left: 0.2em;position: relative;}#sk-container-id-54 div.sk-item {position: relative;z-index: 1;}#sk-container-id-54 div.sk-parallel {display: flex;align-items: stretch;justify-content: center;background-color: white;position: relative;}#sk-container-id-54 div.sk-item::before, #sk-container-id-54 div.sk-parallel-item::before {content: \"\";position: absolute;border-left: 1px solid gray;box-sizing: border-box;top: 0;bottom: 0;left: 50%;z-index: -1;}#sk-container-id-54 div.sk-parallel-item {display: flex;flex-direction: column;z-index: 1;position: relative;background-color: white;}#sk-container-id-54 div.sk-parallel-item:first-child::after {align-self: flex-end;width: 50%;}#sk-container-id-54 div.sk-parallel-item:last-child::after {align-self: flex-start;width: 50%;}#sk-container-id-54 div.sk-parallel-item:only-child::after {width: 0;}#sk-container-id-54 div.sk-dashed-wrapped {border: 1px dashed gray;margin: 0 0.4em 0.5em 0.4em;box-sizing: border-box;padding-bottom: 0.4em;background-color: white;}#sk-container-id-54 div.sk-label label {font-family: monospace;font-weight: bold;display: inline-block;line-height: 1.2em;}#sk-container-id-54 div.sk-label-container {text-align: center;}#sk-container-id-54 div.sk-container {/* jupyter's `normalize.less` sets `[hidden] { display: none; }` but bootstrap.min.css set `[hidden] { display: none !important; }` so we also need the `!important` here to be able to override the default hidden behavior on the sphinx rendered scikit-learn.org. See: https://github.com/scikit-learn/scikit-learn/issues/21755 */display: inline-block !important;position: relative;}#sk-container-id-54 div.sk-text-repr-fallback {display: none;}</style><div id=\"sk-container-id-54\" class=\"sk-top-container\"><div class=\"sk-text-repr-fallback\"><pre>XGBClassifier(base_score=None, booster=None, callbacks=None,\n",
              "              colsample_bylevel=None, colsample_bynode=None,\n",
              "              colsample_bytree=None, early_stopping_rounds=None,\n",
              "              enable_categorical=False, eval_metric=None, feature_types=None,\n",
              "              gamma=None, gpu_id=None, grow_policy=None, importance_type=None,\n",
              "              interaction_constraints=None, learning_rate=None, max_bin=None,\n",
              "              max_cat_threshold=None, max_cat_to_onehot=None,\n",
              "              max_delta_step=None, max_depth=None, max_leaves=None,\n",
              "              min_child_weight=None, missing=nan, monotone_constraints=None,\n",
              "              n_estimators=100, n_jobs=None, num_parallel_tree=None,\n",
              "              predictor=None, random_state=None, ...)</pre><b>In a Jupyter environment, please rerun this cell to show the HTML representation or trust the notebook. <br />On GitHub, the HTML representation is unable to render, please try loading this page with nbviewer.org.</b></div><div class=\"sk-container\" hidden><div class=\"sk-item\"><div class=\"sk-estimator sk-toggleable\"><input class=\"sk-toggleable__control sk-hidden--visually\" id=\"sk-estimator-id-54\" type=\"checkbox\" checked><label for=\"sk-estimator-id-54\" class=\"sk-toggleable__label sk-toggleable__label-arrow\">XGBClassifier</label><div class=\"sk-toggleable__content\"><pre>XGBClassifier(base_score=None, booster=None, callbacks=None,\n",
              "              colsample_bylevel=None, colsample_bynode=None,\n",
              "              colsample_bytree=None, early_stopping_rounds=None,\n",
              "              enable_categorical=False, eval_metric=None, feature_types=None,\n",
              "              gamma=None, gpu_id=None, grow_policy=None, importance_type=None,\n",
              "              interaction_constraints=None, learning_rate=None, max_bin=None,\n",
              "              max_cat_threshold=None, max_cat_to_onehot=None,\n",
              "              max_delta_step=None, max_depth=None, max_leaves=None,\n",
              "              min_child_weight=None, missing=nan, monotone_constraints=None,\n",
              "              n_estimators=100, n_jobs=None, num_parallel_tree=None,\n",
              "              predictor=None, random_state=None, ...)</pre></div></div></div></div></div>"
            ]
          },
          "metadata": {},
          "execution_count": 585
        }
      ]
    },
    {
      "cell_type": "code",
      "execution_count": null,
      "metadata": {
        "id": "GoeM2fP4ZtIw",
        "colab": {
          "base_uri": "https://localhost:8080/"
        },
        "outputId": "da46178f-8bf6-4bb7-afe9-e9a85e6bd8fb"
      },
      "outputs": [
        {
          "output_type": "execute_result",
          "data": {
            "text/plain": [
              "1.0"
            ]
          },
          "metadata": {},
          "execution_count": 586
        }
      ],
      "source": [
        "model1.score(x_test, y_test)"
      ]
    },
    {
      "cell_type": "code",
      "execution_count": null,
      "metadata": {
        "id": "ZbjWb-tnZtLD",
        "colab": {
          "base_uri": "https://localhost:8080/"
        },
        "outputId": "9c6e6f20-df4c-441f-abe0-d497aa709a50"
      },
      "outputs": [
        {
          "output_type": "execute_result",
          "data": {
            "text/plain": [
              "0.998809374608347"
            ]
          },
          "metadata": {},
          "execution_count": 587
        }
      ],
      "source": [
        "model2.score(X_test, Y_test)"
      ]
    },
    {
      "cell_type": "code",
      "execution_count": null,
      "metadata": {
        "id": "GgTHglKtZtNu",
        "colab": {
          "base_uri": "https://localhost:8080/"
        },
        "outputId": "9b256dbe-8e1d-4172-9229-ffadd194e88f"
      },
      "outputs": [
        {
          "output_type": "execute_result",
          "data": {
            "text/plain": [
              "0.9785687429502444"
            ]
          },
          "metadata": {},
          "execution_count": 588
        }
      ],
      "source": [
        "model3.score(X_test, Y_test)"
      ]
    },
    {
      "cell_type": "code",
      "source": [
        "model4.score(X_test, Y_test)"
      ],
      "metadata": {
        "colab": {
          "base_uri": "https://localhost:8080/"
        },
        "id": "z2tXhPz0sAxL",
        "outputId": "4bf6b834-01b7-4a9f-e533-5ad8611305fa"
      },
      "execution_count": null,
      "outputs": [
        {
          "output_type": "execute_result",
          "data": {
            "text/plain": [
              "0.9997493420228099"
            ]
          },
          "metadata": {},
          "execution_count": 589
        }
      ]
    },
    {
      "cell_type": "code",
      "execution_count": null,
      "metadata": {
        "id": "5acpH8WkZtQU"
      },
      "outputs": [],
      "source": [
        "Y_pred1= model1.predict(X_test)"
      ]
    },
    {
      "cell_type": "code",
      "execution_count": null,
      "metadata": {
        "id": "kQGday0HZtSz"
      },
      "outputs": [],
      "source": [
        "Y_pred2= model2.predict(X_test)"
      ]
    },
    {
      "cell_type": "code",
      "execution_count": null,
      "metadata": {
        "id": "k_NbV2TgZtVW"
      },
      "outputs": [],
      "source": [
        "Y_pred3= model3.predict(X_test)"
      ]
    },
    {
      "cell_type": "code",
      "source": [
        "Y_pred4= model4.predict(X_test)"
      ],
      "metadata": {
        "id": "_kS9EDVesRs1"
      },
      "execution_count": null,
      "outputs": []
    },
    {
      "cell_type": "code",
      "execution_count": null,
      "metadata": {
        "id": "S9r7lzS4ZtYo"
      },
      "outputs": [],
      "source": [
        "Report1=classification_report(Y_test,Y_pred1)"
      ]
    },
    {
      "cell_type": "code",
      "execution_count": null,
      "metadata": {
        "id": "I6wiTMz4Ztcg"
      },
      "outputs": [],
      "source": [
        "Report2=classification_report(Y_test,Y_pred2)"
      ]
    },
    {
      "cell_type": "code",
      "execution_count": null,
      "metadata": {
        "id": "ZJqQ7_fsZtfc"
      },
      "outputs": [],
      "source": [
        "Report3=classification_report(Y_test,Y_pred3)"
      ]
    },
    {
      "cell_type": "code",
      "source": [
        "Report4=classification_report(Y_test,Y_pred4)"
      ],
      "metadata": {
        "id": "xR9woRx4sWJI"
      },
      "execution_count": null,
      "outputs": []
    },
    {
      "cell_type": "code",
      "execution_count": null,
      "metadata": {
        "id": "NoKwJd1oZtiJ",
        "colab": {
          "base_uri": "https://localhost:8080/"
        },
        "outputId": "2e0fb613-aac8-4fa2-8039-220e13d42268"
      },
      "outputs": [
        {
          "output_type": "stream",
          "name": "stdout",
          "text": [
            "              precision    recall  f1-score   support\n",
            "\n",
            "         0.0       1.00      1.00      1.00      7982\n",
            "         1.0       1.00      1.00      1.00      7976\n",
            "\n",
            "    accuracy                           1.00     15958\n",
            "   macro avg       1.00      1.00      1.00     15958\n",
            "weighted avg       1.00      1.00      1.00     15958\n",
            "\n"
          ]
        }
      ],
      "source": [
        "print(Report1)"
      ]
    },
    {
      "cell_type": "code",
      "execution_count": null,
      "metadata": {
        "id": "yLNwXtwMZtlX",
        "colab": {
          "base_uri": "https://localhost:8080/"
        },
        "outputId": "84575629-d4ba-423f-91e9-e9e28dac92a5"
      },
      "outputs": [
        {
          "output_type": "stream",
          "name": "stdout",
          "text": [
            "              precision    recall  f1-score   support\n",
            "\n",
            "         0.0       1.00      1.00      1.00      7982\n",
            "         1.0       1.00      1.00      1.00      7976\n",
            "\n",
            "    accuracy                           1.00     15958\n",
            "   macro avg       1.00      1.00      1.00     15958\n",
            "weighted avg       1.00      1.00      1.00     15958\n",
            "\n"
          ]
        }
      ],
      "source": [
        "print(Report2)"
      ]
    },
    {
      "cell_type": "code",
      "execution_count": null,
      "metadata": {
        "id": "zBEaDNGiamUI",
        "colab": {
          "base_uri": "https://localhost:8080/"
        },
        "outputId": "032bb162-9799-4bc3-de2a-e8dcebf8a457"
      },
      "outputs": [
        {
          "output_type": "stream",
          "name": "stdout",
          "text": [
            "              precision    recall  f1-score   support\n",
            "\n",
            "         0.0       0.98      0.98      0.98      7982\n",
            "         1.0       0.98      0.97      0.98      7976\n",
            "\n",
            "    accuracy                           0.98     15958\n",
            "   macro avg       0.98      0.98      0.98     15958\n",
            "weighted avg       0.98      0.98      0.98     15958\n",
            "\n"
          ]
        }
      ],
      "source": [
        "print(Report3)"
      ]
    },
    {
      "cell_type": "code",
      "source": [
        "print(Report4)"
      ],
      "metadata": {
        "colab": {
          "base_uri": "https://localhost:8080/"
        },
        "id": "qWjZM4gBsZ6G",
        "outputId": "bbc771ce-0033-494b-b115-4110f6709b73"
      },
      "execution_count": null,
      "outputs": [
        {
          "output_type": "stream",
          "name": "stdout",
          "text": [
            "              precision    recall  f1-score   support\n",
            "\n",
            "         0.0       1.00      1.00      1.00      7982\n",
            "         1.0       1.00      1.00      1.00      7976\n",
            "\n",
            "    accuracy                           1.00     15958\n",
            "   macro avg       1.00      1.00      1.00     15958\n",
            "weighted avg       1.00      1.00      1.00     15958\n",
            "\n"
          ]
        }
      ]
    },
    {
      "cell_type": "code",
      "execution_count": null,
      "metadata": {
        "id": "iI1qiCF2asoj",
        "colab": {
          "base_uri": "https://localhost:8080/"
        },
        "outputId": "cf62c0ce-8ace-429f-bb93-41d21f535129"
      },
      "outputs": [
        {
          "output_type": "execute_result",
          "data": {
            "text/plain": [
              "0.9998120065171074"
            ]
          },
          "metadata": {},
          "execution_count": 602
        }
      ],
      "source": [
        "accuracy_score(Y_test, Y_pred1)"
      ]
    },
    {
      "cell_type": "code",
      "execution_count": null,
      "metadata": {
        "id": "qlNkkq_gasdX",
        "colab": {
          "base_uri": "https://localhost:8080/"
        },
        "outputId": "a1924d11-5c29-4abf-eac2-7b5f67c4260c"
      },
      "outputs": [
        {
          "output_type": "execute_result",
          "data": {
            "text/plain": [
              "0.998809374608347"
            ]
          },
          "metadata": {},
          "execution_count": 603
        }
      ],
      "source": [
        "accuracy_score(Y_test, Y_pred2)"
      ]
    },
    {
      "cell_type": "code",
      "execution_count": null,
      "metadata": {
        "id": "5xXHrWjSasIR",
        "colab": {
          "base_uri": "https://localhost:8080/"
        },
        "outputId": "806f7bc1-c3fe-43bb-bf8a-fcc990f3f7aa"
      },
      "outputs": [
        {
          "output_type": "execute_result",
          "data": {
            "text/plain": [
              "0.9785687429502444"
            ]
          },
          "metadata": {},
          "execution_count": 604
        }
      ],
      "source": [
        "accuracy_score(Y_test, Y_pred3)"
      ]
    },
    {
      "cell_type": "code",
      "source": [
        "accuracy_score(Y_test, Y_pred4)"
      ],
      "metadata": {
        "colab": {
          "base_uri": "https://localhost:8080/"
        },
        "id": "X9OGkz2ascJ6",
        "outputId": "659f8eb0-02ed-477f-c8ef-add40979be9a"
      },
      "execution_count": null,
      "outputs": [
        {
          "output_type": "execute_result",
          "data": {
            "text/plain": [
              "0.9997493420228099"
            ]
          },
          "metadata": {},
          "execution_count": 605
        }
      ]
    },
    {
      "cell_type": "markdown",
      "metadata": {
        "id": "ETP9QoGH5EGE"
      },
      "source": [
        "### Support Vector Machine model with Scikit-Learn"
      ]
    },
    {
      "cell_type": "markdown",
      "metadata": {
        "id": "H9Jx_vHgU_Jw"
      },
      "source": [
        "SVM is a powerful and widely used machine learning algorithm for both classification and regression tasks."
      ]
    },
    {
      "cell_type": "code",
      "execution_count": null,
      "metadata": {
        "id": "q15D6gGGw48V"
      },
      "outputs": [],
      "source": [
        "sklearn_svm = LinearSVC(class_weight='balanced', random_state=31, loss=\"hinge\", fit_intercept=False)"
      ]
    },
    {
      "cell_type": "code",
      "execution_count": null,
      "metadata": {
        "id": "ZrUj8bgszN3v",
        "colab": {
          "base_uri": "https://localhost:8080/"
        },
        "outputId": "ddd134ba-af8f-4b23-b2b9-a4ab23a0b992"
      },
      "outputs": [
        {
          "output_type": "stream",
          "name": "stdout",
          "text": [
            "[Scikit-Learn] Training time (s):  8.08\n"
          ]
        },
        {
          "output_type": "stream",
          "name": "stderr",
          "text": [
            "/usr/local/lib/python3.10/dist-packages/sklearn/svm/_base.py:1244: ConvergenceWarning: Liblinear failed to converge, increase the number of iterations.\n",
            "  warnings.warn(\n"
          ]
        }
      ],
      "source": [
        "t0 = time.time()\n",
        "sklearn_svm.fit(x_train, y_train)\n",
        "sklearn_time = time.time() - t0\n",
        "print(\"[Scikit-Learn] Training time (s):  {0:.2f}\".format(sklearn_time))"
      ]
    },
    {
      "cell_type": "code",
      "execution_count": null,
      "metadata": {
        "id": "_Oz5WCVFzuQ2"
      },
      "outputs": [],
      "source": [
        "prediction=sklearn_svm.predict(x_test)"
      ]
    },
    {
      "cell_type": "code",
      "execution_count": null,
      "metadata": {
        "id": "qDxsr_gnz4W8",
        "colab": {
          "base_uri": "https://localhost:8080/"
        },
        "outputId": "af296f20-c258-4b59-ecca-ea82afcaa84c"
      },
      "outputs": [
        {
          "output_type": "stream",
          "name": "stdout",
          "text": [
            "Accuracy: 0.944\n",
            "Confusion Matrix:\n",
            "[[7533  446]\n",
            " [   2   19]]\n"
          ]
        }
      ],
      "source": [
        "accuracy = accuracy_score(y_test, prediction)\n",
        "print(\"Accuracy:\", accuracy)\n",
        "\n",
        "confusion_matrix = confusion_matrix(y_test, prediction)\n",
        "print(\"Confusion Matrix:\")\n",
        "print(confusion_matrix)\n"
      ]
    },
    {
      "cell_type": "markdown",
      "metadata": {
        "id": "9LIfDY_2_EGp"
      },
      "source": [
        "### Classifier"
      ]
    },
    {
      "cell_type": "markdown",
      "metadata": {
        "id": "mwmSzAujWHGD"
      },
      "source": [
        "KNN is a simple and effective classification algorithm that predicts the class of a sample based on the majority class among its k nearest neighbors in the feature space.\n",
        "\n"
      ]
    },
    {
      "cell_type": "code",
      "execution_count": null,
      "metadata": {
        "id": "cmoaaO8W82yp"
      },
      "outputs": [],
      "source": [
        "KNN_model = KNeighborsClassifier(n_neighbors=5)"
      ]
    },
    {
      "cell_type": "code",
      "execution_count": null,
      "metadata": {
        "id": "rd1qrM-K-G1f",
        "colab": {
          "base_uri": "https://localhost:8080/",
          "height": 74
        },
        "outputId": "e02cf576-c39d-4692-bdf8-d705c94ee12b"
      },
      "outputs": [
        {
          "output_type": "execute_result",
          "data": {
            "text/plain": [
              "KNeighborsClassifier()"
            ],
            "text/html": [
              "<style>#sk-container-id-55 {color: black;background-color: white;}#sk-container-id-55 pre{padding: 0;}#sk-container-id-55 div.sk-toggleable {background-color: white;}#sk-container-id-55 label.sk-toggleable__label {cursor: pointer;display: block;width: 100%;margin-bottom: 0;padding: 0.3em;box-sizing: border-box;text-align: center;}#sk-container-id-55 label.sk-toggleable__label-arrow:before {content: \"▸\";float: left;margin-right: 0.25em;color: #696969;}#sk-container-id-55 label.sk-toggleable__label-arrow:hover:before {color: black;}#sk-container-id-55 div.sk-estimator:hover label.sk-toggleable__label-arrow:before {color: black;}#sk-container-id-55 div.sk-toggleable__content {max-height: 0;max-width: 0;overflow: hidden;text-align: left;background-color: #f0f8ff;}#sk-container-id-55 div.sk-toggleable__content pre {margin: 0.2em;color: black;border-radius: 0.25em;background-color: #f0f8ff;}#sk-container-id-55 input.sk-toggleable__control:checked~div.sk-toggleable__content {max-height: 200px;max-width: 100%;overflow: auto;}#sk-container-id-55 input.sk-toggleable__control:checked~label.sk-toggleable__label-arrow:before {content: \"▾\";}#sk-container-id-55 div.sk-estimator input.sk-toggleable__control:checked~label.sk-toggleable__label {background-color: #d4ebff;}#sk-container-id-55 div.sk-label input.sk-toggleable__control:checked~label.sk-toggleable__label {background-color: #d4ebff;}#sk-container-id-55 input.sk-hidden--visually {border: 0;clip: rect(1px 1px 1px 1px);clip: rect(1px, 1px, 1px, 1px);height: 1px;margin: -1px;overflow: hidden;padding: 0;position: absolute;width: 1px;}#sk-container-id-55 div.sk-estimator {font-family: monospace;background-color: #f0f8ff;border: 1px dotted black;border-radius: 0.25em;box-sizing: border-box;margin-bottom: 0.5em;}#sk-container-id-55 div.sk-estimator:hover {background-color: #d4ebff;}#sk-container-id-55 div.sk-parallel-item::after {content: \"\";width: 100%;border-bottom: 1px solid gray;flex-grow: 1;}#sk-container-id-55 div.sk-label:hover label.sk-toggleable__label {background-color: #d4ebff;}#sk-container-id-55 div.sk-serial::before {content: \"\";position: absolute;border-left: 1px solid gray;box-sizing: border-box;top: 0;bottom: 0;left: 50%;z-index: 0;}#sk-container-id-55 div.sk-serial {display: flex;flex-direction: column;align-items: center;background-color: white;padding-right: 0.2em;padding-left: 0.2em;position: relative;}#sk-container-id-55 div.sk-item {position: relative;z-index: 1;}#sk-container-id-55 div.sk-parallel {display: flex;align-items: stretch;justify-content: center;background-color: white;position: relative;}#sk-container-id-55 div.sk-item::before, #sk-container-id-55 div.sk-parallel-item::before {content: \"\";position: absolute;border-left: 1px solid gray;box-sizing: border-box;top: 0;bottom: 0;left: 50%;z-index: -1;}#sk-container-id-55 div.sk-parallel-item {display: flex;flex-direction: column;z-index: 1;position: relative;background-color: white;}#sk-container-id-55 div.sk-parallel-item:first-child::after {align-self: flex-end;width: 50%;}#sk-container-id-55 div.sk-parallel-item:last-child::after {align-self: flex-start;width: 50%;}#sk-container-id-55 div.sk-parallel-item:only-child::after {width: 0;}#sk-container-id-55 div.sk-dashed-wrapped {border: 1px dashed gray;margin: 0 0.4em 0.5em 0.4em;box-sizing: border-box;padding-bottom: 0.4em;background-color: white;}#sk-container-id-55 div.sk-label label {font-family: monospace;font-weight: bold;display: inline-block;line-height: 1.2em;}#sk-container-id-55 div.sk-label-container {text-align: center;}#sk-container-id-55 div.sk-container {/* jupyter's `normalize.less` sets `[hidden] { display: none; }` but bootstrap.min.css set `[hidden] { display: none !important; }` so we also need the `!important` here to be able to override the default hidden behavior on the sphinx rendered scikit-learn.org. See: https://github.com/scikit-learn/scikit-learn/issues/21755 */display: inline-block !important;position: relative;}#sk-container-id-55 div.sk-text-repr-fallback {display: none;}</style><div id=\"sk-container-id-55\" class=\"sk-top-container\"><div class=\"sk-text-repr-fallback\"><pre>KNeighborsClassifier()</pre><b>In a Jupyter environment, please rerun this cell to show the HTML representation or trust the notebook. <br />On GitHub, the HTML representation is unable to render, please try loading this page with nbviewer.org.</b></div><div class=\"sk-container\" hidden><div class=\"sk-item\"><div class=\"sk-estimator sk-toggleable\"><input class=\"sk-toggleable__control sk-hidden--visually\" id=\"sk-estimator-id-55\" type=\"checkbox\" checked><label for=\"sk-estimator-id-55\" class=\"sk-toggleable__label sk-toggleable__label-arrow\">KNeighborsClassifier</label><div class=\"sk-toggleable__content\"><pre>KNeighborsClassifier()</pre></div></div></div></div></div>"
            ]
          },
          "metadata": {},
          "execution_count": 611
        }
      ],
      "source": [
        "KNN_model.fit(x_train, y_train)"
      ]
    },
    {
      "cell_type": "code",
      "execution_count": null,
      "metadata": {
        "id": "XGTfFnDa-QL5"
      },
      "outputs": [],
      "source": [
        "KNN_prediction = KNN_model.predict(x_test)"
      ]
    },
    {
      "cell_type": "code",
      "execution_count": null,
      "metadata": {
        "id": "rep-1Nnb-wtk",
        "colab": {
          "base_uri": "https://localhost:8080/"
        },
        "outputId": "e94fd68c-8b73-4193-e05e-f2ddbed5abcb"
      },
      "outputs": [
        {
          "output_type": "stream",
          "name": "stdout",
          "text": [
            "0.9995\n"
          ]
        }
      ],
      "source": [
        "print(accuracy_score(KNN_prediction, y_test))"
      ]
    },
    {
      "cell_type": "code",
      "execution_count": null,
      "metadata": {
        "id": "YqBZiuhW-1DM",
        "colab": {
          "base_uri": "https://localhost:8080/"
        },
        "outputId": "8d9f763b-44d5-4507-d5e3-68d46549038d"
      },
      "outputs": [
        {
          "output_type": "stream",
          "name": "stdout",
          "text": [
            "              precision    recall  f1-score   support\n",
            "\n",
            "         0.0       1.00      1.00      1.00      7983\n",
            "         1.0       0.81      1.00      0.89        17\n",
            "\n",
            "    accuracy                           1.00      8000\n",
            "   macro avg       0.90      1.00      0.95      8000\n",
            "weighted avg       1.00      1.00      1.00      8000\n",
            "\n"
          ]
        }
      ],
      "source": [
        "print(classification_report(KNN_prediction, y_test))"
      ]
    },
    {
      "cell_type": "markdown",
      "metadata": {
        "id": "CtqBQZbNBVUG"
      },
      "source": [
        "### PCA"
      ]
    },
    {
      "cell_type": "code",
      "execution_count": null,
      "metadata": {
        "id": "fQ9DOjTC-7wU"
      },
      "outputs": [],
      "source": [
        "scaler = StandardScaler()\n",
        "X_scaled = scaler.fit_transform(x)"
      ]
    },
    {
      "cell_type": "code",
      "execution_count": null,
      "metadata": {
        "id": "9nRQcaf5_rp1",
        "colab": {
          "base_uri": "https://localhost:8080/",
          "height": 74
        },
        "outputId": "9181c4cf-a0d9-4cdd-a6b7-c010145f5880"
      },
      "outputs": [
        {
          "output_type": "execute_result",
          "data": {
            "text/plain": [
              "PCA()"
            ],
            "text/html": [
              "<style>#sk-container-id-56 {color: black;background-color: white;}#sk-container-id-56 pre{padding: 0;}#sk-container-id-56 div.sk-toggleable {background-color: white;}#sk-container-id-56 label.sk-toggleable__label {cursor: pointer;display: block;width: 100%;margin-bottom: 0;padding: 0.3em;box-sizing: border-box;text-align: center;}#sk-container-id-56 label.sk-toggleable__label-arrow:before {content: \"▸\";float: left;margin-right: 0.25em;color: #696969;}#sk-container-id-56 label.sk-toggleable__label-arrow:hover:before {color: black;}#sk-container-id-56 div.sk-estimator:hover label.sk-toggleable__label-arrow:before {color: black;}#sk-container-id-56 div.sk-toggleable__content {max-height: 0;max-width: 0;overflow: hidden;text-align: left;background-color: #f0f8ff;}#sk-container-id-56 div.sk-toggleable__content pre {margin: 0.2em;color: black;border-radius: 0.25em;background-color: #f0f8ff;}#sk-container-id-56 input.sk-toggleable__control:checked~div.sk-toggleable__content {max-height: 200px;max-width: 100%;overflow: auto;}#sk-container-id-56 input.sk-toggleable__control:checked~label.sk-toggleable__label-arrow:before {content: \"▾\";}#sk-container-id-56 div.sk-estimator input.sk-toggleable__control:checked~label.sk-toggleable__label {background-color: #d4ebff;}#sk-container-id-56 div.sk-label input.sk-toggleable__control:checked~label.sk-toggleable__label {background-color: #d4ebff;}#sk-container-id-56 input.sk-hidden--visually {border: 0;clip: rect(1px 1px 1px 1px);clip: rect(1px, 1px, 1px, 1px);height: 1px;margin: -1px;overflow: hidden;padding: 0;position: absolute;width: 1px;}#sk-container-id-56 div.sk-estimator {font-family: monospace;background-color: #f0f8ff;border: 1px dotted black;border-radius: 0.25em;box-sizing: border-box;margin-bottom: 0.5em;}#sk-container-id-56 div.sk-estimator:hover {background-color: #d4ebff;}#sk-container-id-56 div.sk-parallel-item::after {content: \"\";width: 100%;border-bottom: 1px solid gray;flex-grow: 1;}#sk-container-id-56 div.sk-label:hover label.sk-toggleable__label {background-color: #d4ebff;}#sk-container-id-56 div.sk-serial::before {content: \"\";position: absolute;border-left: 1px solid gray;box-sizing: border-box;top: 0;bottom: 0;left: 50%;z-index: 0;}#sk-container-id-56 div.sk-serial {display: flex;flex-direction: column;align-items: center;background-color: white;padding-right: 0.2em;padding-left: 0.2em;position: relative;}#sk-container-id-56 div.sk-item {position: relative;z-index: 1;}#sk-container-id-56 div.sk-parallel {display: flex;align-items: stretch;justify-content: center;background-color: white;position: relative;}#sk-container-id-56 div.sk-item::before, #sk-container-id-56 div.sk-parallel-item::before {content: \"\";position: absolute;border-left: 1px solid gray;box-sizing: border-box;top: 0;bottom: 0;left: 50%;z-index: -1;}#sk-container-id-56 div.sk-parallel-item {display: flex;flex-direction: column;z-index: 1;position: relative;background-color: white;}#sk-container-id-56 div.sk-parallel-item:first-child::after {align-self: flex-end;width: 50%;}#sk-container-id-56 div.sk-parallel-item:last-child::after {align-self: flex-start;width: 50%;}#sk-container-id-56 div.sk-parallel-item:only-child::after {width: 0;}#sk-container-id-56 div.sk-dashed-wrapped {border: 1px dashed gray;margin: 0 0.4em 0.5em 0.4em;box-sizing: border-box;padding-bottom: 0.4em;background-color: white;}#sk-container-id-56 div.sk-label label {font-family: monospace;font-weight: bold;display: inline-block;line-height: 1.2em;}#sk-container-id-56 div.sk-label-container {text-align: center;}#sk-container-id-56 div.sk-container {/* jupyter's `normalize.less` sets `[hidden] { display: none; }` but bootstrap.min.css set `[hidden] { display: none !important; }` so we also need the `!important` here to be able to override the default hidden behavior on the sphinx rendered scikit-learn.org. See: https://github.com/scikit-learn/scikit-learn/issues/21755 */display: inline-block !important;position: relative;}#sk-container-id-56 div.sk-text-repr-fallback {display: none;}</style><div id=\"sk-container-id-56\" class=\"sk-top-container\"><div class=\"sk-text-repr-fallback\"><pre>PCA()</pre><b>In a Jupyter environment, please rerun this cell to show the HTML representation or trust the notebook. <br />On GitHub, the HTML representation is unable to render, please try loading this page with nbviewer.org.</b></div><div class=\"sk-container\" hidden><div class=\"sk-item\"><div class=\"sk-estimator sk-toggleable\"><input class=\"sk-toggleable__control sk-hidden--visually\" id=\"sk-estimator-id-56\" type=\"checkbox\" checked><label for=\"sk-estimator-id-56\" class=\"sk-toggleable__label sk-toggleable__label-arrow\">PCA</label><div class=\"sk-toggleable__content\"><pre>PCA()</pre></div></div></div></div></div>"
            ]
          },
          "metadata": {},
          "execution_count": 616
        }
      ],
      "source": [
        "pca = PCA()\n",
        "\n",
        "pca.fit(X_scaled)"
      ]
    },
    {
      "cell_type": "markdown",
      "metadata": {
        "id": "bmB1TR5EXw-d"
      },
      "source": [
        "After fitting the PCA model to the scaled data using pca.fit(X_scaled), We can access the 'explained_variance_ratio_' attribute to obtain the variance explained by each principal component. The explained_variance_ratio_ attribute is a numpy array that contains the percentage of variance explained by each principal component in descending order."
      ]
    },
    {
      "cell_type": "code",
      "execution_count": null,
      "metadata": {
        "id": "j1T8iXlYAETe"
      },
      "outputs": [],
      "source": [
        "explained_variance_ratio = pca.explained_variance_ratio_"
      ]
    },
    {
      "cell_type": "markdown",
      "metadata": {
        "id": "1NNO869_YBIv"
      },
      "source": [
        " Ploting the cumulative explained variance ratio for each principal component. This plot is a useful visualization to help you understand how much variance is retained as you increase the number of principal components."
      ]
    },
    {
      "cell_type": "code",
      "execution_count": null,
      "metadata": {
        "id": "B2Cta0H9AIlB",
        "colab": {
          "base_uri": "https://localhost:8080/",
          "height": 449
        },
        "outputId": "ddfe3455-588a-4c36-d4a6-f838348951d1"
      },
      "outputs": [
        {
          "output_type": "display_data",
          "data": {
            "text/plain": [
              "<Figure size 640x480 with 1 Axes>"
            ],
            "image/png": "[encoded data removed]"
          },
          "metadata": {}
        }
      ],
      "source": [
        "cumulative_variance_ratio = np.cumsum(explained_variance_ratio)\n",
        "plt.plot(range(1, len(cumulative_variance_ratio) + 1), cumulative_variance_ratio)\n",
        "plt.xlabel('Number of Components')\n",
        "plt.ylabel('Cumulative Explained Variance Ratio')\n",
        "plt.grid(True)\n",
        "plt.show()"
      ]
    },
    {
      "cell_type": "markdown",
      "metadata": {
        "id": "4CwvBHjkYQz2"
      },
      "source": [
        "We have used the transformed principal components obtained from PCA to reduce the number of dimensions in your dataset to 'n_components = 2'. This step retains only the first n_components principal components, effectively reducing the dimensionality of the dataset."
      ]
    },
    {
      "cell_type": "code",
      "execution_count": null,
      "metadata": {
        "id": "Ao9F6bzXANTl"
      },
      "outputs": [],
      "source": [
        "n_components = 2\n",
        "X_transformed = pca.transform(X_scaled)[:, :n_components]"
      ]
    },
    {
      "cell_type": "code",
      "execution_count": null,
      "metadata": {
        "id": "7Fc-2wYzAY8W",
        "colab": {
          "base_uri": "https://localhost:8080/"
        },
        "outputId": "ac9b9167-70eb-4d8d-841c-e876cf68194b"
      },
      "outputs": [
        {
          "output_type": "stream",
          "name": "stdout",
          "text": [
            "Accuracy without PCA: 0.9995\n"
          ]
        }
      ],
      "source": [
        "knn_without_pca = KNeighborsClassifier()\n",
        "knn_without_pca.fit(x_train, y_train)\n",
        "accuracy_without_pca = knn_without_pca.score(x_test, y_test)\n",
        "\n",
        "print(\"Accuracy without PCA:\", accuracy_without_pca)"
      ]
    },
    {
      "cell_type": "code",
      "execution_count": null,
      "metadata": {
        "id": "F8HGRx_FAxIV",
        "colab": {
          "base_uri": "https://localhost:8080/"
        },
        "outputId": "1801ac72-ee1a-407b-b9eb-080d46cdd4d5"
      },
      "outputs": [
        {
          "output_type": "stream",
          "name": "stdout",
          "text": [
            "Accuracy with PCA: 0.998375\n"
          ]
        }
      ],
      "source": [
        "x_train_pca, x_test_pca, y_train_pca, y_test_pca = train_test_split(X_transformed, y, test_size=0.2, random_state=42)\n",
        "\n",
        "knn_with_pca = KNeighborsClassifier()\n",
        "knn_with_pca.fit(x_train_pca, y_train_pca)\n",
        "accuracy_with_pca = knn_with_pca.score(x_test_pca, y_test_pca)\n",
        "\n",
        "print(\"Accuracy with PCA:\", accuracy_with_pca)"
      ]
    }
  ],
  "metadata": {
    "colab": {
      "provenance": [],
      "include_colab_link": true
    },
    "kernelspec": {
      "display_name": "Python 3",
      "name": "python3"
    },
    "language_info": {
      "name": "python"
    }
  },
  "nbformat": 4,
  "nbformat_minor": 0
}